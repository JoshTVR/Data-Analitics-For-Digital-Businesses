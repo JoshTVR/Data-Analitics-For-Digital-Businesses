{
 "cells": [
  {
   "cell_type": "markdown",
   "id": "d48f30f5",
   "metadata": {},
   "source": [
    "# Basic Operations with Python\n",
    "\n",
    "## Declaring variables and asign data types\n",
    "\n",
    "\"\" We describe the data types and how they work \"\""
   ]
  },
  {
   "cell_type": "code",
   "execution_count": null,
   "id": "43510325",
   "metadata": {},
   "outputs": [
    {
     "name": "stdout",
     "output_type": "stream",
     "text": [
      "1 2.3 True False Hola mundo Hola Negocios Digitales\n"
     ]
    }
   ],
   "source": [
    "# Variable declaration of variables and data types\n",
    "\n",
    "a = 1 # int type variable\n",
    "b = 2.3 # float type variable\n",
    "c = True # boolean type variable\n",
    "d = False # boolean type variable\n",
    "e = \"Hola mundo\" # Chain type variable\n",
    "f = 'Hola Negocios Digitales' # Chain type variable\n",
    "\n",
    "print(a,b,c,d,e,f)"
   ]
  }
 ],
 "metadata": {
  "kernelspec": {
   "display_name": "base",
   "language": "python",
   "name": "python3"
  },
  "language_info": {
   "codemirror_mode": {
    "name": "ipython",
    "version": 3
   },
   "file_extension": ".py",
   "mimetype": "text/x-python",
   "name": "python",
   "nbconvert_exporter": "python",
   "pygments_lexer": "ipython3",
   "version": "3.12.8"
  }
 },
 "nbformat": 4,
 "nbformat_minor": 5
}
