{
 "cells": [
  {
   "cell_type": "markdown",
   "id": "bbe0c7d3",
   "metadata": {},
   "source": [
    "## INTERPOLACION DE \n",
    "\n",
    "\n",
    "### Obetivos:\n",
    "\n",
    "  - aprender a imprimir string\n",
    "  - aprender a interpolar variables dentrod e strings\n",
    "---\n",
    "  ### Desarrollo"
   ]
  },
  {
   "cell_type": "markdown",
   "id": "0e6af665",
   "metadata": {},
   "source": [
    "podemos hacer anotaciones en ouputs de nuestro codigo de esta manera"
   ]
  },
  {
   "cell_type": "code",
   "execution_count": 3,
   "id": "a85593e7",
   "metadata": {},
   "outputs": [
    {
     "name": "stdout",
     "output_type": "stream",
     "text": [
      "Suma de var_1 y var_2\n",
      "38.7\n"
     ]
    }
   ],
   "source": [
    "var_1 = 15.3\n",
    "var_2 = 23.4\n",
    "\n",
    "print(\"Suma de var_1 y var_2\")\n",
    "print(var_1 + var_2)"
   ]
  },
  {
   "cell_type": "markdown",
   "id": "103e9f47",
   "metadata": {},
   "source": [
    "Pero a veces resulta necesario o deseable interpolar el valor de la variable dentro de dicho string. para esto utilizamos las llamadas f-strings. el formato de una 's-strings' es el siguiente:\n",
    "\n",
    "`f\"esto es texto\" {esto_es_una_variable} esto es mas texto\"`\n",
    "\n",
    "_Esccribiendo un f antes de las comilla le indicamos a Python que lo que pongas dentro de las llaves ({}) sera codigo de Python. En este casi, una variable asignada previamente._\n",
    "\n",
    "*Ahora podemos hacer lo siguiente*:"
   ]
  },
  {
   "cell_type": "code",
   "execution_count": 4,
   "id": "be7073fb",
   "metadata": {},
   "outputs": [
    {
     "name": "stdout",
     "output_type": "stream",
     "text": [
      "Resultado=67.3\n"
     ]
    }
   ],
   "source": [
    "var_3 = 43\n",
    "var_4 = 24.3\n",
    "\n",
    "suma = var_3 + var_4\n",
    "\n",
    "print(f\"Resultado={suma}\")"
   ]
  },
  {
   "cell_type": "code",
   "execution_count": 6,
   "id": "e8c72bf1",
   "metadata": {},
   "outputs": [
    {
     "name": "stdout",
     "output_type": "stream",
     "text": [
      "El nombre del Programa es: ola y la suma de los valores 12.0 + 22.0 es: 34.0\n"
     ]
    }
   ],
   "source": [
    "nombre_programa = input('Introduce el Nombre del Programa')\n",
    "var_3 = float(input('Introduce el primer valor'))\n",
    "var_4 = float(input('Introduce el segundo valor'))\n",
    "\n",
    "suma = var_3 + var_4\n",
    "\n",
    "print(f'El nombre del Programa es: {nombre_programa} y la suma de los valores {var_3} + {var_4} es: {suma}')\n"
   ]
  },
  {
   "cell_type": "code",
   "execution_count": null,
   "id": "29678af0",
   "metadata": {},
   "outputs": [],
   "source": [
    "def sumar(numero_1, numero_2):\n",
    "    return numero_1 + numero_2\n",
    "\n",
    "var_3 = float(input('Introduce el primer valor'))\n",
    "var_4 = float(input('Introduce el segundo valor'))\n",
    "\n",
    "sumar = sumar(var_3, var_4)\n",
    "\n",
    "print(sumar)\n"
   ]
  }
 ],
 "metadata": {
  "kernelspec": {
   "display_name": "base",
   "language": "python",
   "name": "python3"
  },
  "language_info": {
   "codemirror_mode": {
    "name": "ipython",
    "version": 3
   },
   "file_extension": ".py",
   "mimetype": "text/x-python",
   "name": "python",
   "nbconvert_exporter": "python",
   "pygments_lexer": "ipython3",
   "version": "3.12.8"
  }
 },
 "nbformat": 4,
 "nbformat_minor": 5
}
