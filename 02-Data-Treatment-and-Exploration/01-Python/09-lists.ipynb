{
 "cells": [
  {
   "cell_type": "markdown",
   "id": "7bd5dbbd",
   "metadata": {},
   "source": [
    "## Listas\n",
    "### Objetivos\n",
    "\n",
    " - Entender la sintaxis de las listas de Python\n",
    " - Aprender a crear listas y accederlas\n",
    "\n",
    " ---\n",
    "\n",
    "### Desarrollo\n"
   ]
  },
  {
   "cell_type": "markdown",
   "id": "d7e1b118",
   "metadata": {},
   "source": [
    "**Creando listas y accediendo a ellas**\n",
    "Las listas son secuencias ordenadas. El orden de los datos en la lista es el mismo orden que tienen los datos a la hora de ser asignados. Una lista se ve asi."
   ]
  },
  {
   "cell_type": "code",
   "execution_count": null,
   "id": "6f954eb6",
   "metadata": {},
   "outputs": [
    {
     "data": {
      "text/plain": [
       "[1, 6, 8, 3, 4]"
      ]
     },
     "metadata": {},
     "output_type": "display_data"
    }
   ],
   "source": [
    "lista_1 = [1,6,8,3,4]\n",
    "lista_1"
   ]
  },
  {
   "cell_type": "code",
   "execution_count": null,
   "id": "dfda5e74",
   "metadata": {},
   "outputs": [
    {
     "data": {
      "text/plain": [
       "list"
      ]
     },
     "metadata": {},
     "output_type": "display_data"
    }
   ],
   "source": [
    "type(lista_1)"
   ]
  },
  {
   "cell_type": "markdown",
   "id": "da9571cd",
   "metadata": {},
   "source": [
    "Cada elemento de la lista tiene un indice que se usa para acceder a dicho elemento. Dado que las listas son rdenadas los indices se van asignando secuelcialmente desde el primer elemento hasta el ultimo. El primer indice es siempre `0` y por lo tanto el ultimo indice es siempre `n-1`, donde `n` es e numero final de elementos en la lista."
   ]
  },
  {
   "cell_type": "code",
   "execution_count": null,
   "id": "9ced6332",
   "metadata": {},
   "outputs": [
    {
     "name": "stdout",
     "output_type": "stream",
     "text": [
      "Primer elemento de la lista: 1\n",
      "Ultimo elemento de la lista: 4\n"
     ]
    }
   ],
   "source": [
    "# Imprimir el primer elemento de la lista\n",
    "print(f'Primer elemento de la lista: {lista_1[0]}')\n",
    "print(f'Ultimo elemento de la lista: {lista_1[4]}')"
   ]
  },
  {
   "cell_type": "code",
   "execution_count": null,
   "id": "abbbd79f",
   "metadata": {},
   "outputs": [
    {
     "ename": "IndexError",
     "evalue": "list index out of range",
     "output_type": "error",
     "traceback": [
      "\u001b[31m---------------------------------------------------------------------------\u001b[39m\n",
      "\u001b[31mIndexError\u001b[39m                                Traceback (most recent call last)\n",
      "\u001b[36mCell\u001b[39m\u001b[36m \u001b[39m\u001b[32mIn[6]\u001b[39m\u001b[32m, line 1\u001b[39m\n",
      "\u001b[32m----> \u001b[39m\u001b[32m1\u001b[39m \u001b[38;5;28mprint\u001b[39m(\u001b[43mlista_1\u001b[49m\u001b[43m[\u001b[49m\u001b[32;43m5\u001b[39;49m\u001b[43m]\u001b[49m)\n",
      "\n",
      "\u001b[31mIndexError\u001b[39m: list index out of range"
     ]
    }
   ],
   "source": [
    "print(lista_1[5])"
   ]
  },
  {
   "cell_type": "code",
   "execution_count": null,
   "id": "c8080629",
   "metadata": {},
   "outputs": [
    {
     "name": "stdout",
     "output_type": "stream",
     "text": [
      "conenido de la lista [10, 5, 7, 2, 1]\n",
      "<class 'list'>\n"
     ]
    }
   ],
   "source": [
    "numbers = [10,5,7,2,1]\n",
    "print(f'conenido de la lista {numbers}')\n",
    "print(type(numbers))"
   ]
  },
  {
   "cell_type": "code",
   "execution_count": null,
   "id": "1f1859d1",
   "metadata": {},
   "outputs": [
    {
     "data": {
      "text/plain": [
       "5"
      ]
     },
     "metadata": {},
     "output_type": "display_data"
    }
   ],
   "source": [
    "# Permite accesar al valor que se encuentra en la posicion\n",
    "numbers[1]"
   ]
  },
  {
   "cell_type": "markdown",
   "id": "c7bc1a62",
   "metadata": {},
   "source": [
    "***Vamos a asignar u nuevo valor '111' al primer elemento en la lista. Lo hacemos de la siguiente manera:***\n"
   ]
  },
  {
   "cell_type": "code",
   "execution_count": null,
   "id": "219fe1f4",
   "metadata": {},
   "outputs": [
    {
     "name": "stdout",
     "output_type": "stream",
     "text": [
      "[111, 5, 7, 2, 1]\n"
     ]
    }
   ],
   "source": [
    "numbers[0] = 111\n",
    "print(numbers)"
   ]
  },
  {
   "cell_type": "code",
   "execution_count": null,
   "id": "fb92fb36",
   "metadata": {},
   "outputs": [
    {
     "name": "stdout",
     "output_type": "stream",
     "text": [
      "[111, 1, 7, 2, 1]\n"
     ]
    }
   ],
   "source": [
    "# Copiar el valor del quinto elemento al segundo\n",
    "\n",
    "numbers[1] = numbers[4]\n",
    "print(numbers)"
   ]
  },
  {
   "cell_type": "markdown",
   "id": "0e107059",
   "metadata": {},
   "source": [
    "### Eliminendo Elememtos de la lista"
   ]
  },
  {
   "cell_type": "markdown",
   "id": "ba79f606",
   "metadata": {},
   "source": [
    "Cualquier elemento de la lista puede ser eliminado en cualquier momento - esto se hace con una instrucción llamada `del` (eliminar). Nota: es una instrucción, no una función.\n",
    "\n",
    "Tienes que apuntar al elemento que quieres eliminar - desaparecerá de la lista y la longitud de la lista se reducirá en uno."
   ]
  },
  {
   "cell_type": "code",
   "execution_count": null,
   "id": "77410a9d",
   "metadata": {},
   "outputs": [
    {
     "name": "stdout",
     "output_type": "stream",
     "text": [
      "La lista actual: [111, 7, 2, 1]\n"
     ]
    }
   ],
   "source": [
    "print(f'La lista actual: {numbers}')\n",
    "del numbers[1]"
   ]
  },
  {
   "cell_type": "code",
   "execution_count": null,
   "id": "1f6ce3e2",
   "metadata": {},
   "outputs": [
    {
     "name": "stdout",
     "output_type": "stream",
     "text": [
      "La lista actual es: [111, 2, 1]\n",
      "El tamaño de la lista es: 3\n"
     ]
    }
   ],
   "source": [
    "print(f'La lista actual es: {numbers}')\n",
    "print(f'El tamaño de la lista es: {len(numbers)}')"
   ]
  },
  {
   "cell_type": "code",
   "execution_count": null,
   "id": "f729a83b",
   "metadata": {},
   "outputs": [],
   "source": [
    "lista_prueba = [1,2,4,6,2,11]\n",
    "# Remove -> Elimina o remueve la primera coincidencia de un valor que se le indica\n",
    "lista_prueba.remove(2)\n"
   ]
  },
  {
   "cell_type": "code",
   "execution_count": null,
   "id": "137e6a79",
   "metadata": {},
   "outputs": [
    {
     "name": "stdout",
     "output_type": "stream",
     "text": [
      "La lista actual es: [1, 4, 6, 2, 11]\n"
     ]
    }
   ],
   "source": [
    "print(f'La lista actual es: {lista_prueba}')"
   ]
  },
  {
   "cell_type": "code",
   "execution_count": null,
   "id": "9b000bdb",
   "metadata": {},
   "outputs": [],
   "source": [
    "lista_prueba = [1,2,4,6,2,11]"
   ]
  },
  {
   "cell_type": "code",
   "execution_count": null,
   "id": "9816ab01",
   "metadata": {},
   "outputs": [],
   "source": [
    "def eliminar(valor):\n",
    "    for indice, elemento in enumerate(lista_prueba):\n",
    "        if elemento == valor:\n",
    "            del lista_prueba[indice]"
   ]
  },
  {
   "cell_type": "code",
   "execution_count": null,
   "id": "d11c836d",
   "metadata": {},
   "outputs": [
    {
     "name": "stdout",
     "output_type": "stream",
     "text": [
      "Lista actual: [1, 2, 4, 6, 2, 11]\n",
      "Lista despues de eliminar [1, 4, 6, 11]\n"
     ]
    }
   ],
   "source": [
    "print(f'Lista actual: {lista_prueba}')\n",
    "eliminar(2)\n",
    "print(f'Lista despues de eliminar {lista_prueba}')"
   ]
  },
  {
   "cell_type": "markdown",
   "id": "bf51232c",
   "metadata": {},
   "source": [
    "### Los indices negativos son legales\n",
    "`Un elemento con indice igual a -1 es el ultimo en la lista`"
   ]
  },
  {
   "cell_type": "code",
   "execution_count": null,
   "id": "57e3680e",
   "metadata": {},
   "outputs": [
    {
     "name": "stdout",
     "output_type": "stream",
     "text": [
      "El ultimo valor de la lista es 7\n"
     ]
    }
   ],
   "source": [
    "numbers_2 = [111,7,2,1]\n",
    "print(f'El ultimo valor de la lista es {numbers_2[-3]}')"
   ]
  },
  {
   "cell_type": "markdown",
   "id": "137e270c",
   "metadata": {},
   "source": [
    "## Ejercicio de lsitas"
   ]
  },
  {
   "cell_type": "code",
   "execution_count": null,
   "id": "37eedbe8",
   "metadata": {},
   "outputs": [],
   "source": [
    "hat_list = [1, 2, 3, 4, 5]  # Esta es una lista existente de números ocultos en el sombrero.\n",
    "\n",
    "# Paso 1: escribe una línea de código que solicite al usuario\n",
    "# reemplazar el número de en medio con un número entero ingresado por el usuario.\n",
    "\n",
    "# Paso 2: escribe aquí una línea de código que elimine el último elemento de la lista.\n",
    "\n",
    "# Paso 3: escribe aquí una línea de código que imprima la longitud de la lista existente.\n",
    "\n",
    "print(hat_list)"
   ]
  },
  {
   "cell_type": "markdown",
   "id": "44e6fa61",
   "metadata": {},
   "source": [
    "## Agregando elementos a una lista: append() e insert()\n",
    "Un nuevo elemento puede sar añadido al final de la lista existente:\n",
    "`list.appedn(valor)`\n",
    "\n",
    "El metodo `insert()` es un metodo inteligente - puede agregar un nuevo elemento es cuaquier lugar de la lista, no solo al final\n",
    "`list.insert(location, valor)`\n",
    "Toma dos argumentos:\n",
    "\n",
    "- el primero muestra la ubicación requerida del elemento a insertar; nota: todos los elementos existentes que ocupan ubicaciones a la derecha del nuevo elemento (incluido el que está en la posición indicada) se desplazan a la derecha, para hacer espacio para el nuevo elemento;\n",
    "-  el segundo es el elemento a insertar."
   ]
  },
  {
   "cell_type": "code",
   "execution_count": null,
   "id": "d6bc1510",
   "metadata": {},
   "outputs": [
    {
     "name": "stdout",
     "output_type": "stream",
     "text": [
      "La lista origininal es: [123, 8, 4, 1]\n",
      "El tamaño de la lista es: 4\n",
      "La lista aumentada es: [123, 8, 4, 1, 16]\n",
      "El tamaño de la lista aumentada es: 5\n"
     ]
    }
   ],
   "source": [
    "numbers_3 = [123,8,4,1]\n",
    "print(f'La lista origininal es: {numbers_3}')\n",
    "print(f'El tamaño de la lista es: {len(numbers_3)}')\n",
    "\n",
    "# Agregar un valor al final de la lista con el metodo append\n",
    "numbers_3.append(16)\n",
    "print(f'La lista aumentada es: {numbers_3}')\n",
    "print(f'El tamaño de la lista aumentada es: {len(numbers_3)}')"
   ]
  },
  {
   "cell_type": "code",
   "execution_count": null,
   "id": "e2d857d3",
   "metadata": {},
   "outputs": [
    {
     "name": "stdout",
     "output_type": "stream",
     "text": [
      "La lista actual es: [123, 8, 4, 1, 16]\n",
      "El tamaño de la lista es: 5\n",
      "La lista aumentada es: [222, 123, 8, 4, 1, 16]\n",
      "El tamaño de la lista aumentada es: 6\n"
     ]
    }
   ],
   "source": [
    "# Metodo insert\n",
    "print(f'La lista actual es: {numbers_3}')\n",
    "print(f'El tamaño de la lista es: {len(numbers_3)}')\n",
    "numbers_3.insert(0,222)\n",
    "\n",
    "print(f'La lista aumentada es: {numbers_3}')\n",
    "print(f'El tamaño de la lista aumentada es: {len(numbers_3)}')\n"
   ]
  },
  {
   "cell_type": "code",
   "execution_count": null,
   "id": "eccce035",
   "metadata": {},
   "outputs": [],
   "source": [
    "def llenar_lista_append(valor):\n",
    "    my_list = [] #aqui se crea una lista vacia\n",
    "    for i in range(valor):\n",
    "        my_list.append(i+1)\n",
    "\n",
    "    return my_list"
   ]
  },
  {
   "cell_type": "code",
   "execution_count": null,
   "id": "e386fc1e",
   "metadata": {},
   "outputs": [],
   "source": [
    "def imprimir_lista(lista):\n",
    "        print(f'La lista es: {lista}')"
   ]
  },
  {
   "cell_type": "code",
   "execution_count": null,
   "id": "a38fff24",
   "metadata": {},
   "outputs": [
    {
     "name": "stdout",
     "output_type": "stream",
     "text": [
      "La lista es: [1, 2, 3, 4, 5, 6, 7, 8, 9, 10]\n"
     ]
    }
   ],
   "source": [
    "lista = llenar_lista_append(10)\n",
    "imprimir_lista(lista)"
   ]
  },
  {
   "cell_type": "code",
   "execution_count": null,
   "id": "7689b8b2",
   "metadata": {},
   "outputs": [
    {
     "name": "stdout",
     "output_type": "stream",
     "text": [
      "[5, 4, 3, 2, 1]\n"
     ]
    }
   ],
   "source": [
    "my_list = []\n",
    "for i in range(5):\n",
    "    my_list.insert(0,i+1)\n",
    "print(my_list)"
   ]
  },
  {
   "cell_type": "code",
   "execution_count": null,
   "id": "983b1c21",
   "metadata": {},
   "outputs": [
    {
     "name": "stdout",
     "output_type": "stream",
     "text": [
      "10\n",
      "1\n",
      "8\n",
      "3\n",
      "5\n"
     ]
    }
   ],
   "source": [
    "mi_lista = [10,1,8,3,5]\n",
    "\n",
    "for i in mi_lista:\n",
    "    print(i)"
   ]
  },
  {
   "cell_type": "code",
   "execution_count": null,
   "id": "24e75eb4",
   "metadata": {},
   "outputs": [
    {
     "name": "stdout",
     "output_type": "stream",
     "text": [
      "La suma de los valores de la lista es 27\n"
     ]
    }
   ],
   "source": [
    "# Sumar los valores de la lista\n",
    "total = 0\n",
    "for i in mi_lista:\n",
    "    total += i\n",
    "print(f'La suma de los valores de la lista es {total}')"
   ]
  },
  {
   "cell_type": "markdown",
   "id": "54d2b50e",
   "metadata": {},
   "source": [
    "#### Realizar un programa que pormita almacenar varias calificaciones en una lista para despues poder sacar el promerdo de ellas, utilizando una funcion"
   ]
  },
  {
   "cell_type": "code",
   "execution_count": null,
   "id": "fa4a0e82",
   "metadata": {},
   "outputs": [],
   "source": [
    "def guardar_calf(numero):\n",
    "    lista_calif = []\n",
    "    i = 1\n",
    "    while i <= numero:\n",
    "        calif = float(input(f'Solicita la calificacion {i}'))\n",
    "        lista_calif.append(calif)\n",
    "        i += 1\n",
    "    return lista_calif"
   ]
  },
  {
   "cell_type": "code",
   "execution_count": null,
   "id": "01853e31",
   "metadata": {},
   "outputs": [],
   "source": [
    "def guardar_calf(numero):\n",
    "    lista_calif = []\n",
    "    i = 1\n",
    "    while i <= numero:\n",
    "        calif = float(input(f'Solicita la calificacion {i}'))\n",
    "        lista_calif.append(calif)\n",
    "        i += 1\n",
    "    return lista_calif"
   ]
  },
  {
   "cell_type": "code",
   "execution_count": null,
   "id": "bfc8c4f4",
   "metadata": {},
   "outputs": [
    {
     "name": "stdout",
     "output_type": "stream",
     "text": [
      "[8.0, 5.6, 9.0, 9.5, 10.0]\n"
     ]
    }
   ],
   "source": [
    "lista = guardar_calf(5)\n",
    "print(lista)"
   ]
  }
 ],
 "metadata": {
  "language_info": {
   "name": "python"
  }
 },
 "nbformat": 4,
 "nbformat_minor": 5
}
