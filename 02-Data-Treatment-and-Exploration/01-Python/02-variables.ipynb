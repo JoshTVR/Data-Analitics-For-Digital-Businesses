{
 "cells": [
  {
   "cell_type": "markdown",
   "id": "e711aabc",
   "metadata": {},
   "source": [
    "# Ejemplo 2: Variables\n",
    "\n",
    "## 1. Objetivos:\n",
    "\n",
    "- Entender cuál es la sintaxis de la asignación de variables de Python\n",
    "- Aprender la convención de nombramiento de variables\n",
    "\n",
    "## 2. Desarrollo\n",
    "\n",
    "Los siguientes nombres son nombres posibles de variables en Python:\n",
    "\n",
    "- `var_1`\n",
    "- `variable_2`\n",
    "- `variable_dos`\n",
    "- `variable_nueva_3`\n",
    "- `esta_es_una_variable_nueva`\n",
    "\n",
    "Los siguientes son nombres inválidos para una variable en Python:\n",
    "\n",
    "- `1_2`\n",
    "- `1_variable`\n",
    "- `variableDos`\n",
    "- `EstaEsUnaVariable`\n",
    "- `Soy una variable`\n",
    "\n",
    "## Asignemos unas cuantas variables\n",
    "\n",
    "```python\n",
    "var_1 = 3\n",
    "var_2 = 6\n",
    "variable_3 = 10\n",
    "variable_nueva_4 = 20\n",
    "```"
   ]
  },
  {
   "cell_type": "code",
   "execution_count": null,
   "id": "6ecac7bf",
   "metadata": {},
   "outputs": [],
   "source": [
    "var_1 = 3\n",
    "var_2 = 6\n",
    "variable_3 = 10\n",
    "variable_nueva_4 = 20"
   ]
  },
  {
   "cell_type": "code",
   "execution_count": 2,
   "id": "d73dfa16",
   "metadata": {},
   "outputs": [
    {
     "data": {
      "text/plain": [
       "20"
      ]
     },
     "execution_count": 2,
     "metadata": {},
     "output_type": "execute_result"
    }
   ],
   "source": [
    "var_1"
   ]
  },
  {
   "cell_type": "code",
   "execution_count": 3,
   "id": "643d4e4a",
   "metadata": {},
   "outputs": [
    {
     "data": {
      "text/plain": [
       "20"
      ]
     },
     "execution_count": 3,
     "metadata": {},
     "output_type": "execute_result"
    }
   ],
   "source": [
    "variable_nueva_4"
   ]
  },
  {
   "cell_type": "markdown",
   "id": "237045e6",
   "metadata": {},
   "source": [
    "Si intento llamar una variable que no existe. JN me va a dar error"
   ]
  },
  {
   "cell_type": "code",
   "execution_count": 4,
   "id": "6051bb52",
   "metadata": {},
   "outputs": [
    {
     "ename": "NameError",
     "evalue": "name 'var_5' is not defined",
     "output_type": "error",
     "traceback": [
      "\u001b[1;31m---------------------------------------------------------------------------\u001b[0m",
      "\u001b[1;31mNameError\u001b[0m                                 Traceback (most recent call last)",
      "Cell \u001b[1;32mIn[4], line 1\u001b[0m\n\u001b[1;32m----> 1\u001b[0m \u001b[43mvar_5\u001b[49m\n",
      "\u001b[1;31mNameError\u001b[0m: name 'var_5' is not defined"
     ]
    }
   ],
   "source": [
    "var_5"
   ]
  },
  {
   "cell_type": "markdown",
   "id": "36b2849d",
   "metadata": {},
   "source": [
    "De igual manera, si se escribe una asignacion pero no se corre la celda. Esa variable no estara disponible para el Notebook mas adelante"
   ]
  },
  {
   "cell_type": "code",
   "execution_count": 8,
   "id": "5eba5e2c",
   "metadata": {},
   "outputs": [],
   "source": [
    "var_2 = 89"
   ]
  },
  {
   "cell_type": "code",
   "execution_count": 7,
   "id": "e0a59636",
   "metadata": {},
   "outputs": [
    {
     "data": {
      "text/plain": [
       "89"
      ]
     },
     "execution_count": 7,
     "metadata": {},
     "output_type": "execute_result"
    }
   ],
   "source": [
    "var_2"
   ]
  },
  {
   "cell_type": "markdown",
   "id": "55b6ca56",
   "metadata": {},
   "source": [
    "# Reto 1: Variables\n",
    "\n",
    "## 1. Objetivos:\n",
    "\n",
    "- Practicar convención de nombramiento y asignación de variables\n",
    "\n",
    "## 2. Desarrollo\n",
    "\n",
    "Realizar la siguiente práctica"
   ]
  },
  {
   "cell_type": "markdown",
   "id": "652843e7",
   "metadata": {},
   "source": [
    "#### Asigna el número 12345 a una variable llamada variable_locochona\n",
    "\n",
    "#### Asigna el número 14.567 a la variable var_decimal\n",
    "\n",
    "#### Asigna un número cualquiera a una variable que tenga cinco palabras en su nombre\n",
    "\n",
    "#### Asigna cualquier número a una variable que incluye palabras y números en su nombre\n"
   ]
  },
  {
   "cell_type": "code",
   "execution_count": 9,
   "id": "3caf9c43",
   "metadata": {},
   "outputs": [],
   "source": [
    "variable_locochona = 12345\n",
    "var_decimal = 14.567\n",
    "Links = 1586\n",
    "amd32 = True"
   ]
  }
 ],
 "metadata": {
  "kernelspec": {
   "display_name": "base",
   "language": "python",
   "name": "python3"
  },
  "language_info": {
   "codemirror_mode": {
    "name": "ipython",
    "version": 3
   },
   "file_extension": ".py",
   "mimetype": "text/x-python",
   "name": "python",
   "nbconvert_exporter": "python",
   "pygments_lexer": "ipython3",
   "version": "3.12.8"
  }
 },
 "nbformat": 4,
 "nbformat_minor": 5
}
