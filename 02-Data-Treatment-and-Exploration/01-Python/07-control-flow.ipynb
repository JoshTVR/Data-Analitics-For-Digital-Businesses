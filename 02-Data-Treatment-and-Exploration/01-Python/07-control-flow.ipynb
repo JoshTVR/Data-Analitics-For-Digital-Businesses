{
 "cells": [
  {
   "cell_type": "markdown",
   "id": "0a71e2e5",
   "metadata": {},
   "source": [
    "## Estructuras de Control\n",
    "\n",
    "### Objetivo:\n",
    "    - Conocer las estructuras de control, como funcionan y para que sirven\n",
    "\n",
    "--- \n",
    "\n",
    "### Desarrollo"
   ]
  },
  {
   "cell_type": "markdown",
   "id": "f1e9e400",
   "metadata": {},
   "source": [
    "Queremos darle a nuestro programa la capacidad de tomar decisiones. Esto puede hacerse utilizando una `sentencia if` utiliza una comparación para obtener un boolean. Si el booleano es `True`, el bloque de la sentencia se ejecuta. Si el booleano es `False` nos saltamos a lo que sigue después del bloque "
   ]
  },
  {
   "cell_type": "code",
   "execution_count": 1,
   "id": "d32e301b",
   "metadata": {},
   "outputs": [],
   "source": [
    "var_1 = 4\n",
    "var_2 = 5"
   ]
  },
  {
   "cell_type": "code",
   "execution_count": 2,
   "id": "7ed6ba9e",
   "metadata": {},
   "outputs": [
    {
     "name": "stdout",
     "output_type": "stream",
     "text": [
      "El bloque se ha ejecutado\n"
     ]
    }
   ],
   "source": [
    "if var_1 < var_2:\n",
    "    print(\"El bloque se ha ejecutado\")"
   ]
  },
  {
   "cell_type": "code",
   "execution_count": 3,
   "id": "ef9932d6",
   "metadata": {},
   "outputs": [
    {
     "ename": "ValueError",
     "evalue": "invalid literal for int() with base 10: ''",
     "output_type": "error",
     "traceback": [
      "\u001b[1;31m---------------------------------------------------------------------------\u001b[0m",
      "\u001b[1;31mValueError\u001b[0m                                Traceback (most recent call last)",
      "Cell \u001b[1;32mIn[3], line 1\u001b[0m\n\u001b[1;32m----> 1\u001b[0m var_1 \u001b[38;5;241m=\u001b[39m \u001b[38;5;28;43mint\u001b[39;49m\u001b[43m(\u001b[49m\u001b[38;5;28;43minput\u001b[39;49m\u001b[43m(\u001b[49m\u001b[38;5;124;43m\"\u001b[39;49m\u001b[38;5;124;43mIntroduce el valor\u001b[39;49m\u001b[38;5;124;43m\"\u001b[39;49m\u001b[43m)\u001b[49m\u001b[43m)\u001b[49m\n\u001b[0;32m      2\u001b[0m var_2 \u001b[38;5;241m=\u001b[39m \u001b[38;5;28mint\u001b[39m(\u001b[38;5;28minput\u001b[39m(\u001b[38;5;124m\"\u001b[39m\u001b[38;5;124mIntroduce el valor\u001b[39m\u001b[38;5;124m\"\u001b[39m))\n\u001b[0;32m      4\u001b[0m \u001b[38;5;28;01mif\u001b[39;00m var_1 \u001b[38;5;241m<\u001b[39m var_2:\n",
      "\u001b[1;31mValueError\u001b[0m: invalid literal for int() with base 10: ''"
     ]
    }
   ],
   "source": [
    "var_1 = int(input(\"Introduce el valor\"))\n",
    "var_2 = int(input(\"Introduce el valor\"))\n",
    "\n",
    "if var_1 < var_2:\n",
    "    print(f\"El numero {var_1} es menor que el numero {var_2}\")"
   ]
  },
  {
   "cell_type": "code",
   "execution_count": null,
   "id": "2b6a35aa",
   "metadata": {},
   "outputs": [],
   "source": [
    "# Función que solicita un valor\n",
    "\n",
    "def solicitar ():\n",
    "    return int(input(\"Introduce el valor\"))"
   ]
  },
  {
   "cell_type": "code",
   "execution_count": null,
   "id": "53ab3d6c",
   "metadata": {},
   "outputs": [],
   "source": [
    "# Función que hace la comparación\n",
    "\n",
    "def comparar (valor_uno, valor_dos):\n",
    "    if valor_uno < valor_dos:\n",
    "        print(f\"El numero {var_1} es menor que el numero {var_2}\")"
   ]
  },
  {
   "cell_type": "code",
   "execution_count": null,
   "id": "2f4a28a2",
   "metadata": {},
   "outputs": [],
   "source": [
    "# Ejecucion de las funciones \n",
    "var_1 = solicitar()\n",
    "var_2 = solicitar()\n",
    "\n",
    "comparar(var_1, var_2)"
   ]
  },
  {
   "cell_type": "markdown",
   "id": "dde6d330",
   "metadata": {},
   "source": [
    "1. **Desarrollar un programa que determine si un número es positivo**\n",
    "2. **Desarrollar un programa que determine si puedes votar, la edad minima es 18**\n",
    "3. **Verificar si un número es par**\n",
    "4. **Realizar a simulación de un login, en el cual se debe verificar si la contraseña es correcta**\n",
    "5. **Realizar un programa determine si un alumno esta aprobado, la calificacón minima es 7**\n",
    "\n",
    "Todos los datos deben ser solicitados "
   ]
  },
  {
   "cell_type": "code",
   "execution_count": null,
   "id": "2d214cdf",
   "metadata": {},
   "outputs": [
    {
     "name": "stdout",
     "output_type": "stream",
     "text": [
      "El numero 6 es positivo\n",
      "Fin del programa ...\n"
     ]
    }
   ],
   "source": [
    "# 1\n",
    "\n",
    "numero = solicitar()\n",
    "\n",
    "if (numero > 0):\n",
    "    print(f'El numero {numero} es positivo')\n",
    "    \n",
    "print('Fin del programa ...')\n"
   ]
  },
  {
   "cell_type": "code",
   "execution_count": null,
   "id": "12a1a154",
   "metadata": {},
   "outputs": [
    {
     "name": "stdout",
     "output_type": "stream",
     "text": [
      "Puedes Votar\n"
     ]
    }
   ],
   "source": [
    "# 2\n",
    "\n",
    "edad = solicitar()\n",
    "\n",
    "if(edad>=18):\n",
    "    print('Puedes Votar')\n"
   ]
  },
  {
   "cell_type": "code",
   "execution_count": null,
   "id": "0717a9a4",
   "metadata": {},
   "outputs": [],
   "source": [
    "# 3\n",
    "\n",
    "numero_1  = solicitar()\n",
    "\n",
    "if numero_1 % 2 == 0:\n",
    "    print(f'El numero {numero_1} es par')"
   ]
  },
  {
   "cell_type": "code",
   "execution_count": null,
   "id": "769fd574",
   "metadata": {},
   "outputs": [],
   "source": [
    "# 4\n",
    "numero_1  = solicitar()\n",
    "\n",
    "if not numero_1 % 2 != 0:\n",
    "    print(f'El numero {numero_1} es par')"
   ]
  },
  {
   "cell_type": "code",
   "execution_count": null,
   "id": "b446aed3",
   "metadata": {},
   "outputs": [
    {
     "name": "stdout",
     "output_type": "stream",
     "text": [
      "Saquese ...\n"
     ]
    }
   ],
   "source": [
    "# 4\n",
    "\n",
    "contrasena = 1234\n",
    "\n",
    "password = int(input('Introduce la contraseña'))\n",
    "\n",
    "if password == contrasena:\n",
    "    print('tienes acceso total')\n",
    "else:\n",
    "    print('Saquese ...')"
   ]
  },
  {
   "cell_type": "code",
   "execution_count": null,
   "id": "0baaf828",
   "metadata": {},
   "outputs": [
    {
     "name": "stdout",
     "output_type": "stream",
     "text": [
      "Estas aprobado\n"
     ]
    }
   ],
   "source": [
    "# 5\n",
    "\n",
    "calif = solicitar()\n",
    "\n",
    "if(calif<=7):\n",
    "    print('Estas aprobado')"
   ]
  },
  {
   "cell_type": "markdown",
   "id": "f4885c55",
   "metadata": {},
   "source": [
    "## Operadores Lógicos\n",
    "\n",
    "---\n",
    "\n",
    "### Operador or\n",
    "\n",
    "| A   | B   | A or B |\n",
    "|-----|-----|--------|\n",
    "| F   | F   | F      |\n",
    "| T   | F   | T      |\n",
    "| F   | T   | T      |\n",
    "| T   | T   | T      |\n",
    "\n",
    "### Operador and\n",
    "\n",
    "| A   | B   | A and B |\n",
    "|-----|-----|---------|\n",
    "| F   | F   | F       |\n",
    "| T   | F   | F       |\n",
    "| F   | T   | F       |\n",
    "| T   | T   | T       |\n",
    "\n",
    "### Operador not\n",
    "\n",
    "| A   | not A |\n",
    "|-----|--------|\n",
    "| F   | T      |\n",
    "| T   | F      |\n",
    "\n"
   ]
  },
  {
   "cell_type": "code",
   "execution_count": null,
   "id": "9ac5ff3b",
   "metadata": {},
   "outputs": [
    {
     "data": {
      "text/plain": [
       "True"
      ]
     },
     "metadata": {},
     "output_type": "display_data"
    }
   ],
   "source": [
    "resultado = 4>5 or 5==5\n",
    "resultado"
   ]
  },
  {
   "cell_type": "code",
   "execution_count": null,
   "id": "1179a324",
   "metadata": {},
   "outputs": [
    {
     "data": {
      "text/plain": [
       "False"
      ]
     },
     "metadata": {},
     "output_type": "display_data"
    }
   ],
   "source": [
    "resultado = 4>5 and 5==5\n",
    "resultado"
   ]
  },
  {
   "cell_type": "code",
   "execution_count": null,
   "id": "75c598b3",
   "metadata": {},
   "outputs": [
    {
     "data": {
      "text/plain": [
       "True"
      ]
     },
     "metadata": {},
     "output_type": "display_data"
    }
   ],
   "source": [
    "resultado = not(4>5 and 5==5)\n",
    "resultado"
   ]
  },
  {
   "cell_type": "code",
   "execution_count": null,
   "id": "5ae2695a",
   "metadata": {},
   "outputs": [
    {
     "data": {
      "text/plain": [
       "True"
      ]
     },
     "metadata": {},
     "output_type": "display_data"
    }
   ],
   "source": [
    "resultado = not 4>5 or 5==5\n",
    "resultado"
   ]
  },
  {
   "cell_type": "code",
   "execution_count": null,
   "id": "245da751",
   "metadata": {},
   "outputs": [
    {
     "data": {
      "text/plain": [
       "False"
      ]
     },
     "metadata": {},
     "output_type": "display_data"
    }
   ],
   "source": [
    "resultado = not 4<5 or 5!=5\n",
    "resultado"
   ]
  },
  {
   "cell_type": "code",
   "execution_count": null,
   "id": "e8c814f6",
   "metadata": {},
   "outputs": [],
   "source": [
    "x = 5\n",
    "y = 10\n",
    "\n",
    "resultado = x>=5 and y<=x"
   ]
  },
  {
   "cell_type": "markdown",
   "id": "ac61e990",
   "metadata": {},
   "source": [
    "1. Verificar si un numero esta en el rango de 10 y 20\n",
    "2. Verificar si un usuario tiene acceso al charlys si tiene minimo 18 años o tiene permiso especial\n",
    "3. Verificar si un número no es igual a cero\n",
    "4. Verificar si un valor esta fuera del rango de 0 y 30\n"
   ]
  },
  {
   "cell_type": "markdown",
   "id": "68e3bb62",
   "metadata": {},
   "source": [
    "Hay veces que queremos tener una acción `default`, que queremos que suceda en caso de que la comparación sea `false`. Para esto podemos usar una sentencia `else`. Piénsalo como preguntarse a uno mismo: \"Si meto mi mano a la bolsa y resulta que encuentro un billete $50, me compro unos nachos; y sino hay nada,veré una peliculacon mi novio llorando de tristeza por que no es el otro\""
   ]
  },
  {
   "cell_type": "code",
   "execution_count": null,
   "id": "77103e21",
   "metadata": {},
   "outputs": [
    {
     "name": "stdout",
     "output_type": "stream",
     "text": [
      "La condición no se ha cumplido, y por lo tanto yo me imprimo\n"
     ]
    }
   ],
   "source": [
    "var_1 = 4\n",
    "var_2 = 5\n",
    "\n",
    "if var_1 > var_2:\n",
    "    print('La condición se cumplio')\n",
    "else:\n",
    "    print('La condición no se ha cumplido, ' \\\n",
    "    'y por lo tanto yo me imprimo')\n"
   ]
  },
  {
   "cell_type": "code",
   "execution_count": null,
   "id": "f1c9921a",
   "metadata": {},
   "outputs": [],
   "source": [
    "# Encontrar el numero mas grande de dos números\n",
    "\n",
    "number_1 = int(input('Introduce el número 1'))\n",
    "number_2 = int(input('Introduce el número 2'))\n",
    "\n",
    "# Elegir el numero mas grande\n",
    "if number_1 > number_2:\n",
    "    print(f'El número {number_1} es mayor al número {number_2}')\n",
    "else:\n",
    "    print(f'El numero {number_2} es mayor al número {number_1}')"
   ]
  },
  {
   "cell_type": "code",
   "execution_count": null,
   "id": "270f6889",
   "metadata": {},
   "outputs": [],
   "source": [
    "number_1 = int(input('Introduce el número 1'))\n",
    "number_2 = int(input('Introduce el número 2'))\n",
    "\n",
    "if number_1 >number_2:\n",
    "    numero_mayor = number_1\n",
    "else:\n",
    "    numero_mayor = number_2\n",
    "\n",
    "print(f'El numero mayor es: {numero_mayor}')"
   ]
  },
  {
   "cell_type": "markdown",
   "id": "ff27e1ff",
   "metadata": {},
   "source": [
    "Si queremos que haya mas de dos opciones, podemos agregar opciones utilizando la sentencia `elif`"
   ]
  },
  {
   "cell_type": "code",
   "execution_count": null,
   "id": "0ac9d933",
   "metadata": {},
   "outputs": [
    {
     "name": "stdout",
     "output_type": "stream",
     "text": [
      "El 12 es igual al 12\n"
     ]
    }
   ],
   "source": [
    "var_1 = 12\n",
    "var_2 = 12\n",
    "\n",
    "if var_1 > var_2:\n",
    "    print(f'El {var_1} es mayor {var_2}')\n",
    "elif var_2 > var_1:\n",
    "    print(f'El {var_2} es mayor {var_1}')\n",
    "else:\n",
    "    print(f'El {var_1} es igual al {var_2}')"
   ]
  },
  {
   "cell_type": "markdown",
   "id": "2f03c735",
   "metadata": {},
   "source": [
    "#### 1. Comparaciones numéricas\n",
    "\n",
    "Vamos a imaginar que estamos analizando un conjunto de datos que contiene las ventas anuales en pesos de unos vendedores que trabajan en nuestra empresa. Obtenemos el total de ventas anuales en pesos y lo tenemos asignado a la variable `ventas_anuales_totales`. Escribe una estructura de control que nos diga de cuánto va a ser el bono de nuestro empleado.\n",
    "\n",
    "Si las ventas son mayores a `$`1,000,000 el bono será de 20% del sueldo; si son entre `$`700,000 y `$`1,000,000 el bono será de 15% del sueldo; entre `$`400,000 y `$`700,000 el bono será de 10% del sueldo; entre `$`100,00 y 400,000 el bono será de 5% del sueldo; y debajo de `$`100,000 el bono será del 1% del sueldo.\n",
    "\n",
    "Escribe tu estructura de control y, por ahora (más adelante tendremos más herramientas para hacer esto más interesante) imprime una string que diga de cuánto va a ser el bono.\n",
    "\n",
    "> Reto opcional: Agrega una variable `sueldo` que sea el sueldo de tu empleado y agrégale el porcentaje de bono a esa variable dependiendo de la condición que se cumpla. Después hasta el final imprime una string interpolada que diga algo como \"Felicidades, tu sueldo es x; tu bono es de x; y el total de sueldo con el bono incluido es de x\". ¡Para que esto funcione también debes de agregar una variable donde guardes la cantidad del bono!"
   ]
  },
  {
   "cell_type": "code",
   "execution_count": null,
   "id": "46471106",
   "metadata": {},
   "outputs": [],
   "source": [
    "\n",
    "ventas_anuales_totales = float(input('Introduce las ventas'))\n",
    "\n",
    "if ventas_anuales_totales > 1000000:\n",
    "    bono = ventas_anuales_totales * 0.20\n",
    "elif ventas_anuales_totales >70000 and ventas_anuales_totales<=1000000:\n",
    "    bono = ventas_anuales_totales * 0.15\n",
    "elif ventas_anuales_totales >= 400000 and ventas_anuales_totales <=70000:\n",
    "    bono = ventas_anuales_totales * 0.10\n",
    "elif ventas_anuales_totales >=10000 and ventas_anuales_totales <= 40000:\n",
    "    bono = ventas_anuales_totales * 0.05\n",
    "else:\n",
    "    bono = ventas_anuales_totales * 0.01\n",
    "\n",
    "print (f'El bono es {bono}')\n",
    "\n"
   ]
  }
 ],
 "metadata": {
  "kernelspec": {
   "display_name": "base",
   "language": "python",
   "name": "python3"
  },
  "language_info": {
   "codemirror_mode": {
    "name": "ipython",
    "version": 3
   },
   "file_extension": ".py",
   "mimetype": "text/x-python",
   "name": "python",
   "nbconvert_exporter": "python",
   "pygments_lexer": "ipython3",
   "version": "3.12.8"
  }
 },
 "nbformat": 4,
 "nbformat_minor": 5
}
