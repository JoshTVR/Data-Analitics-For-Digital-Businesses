{
 "cells": [
  {
   "cell_type": "markdown",
   "id": "4ae9bb85",
   "metadata": {},
   "source": [
    "## Operaciones numericas\n",
    "\n",
    "### Objetivos\n",
    "\n",
    "- Mostrar como utilizar los operadores aritmeticos\n",
    "\n",
    "### Desarrollo\n",
    "\n"
   ]
  },
  {
   "cell_type": "code",
   "execution_count": 3,
   "id": "10fdd90b",
   "metadata": {},
   "outputs": [],
   "source": [
    "var_1 = 4\n",
    "var_2 = 54\n",
    "var_3 = 23\n",
    "var_4 = 89"
   ]
  },
  {
   "cell_type": "code",
   "execution_count": 6,
   "id": "08d5a9d2",
   "metadata": {},
   "outputs": [
    {
     "name": "stdout",
     "output_type": "stream",
     "text": [
      "4 54 23 89*4,54,23,89\n",
      "El valor de la variable var_1:  4 \n",
      "El valor de la variable var_2:  54\n"
     ]
    }
   ],
   "source": [
    "print(var_1,var_2,var_3,var_4, end=\"*\")\n",
    "print(var_1,var_2,var_3,var_4, sep=\",\")\n",
    "\n",
    "print('El valor de la variable var_1: ', var_1, '\\nEl valor de la variable var_2: ', var_2)"
   ]
  },
  {
   "cell_type": "markdown",
   "id": "a1dcc143",
   "metadata": {},
   "source": [
    "## Operaciones aritmeticas\n",
    "\n",
    "\n",
    "--\n",
    "### operadores Aritmeticos\n",
    "| Operador | Nombre                  | Descripción                                 | Ejemplo        | Resultado |\n",
    "|----------|-------------------------|---------------------------------------------|----------------|-----------|\n",
    "| +      | Suma                    | Suma de dos operandos                        | 5 + 3        | 8       |\n",
    "| -      | Resta                   | Resta del segundo operando al primero        | 5 - 3        | 2       |\n",
    "| *      | Multiplicación          | Producto de dos operandos                    | 5 * 3        | 15      |\n",
    "| /      | División                | División del primero entre el segundo       | 5 / 2        | 2.5     |\n",
    "| //     | División entera         | División y redondeo hacia abajo             | 5 // 2       | 2       |\n",
    "| %      | Módulo (residuo)        | Residuo de la división                      | 5 % 2        | 1       |\n",
    "| **     | Exponente               | Potencia del primer operando al segundo     | 2 ** 3       | 8       |"
   ]
  },
  {
   "cell_type": "code",
   "execution_count": 7,
   "id": "5344c1a6",
   "metadata": {},
   "outputs": [
    {
     "data": {
      "text/plain": [
       "58"
      ]
     },
     "execution_count": 7,
     "metadata": {},
     "output_type": "execute_result"
    }
   ],
   "source": [
    "var_1 + var_2"
   ]
  },
  {
   "cell_type": "code",
   "execution_count": 8,
   "id": "69636d5f",
   "metadata": {},
   "outputs": [
    {
     "data": {
      "text/plain": [
       "-35"
      ]
     },
     "execution_count": 8,
     "metadata": {},
     "output_type": "execute_result"
    }
   ],
   "source": [
    "var_2 - var_4"
   ]
  },
  {
   "cell_type": "code",
   "execution_count": 9,
   "id": "56281df7",
   "metadata": {},
   "outputs": [
    {
     "data": {
      "text/plain": [
       "92"
      ]
     },
     "execution_count": 9,
     "metadata": {},
     "output_type": "execute_result"
    }
   ],
   "source": [
    "var_3 * var_1"
   ]
  },
  {
   "cell_type": "code",
   "execution_count": 10,
   "id": "2c7f3f4e",
   "metadata": {},
   "outputs": [
    {
     "data": {
      "text/plain": [
       "1.6481481481481481"
      ]
     },
     "execution_count": 10,
     "metadata": {},
     "output_type": "execute_result"
    }
   ],
   "source": [
    "var_4 / var_2"
   ]
  },
  {
   "cell_type": "code",
   "execution_count": 11,
   "id": "7c83da3b",
   "metadata": {},
   "outputs": [
    {
     "data": {
      "text/plain": [
       "1"
      ]
     },
     "execution_count": 11,
     "metadata": {},
     "output_type": "execute_result"
    }
   ],
   "source": [
    "var_4 // var_2"
   ]
  },
  {
   "cell_type": "code",
   "execution_count": 12,
   "id": "474cbac8",
   "metadata": {},
   "outputs": [
    {
     "data": {
      "text/plain": [
       "8503056"
      ]
     },
     "execution_count": 12,
     "metadata": {},
     "output_type": "execute_result"
    }
   ],
   "source": [
    "var_2 ** var_1"
   ]
  },
  {
   "cell_type": "code",
   "execution_count": 16,
   "id": "9d732119",
   "metadata": {},
   "outputs": [
    {
     "data": {
      "text/plain": [
       "0"
      ]
     },
     "execution_count": 16,
     "metadata": {},
     "output_type": "execute_result"
    }
   ],
   "source": [
    "var_1 = 10\n",
    "var_2 = 2\n",
    "\n",
    "var_1 % var_2"
   ]
  }
 ],
 "metadata": {
  "kernelspec": {
   "display_name": "base",
   "language": "python",
   "name": "python3"
  },
  "language_info": {
   "codemirror_mode": {
    "name": "ipython",
    "version": 3
   },
   "file_extension": ".py",
   "mimetype": "text/x-python",
   "name": "python",
   "nbconvert_exporter": "python",
   "pygments_lexer": "ipython3",
   "version": "3.12.8"
  }
 },
 "nbformat": 4,
 "nbformat_minor": 5
}
