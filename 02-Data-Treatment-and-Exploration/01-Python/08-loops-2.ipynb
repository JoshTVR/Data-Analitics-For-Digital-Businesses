{
 "cells": [
  {
   "cell_type": "markdown",
   "id": "c47404f2",
   "metadata": {},
   "source": [
    "## Bucles, Loop o Ciclos"
   ]
  },
  {
   "cell_type": "markdown",
   "id": "49ac30fd",
   "metadata": {},
   "source": [
    "# Bucles o Loops o Ciclos"
   ]
  },
  {
   "cell_type": "markdown",
   "id": "5eb74ec0",
   "metadata": {},
   "source": [
    "## Bucles con while"
   ]
  },
  {
   "cell_type": "markdown",
   "id": "ceee0793",
   "metadata": {},
   "source": [
    "### Bucle Infinito"
   ]
  },
  {
   "cell_type": "code",
   "execution_count": null,
   "id": "ea3bbe32",
   "metadata": {},
   "outputs": [],
   "source": [
    "while True:\n",
    "   print('Estoy dentro del bucle y no puedo salir')"
   ]
  },
  {
   "cell_type": "code",
   "execution_count": null,
   "id": "005a282f",
   "metadata": {},
   "outputs": [],
   "source": [
    "numero_grande = -999999999\n",
    "\n",
    "# ingresa el primer valor \n",
    "number = int(input('Introduce un número o escribe -1 para terminar'))\n",
    "\n",
    "while number!= -1:\n",
    "    # ¿Es el número más grande que el valor numero_grande?\n",
    "    if number > numero_grande:\n",
    "        numero_grande = number\n",
    "    \n",
    "    number = int(input('Introduce un número o escribe -1 para terminar'))\n",
    "\n",
    "print(f'El numero mas grande es: {numero_grande}')"
   ]
  },
  {
   "cell_type": "code",
   "execution_count": null,
   "id": "4578122f",
   "metadata": {},
   "outputs": [],
   "source": [
    "# Imprimir todos los numeros del 1 a N\n",
    "\n",
    "numero = int(input('Introduce un número'))\n",
    "\n",
    "i = 1\n",
    "while i <= numero:\n",
    "    print(f'Soy el número {i}')\n",
    "    i = i + 1\n",
    "\n",
    "print ('Fin del programa')\n"
   ]
  },
  {
   "cell_type": "markdown",
   "id": "a21df184",
   "metadata": {},
   "source": [
    "**Realizar un programa que calcule el promedio de calificaciones n**"
   ]
  },
  {
   "cell_type": "code",
   "execution_count": null,
   "id": "93980082",
   "metadata": {},
   "outputs": [],
   "source": [
    "n = float(input('Introduce el numero de calificaciones'))\n",
    "i = 1\n",
    "sumaCalif = 0.0\n",
    "calif = 0.0\n",
    "\n",
    "while i<=n:\n",
    "    sumaCalif+=float(input(f'Introduce la calificiacion {i}')) \n",
    "    i = i+1\n",
    "print (f'El promedio de calificaciones es {sumaCalif/n}')"
   ]
  },
  {
   "cell_type": "code",
   "execution_count": null,
   "id": "4c205266",
   "metadata": {},
   "outputs": [],
   "source": [
    "cal = int(input('Introduce la calificación'))\n",
    "califAprob = 0\n",
    "califRepro = 0\n",
    "\n",
    "while cal!=-1:\n",
    "    if cal>=7.0 and cal<=10.0:\n",
    "        califAprob = califAprob + 1\n",
    "    elif cal<7.0 and cal>=0:\n",
    "        califRepro+=1\n",
    "    \n",
    "    cal = int(input('Introduce la calificación'))\n",
    "\n",
    "print(f'El número de aprobados es {califAprob}\\nEl número de reprobados es: {califRepro}')"
   ]
  },
  {
   "cell_type": "markdown",
   "id": "7b7cdf95",
   "metadata": {},
   "source": [
    "## Bucle con for\n",
    "\n",
    "Otro tipo de bucle disponible en `python`proviene de la observación de que a veces es más importante contar los 'giros o vueltas' del bucle que verificar las condiciones.\n",
    "\n",
    "```python\n",
    "for i in range (100):\n",
    "    # do_something()\n",
    "    pass\n",
    "```"
   ]
  },
  {
   "cell_type": "code",
   "execution_count": null,
   "id": "8dca2964",
   "metadata": {},
   "outputs": [],
   "source": [
    "for i in range(20):\n",
    "    print(f'El valor de i es {i}')"
   ]
  },
  {
   "cell_type": "code",
   "execution_count": null,
   "id": "391ad1eb",
   "metadata": {},
   "outputs": [],
   "source": [
    "for i in range(20):\n",
    "    print(f'El valor de i es {i + 1}')"
   ]
  },
  {
   "cell_type": "code",
   "execution_count": null,
   "id": "c7d3560f",
   "metadata": {},
   "outputs": [],
   "source": [
    "lista = [2,3,4,9,6,7,10,[2,3,5,6]]\n",
    "\n",
    "for li in lista:\n",
    "    print(li)\n"
   ]
  },
  {
   "cell_type": "markdown",
   "id": "ac485c9b",
   "metadata": {},
   "source": [
    "Nota:\n",
    "\n",
    "el bucle se ha ejecutado 10 veces (es el argumento de la función range()) El valor de la ultima variable de control es 9 (no 10, ya que comienza en 0, no desde 1) "
   ]
  },
  {
   "cell_type": "code",
   "execution_count": null,
   "id": "54ecbfe2",
   "metadata": {},
   "outputs": [],
   "source": [
    "for i in range(2,8):\n",
    "    print(f'El valor de i es {i}')"
   ]
  },
  {
   "cell_type": "code",
   "execution_count": null,
   "id": "b7a71f96",
   "metadata": {},
   "outputs": [],
   "source": [
    "i = 2\n",
    "while i<8:\n",
    "    print(f'El valor de i es {i}')\n",
    "    i+=1"
   ]
  },
  {
   "cell_type": "markdown",
   "id": "8f4b890c",
   "metadata": {},
   "source": [
    "La función range tambien puede aceptar tres argumentos"
   ]
  },
  {
   "cell_type": "code",
   "execution_count": null,
   "id": "a27592b5",
   "metadata": {},
   "outputs": [],
   "source": [
    "for i in range(2, 8, 3 ):\n",
    "    print(f'El valor de i es {i}')"
   ]
  },
  {
   "cell_type": "code",
   "execution_count": null,
   "id": "5a8f026a",
   "metadata": {},
   "outputs": [],
   "source": [
    "i = 2\n",
    "while i<8:\n",
    "    print(f'El valor de i es {i}')\n",
    "    i+=3"
   ]
  },
  {
   "cell_type": "markdown",
   "id": "2a71e7fa",
   "metadata": {},
   "source": [
    "Las sentencias break y continue\n",
    "\n",
    " `break` - Sale del bucle inmediatamente, e incondicionalmente termina la operación del bucle, el programa empieza a ejecutar la instrucción mas cercana después del cuerpo del bucle\n",
    "\n",
    " `continue` - Se comporta como si el programa hubiera llegado repentinamente al final del cuerpo; el siguiente turno se inicia y la expresión de condición se prueba de inmediato"
   ]
  },
  {
   "cell_type": "code",
   "execution_count": null,
   "id": "b54c8484",
   "metadata": {},
   "outputs": [],
   "source": [
    "# break - ejemplo\n",
    "\n",
    "print(\"La instrucción break\")\n",
    "for i in range(1, 6):\n",
    "    print('Dentro del bucle')\n",
    "    if i == 3:\n",
    "        break\n",
    "print('Fuera del bucle')"
   ]
  },
  {
   "cell_type": "code",
   "execution_count": null,
   "id": "e8a385de",
   "metadata": {},
   "outputs": [],
   "source": [
    "# continue\n",
    "\n",
    "print('\\nLa instrucción continue:')\n",
    "for i in range(1,6):\n",
    "    if i == 3:\n",
    "        continue\n",
    "    print(f'Dentro del bucle. {i}')\n",
    "print('Fuera del Bucle')"
   ]
  },
  {
   "cell_type": "markdown",
   "id": "a237a7e2",
   "metadata": {},
   "source": [
    "### Bucles con while"
   ]
  },
  {
   "cell_type": "code",
   "execution_count": null,
   "id": "25221fe2",
   "metadata": {},
   "outputs": [],
   "source": [
    "while(True):\n",
    "    print(\"Estoy dentro de bucle y no puedo salir\")"
   ]
  },
  {
   "cell_type": "code",
   "execution_count": null,
   "id": "672f8f4f",
   "metadata": {},
   "outputs": [],
   "source": [
    "while(True):\n",
    "    pass\n",
    "print(\"Estoy dentro de bucle y no puedo salir\")"
   ]
  },
  {
   "cell_type": "code",
   "execution_count": null,
   "id": "02caafc2",
   "metadata": {},
   "outputs": [],
   "source": [
    "bignum = -999999999\n",
    "\n",
    "#ingresa el primer valor\n",
    "number = int(input('Introduce un numero o escribe -1 para terminar'))\n",
    "\n",
    "while number!= -1:\n",
    "    # Es el numero mas grande que el valor numero_grande?\n",
    "    if number > bignum:\n",
    "        bignum = number\n",
    "    number = int(input('Introduce un numero o escribe -1 para terminar'))\n",
    "\n",
    "print(f'el numero mas grande es {bignum}')"
   ]
  },
  {
   "cell_type": "code",
   "execution_count": null,
   "id": "80ff71c5",
   "metadata": {},
   "outputs": [],
   "source": [
    "numero = int(input('Introdice un numero'))\n",
    "\n",
    "i = 1\n",
    "\n",
    "while i <= numero:\n",
    "    print(f'Soy el numero {i}')\n",
    "    i = i + 1\n",
    "print('Fin del programa')"
   ]
  },
  {
   "cell_type": "markdown",
   "id": "645f50d4",
   "metadata": {},
   "source": [
    "**Realizar un programa que calcule el promedio de calificaciones x**\n",
    "\n"
   ]
  },
  {
   "cell_type": "code",
   "execution_count": null,
   "id": "829d8c30",
   "metadata": {},
   "outputs": [],
   "source": [
    "\n",
    "califAprob = 0\n",
    "califRepro = 0\n",
    "cal = int(input('Introduce la calificación'))\n",
    "\n",
    "while cal != -1:\n",
    "    if cal >= 7.0 and cal <= 10.0:\n",
    "        califAprob = califAprob + 1\n",
    "    elif cal < 7.0 and cal >= 0:\n",
    "        califRepro += 1\n",
    "    cal = int(input('Introduce la calificación'))   \n",
    "        \n",
    "print(f'El número de aprobados es {califAprob}\\nEl número de reprobados es {califRepro}')\n"
   ]
  }
 ],
 "metadata": {
  "language_info": {
   "name": "python"
  }
 },
 "nbformat": 4,
 "nbformat_minor": 5
}
