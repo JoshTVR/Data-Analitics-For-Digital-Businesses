{
 "cells": [
  {
   "cell_type": "code",
   "execution_count": 1,
   "id": "9046af66",
   "metadata": {},
   "outputs": [],
   "source": [
    "import pandas as pd"
   ]
  },
  {
   "cell_type": "code",
   "execution_count": 2,
   "id": "fafc4c84",
   "metadata": {},
   "outputs": [],
   "source": [
    "import numpy as np"
   ]
  },
  {
   "cell_type": "code",
   "execution_count": 3,
   "id": "6f377b33",
   "metadata": {},
   "outputs": [],
   "source": [
    "import matplotlib as plt"
   ]
  },
  {
   "cell_type": "code",
   "execution_count": 4,
   "id": "31496ba0",
   "metadata": {},
   "outputs": [
    {
     "name": "stdout",
     "output_type": "stream",
     "text": [
      "  Nombre  Edad\n",
      "0    Ana    23\n",
      "1   Luis    30\n",
      "2  Pedro    27\n"
     ]
    }
   ],
   "source": [
    "datos = {\n",
    "    'Nombre':['Ana', 'Luis', 'Pedro'],\n",
    "    'Edad':[23,30,27]\n",
    "}\n",
    "df = pd.DataFrame(datos)\n",
    "print(df)"
   ]
  },
  {
   "cell_type": "markdown",
   "id": "609a0bb7",
   "metadata": {},
   "source": [
    "## Series\n",
    "\n",
    "- Es un arreglo unidimensional que puede contener datos de cualquier tipo de `enteros, flotantes, strings, etc` y tiene un indice asocioado. Lo que le da acceso a los datos. "
   ]
  },
  {
   "cell_type": "code",
   "execution_count": 5,
   "id": "bbf854a8",
   "metadata": {},
   "outputs": [],
   "source": [
    "# Crear una lista \n",
    "edad = [30,40,60]"
   ]
  },
  {
   "cell_type": "code",
   "execution_count": 6,
   "id": "97bbcd31",
   "metadata": {},
   "outputs": [],
   "source": [
    "# Convertir a serie \n",
    "serie = pd.Series(edad)"
   ]
  },
  {
   "cell_type": "code",
   "execution_count": 7,
   "id": "31d16c7a",
   "metadata": {},
   "outputs": [
    {
     "data": {
      "text/plain": [
       "0    30\n",
       "1    40\n",
       "2    60\n",
       "dtype: int64"
      ]
     },
     "execution_count": 7,
     "metadata": {},
     "output_type": "execute_result"
    }
   ],
   "source": [
    "# Mostrar resultado\n",
    "serie"
   ]
  },
  {
   "cell_type": "code",
   "execution_count": 8,
   "id": "172d06d8",
   "metadata": {},
   "outputs": [],
   "source": [
    "# Cambiar indices \n",
    "serie = pd.Series(edad, index = ['Alex', 'John', 'Maria'])"
   ]
  },
  {
   "cell_type": "code",
   "execution_count": 9,
   "id": "06280e76",
   "metadata": {},
   "outputs": [
    {
     "data": {
      "text/plain": [
       "Alex     30\n",
       "John     40\n",
       "Maria    60\n",
       "dtype: int64"
      ]
     },
     "execution_count": 9,
     "metadata": {},
     "output_type": "execute_result"
    }
   ],
   "source": [
    "serie"
   ]
  },
  {
   "cell_type": "code",
   "execution_count": null,
   "id": "cb262dab",
   "metadata": {},
   "outputs": [
    {
     "data": {
      "text/plain": [
       "np.int64(30)"
      ]
     },
     "execution_count": 10,
     "metadata": {},
     "output_type": "execute_result"
    }
   ],
   "source": [
    "serie['Alex']."
   ]
  },
  {
   "cell_type": "code",
   "execution_count": 11,
   "id": "acd66253",
   "metadata": {},
   "outputs": [
    {
     "name": "stdout",
     "output_type": "stream",
     "text": [
      "0      1\n",
      "1      4\n",
      "2      9\n",
      "3      2\n",
      "4      6\n",
      "5     10\n",
      "6    200\n",
      "dtype: int64\n"
     ]
    }
   ],
   "source": [
    "naranjas = pd.Series([1,4,9,2,6,10,200])\n",
    "print(naranjas)"
   ]
  },
  {
   "cell_type": "code",
   "execution_count": 12,
   "id": "0f5417be",
   "metadata": {},
   "outputs": [
    {
     "data": {
      "text/plain": [
       "pandas.core.series.Series"
      ]
     },
     "execution_count": 12,
     "metadata": {},
     "output_type": "execute_result"
    }
   ],
   "source": [
    "type(naranjas)"
   ]
  }
 ],
 "metadata": {
  "kernelspec": {
   "display_name": "base",
   "language": "python",
   "name": "python3"
  },
  "language_info": {
   "codemirror_mode": {
    "name": "ipython",
    "version": 3
   },
   "file_extension": ".py",
   "mimetype": "text/x-python",
   "name": "python",
   "nbconvert_exporter": "python",
   "pygments_lexer": "ipython3",
   "version": "3.12.8"
  }
 },
 "nbformat": 4,
 "nbformat_minor": 5
}
