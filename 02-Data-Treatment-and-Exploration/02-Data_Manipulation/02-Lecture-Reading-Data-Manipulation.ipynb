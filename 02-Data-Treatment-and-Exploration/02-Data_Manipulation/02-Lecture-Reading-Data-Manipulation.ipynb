{
 "cells": [
  {
   "cell_type": "markdown",
   "id": "23022053",
   "metadata": {},
   "source": [
    "# Exploración Inicial de Datos con Pandas\n",
    "## Funciones Esenciales para el Análisis Exploratorio"
   ]
  },
  {
   "cell_type": "markdown",
   "id": "84b4e016",
   "metadata": {},
   "source": [
    "### MANIPULACION Y LECTURA DE DATOS EN PANDAS\n",
    "\n",
    "¿para que sirve?\n",
    "\n",
    "La carga y lectura de datos en Pandas sirve para importar y manipular datos facilmente dentro de Python. Es uno de los pasos mas importantes cuando trabajas con analisis de datos, ciencia de\n",
    "datos o cualquier proceso relacionado con bases de datos y archivos.\n",
    "\n",
    "Asi se importa la libreria de pandas y se hace la lectura de cualquier archivo mencionado en la diapositiva\n",
    "\n",
    "¿Qué es la lectura de datos en Pandas?\n",
    "\n",
    "Es el proceso de importar datos externos a un programa de Python usando Pandas. Los datos pueden estar en muchos formatos como:\n",
    "\n",
    "- csv (valores separados por comas)\n",
    "- xlsx (Excel)\n",
    "- json\n",
    "- sql (bases de datos)\n",
    "- Archivos de texto (.txt)\n",
    "- HTML, entre otros"
   ]
  },
  {
   "cell_type": "markdown",
   "id": "56114772",
   "metadata": {},
   "source": [
    "### Exploracion: Comandos o Metodos, `head()`, `info()`, `describe`, `dtype` y `shape`"
   ]
  },
  {
   "cell_type": "code",
   "execution_count": null,
   "id": "c6ed73b1",
   "metadata": {},
   "outputs": [
    {
     "data": {
      "text/html": [
       "<div>\n",
       "<style scoped>\n",
       "    .dataframe tbody tr th:only-of-type {\n",
       "        vertical-align: middle;\n",
       "    }\n",
       "\n",
       "    .dataframe tbody tr th {\n",
       "        vertical-align: top;\n",
       "    }\n",
       "\n",
       "    .dataframe thead th {\n",
       "        text-align: right;\n",
       "    }\n",
       "</style>\n",
       "<table border=\"1\" class=\"dataframe\">\n",
       "  <thead>\n",
       "    <tr style=\"text-align: right;\">\n",
       "      <th></th>\n",
       "      <th>title</th>\n",
       "      <th>company</th>\n",
       "      <th>description</th>\n",
       "      <th>onsite_remote</th>\n",
       "      <th>salary_float</th>\n",
       "      <th>location</th>\n",
       "      <th>criteria</th>\n",
       "      <th>posted_date</th>\n",
       "      <th>link</th>\n",
       "    </tr>\n",
       "  </thead>\n",
       "  <tbody>\n",
       "    <tr>\n",
       "      <th>0</th>\n",
       "      <td>Data Analyst - Recent Graduate</td>\n",
       "      <td>PayPal</td>\n",
       "      <td>At PayPal (NASDAQ: PYPL), we believe that ever...</td>\n",
       "      <td>onsite</td>\n",
       "      <td>86658.0</td>\n",
       "      <td>Buffalo-Niagara Falls Area</td>\n",
       "      <td>[{'Seniority level': 'Not Applicable'}, {'Empl...</td>\n",
       "      <td>2022-11-22</td>\n",
       "      <td>https://www.linkedin.com/jobs/view/data-analys...</td>\n",
       "    </tr>\n",
       "    <tr>\n",
       "      <th>1</th>\n",
       "      <td>Data Analyst - Recent Graduate</td>\n",
       "      <td>PayPal</td>\n",
       "      <td>At PayPal (NASDAQ: PYPL), we believe that ever...</td>\n",
       "      <td>onsite</td>\n",
       "      <td>74052.0</td>\n",
       "      <td>San Jose, CA</td>\n",
       "      <td>[{'Seniority level': 'Not Applicable'}, {'Empl...</td>\n",
       "      <td>2022-11-22</td>\n",
       "      <td>https://www.linkedin.com/jobs/view/data-analys...</td>\n",
       "    </tr>\n",
       "    <tr>\n",
       "      <th>2</th>\n",
       "      <td>Data Analyst</td>\n",
       "      <td>PayPal</td>\n",
       "      <td>At PayPal (NASDAQ: PYPL), we believe that ever...</td>\n",
       "      <td>onsite</td>\n",
       "      <td>81425.0</td>\n",
       "      <td>Texas, United States</td>\n",
       "      <td>[{'Seniority level': 'Not Applicable'}, {'Empl...</td>\n",
       "      <td>2022-11-17</td>\n",
       "      <td>https://www.linkedin.com/jobs/view/data-analys...</td>\n",
       "    </tr>\n",
       "    <tr>\n",
       "      <th>3</th>\n",
       "      <td>Data Analyst</td>\n",
       "      <td>PayPal</td>\n",
       "      <td>At PayPal (NASDAQ: PYPL), we believe that ever...</td>\n",
       "      <td>onsite</td>\n",
       "      <td>74828.0</td>\n",
       "      <td>Illinois, United States</td>\n",
       "      <td>[{'Seniority level': 'Not Applicable'}, {'Empl...</td>\n",
       "      <td>2022-11-17</td>\n",
       "      <td>https://www.linkedin.com/jobs/view/data-analys...</td>\n",
       "    </tr>\n",
       "    <tr>\n",
       "      <th>4</th>\n",
       "      <td>Entry-Level Data Analyst</td>\n",
       "      <td>The Federal Savings Bank</td>\n",
       "      <td>The Federal Savings Bank, a national bank and ...</td>\n",
       "      <td>onsite</td>\n",
       "      <td>83737.0</td>\n",
       "      <td>Chicago, IL</td>\n",
       "      <td>[{'Seniority level': 'Entry level'}, {'Employm...</td>\n",
       "      <td>2022-11-17</td>\n",
       "      <td>https://www.linkedin.com/jobs/view/entry-level...</td>\n",
       "    </tr>\n",
       "  </tbody>\n",
       "</table>\n",
       "</div>"
      ],
      "text/plain": [
       "                            title                   company  \\\n",
       "0  Data Analyst - Recent Graduate                    PayPal   \n",
       "1  Data Analyst - Recent Graduate                    PayPal   \n",
       "2                    Data Analyst                    PayPal   \n",
       "3                    Data Analyst                    PayPal   \n",
       "4        Entry-Level Data Analyst  The Federal Savings Bank   \n",
       "\n",
       "                                         description onsite_remote  \\\n",
       "0  At PayPal (NASDAQ: PYPL), we believe that ever...        onsite   \n",
       "1  At PayPal (NASDAQ: PYPL), we believe that ever...        onsite   \n",
       "2  At PayPal (NASDAQ: PYPL), we believe that ever...        onsite   \n",
       "3  At PayPal (NASDAQ: PYPL), we believe that ever...        onsite   \n",
       "4  The Federal Savings Bank, a national bank and ...        onsite   \n",
       "\n",
       "   salary_float                    location  \\\n",
       "0       86658.0  Buffalo-Niagara Falls Area   \n",
       "1       74052.0                San Jose, CA   \n",
       "2       81425.0        Texas, United States   \n",
       "3       74828.0     Illinois, United States   \n",
       "4       83737.0                 Chicago, IL   \n",
       "\n",
       "                                            criteria posted_date  \\\n",
       "0  [{'Seniority level': 'Not Applicable'}, {'Empl...  2022-11-22   \n",
       "1  [{'Seniority level': 'Not Applicable'}, {'Empl...  2022-11-22   \n",
       "2  [{'Seniority level': 'Not Applicable'}, {'Empl...  2022-11-17   \n",
       "3  [{'Seniority level': 'Not Applicable'}, {'Empl...  2022-11-17   \n",
       "4  [{'Seniority level': 'Entry level'}, {'Employm...  2022-11-17   \n",
       "\n",
       "                                                link  \n",
       "0  https://www.linkedin.com/jobs/view/data-analys...  \n",
       "1  https://www.linkedin.com/jobs/view/data-analys...  \n",
       "2  https://www.linkedin.com/jobs/view/data-analys...  \n",
       "3  https://www.linkedin.com/jobs/view/data-analys...  \n",
       "4  https://www.linkedin.com/jobs/view/entry-level...  "
      ]
     },
     "metadata": {},
     "output_type": "display_data"
    }
   ],
   "source": [
    "df.head() # Muestra los primeros 5 filas desde el indice 0 hasta el indice 5"
   ]
  },
  {
   "cell_type": "code",
   "execution_count": null,
   "id": "a36a7cb2",
   "metadata": {},
   "outputs": [
    {
     "data": {
      "text/html": [
       "<div>\n",
       "<style scoped>\n",
       "    .dataframe tbody tr th:only-of-type {\n",
       "        vertical-align: middle;\n",
       "    }\n",
       "\n",
       "    .dataframe tbody tr th {\n",
       "        vertical-align: top;\n",
       "    }\n",
       "\n",
       "    .dataframe thead th {\n",
       "        text-align: right;\n",
       "    }\n",
       "</style>\n",
       "<table border=\"1\" class=\"dataframe\">\n",
       "  <thead>\n",
       "    <tr style=\"text-align: right;\">\n",
       "      <th></th>\n",
       "      <th>title</th>\n",
       "      <th>company</th>\n",
       "      <th>description</th>\n",
       "      <th>onsite_remote</th>\n",
       "      <th>salary_float</th>\n",
       "      <th>location</th>\n",
       "      <th>criteria</th>\n",
       "      <th>posted_date</th>\n",
       "      <th>link</th>\n",
       "    </tr>\n",
       "  </thead>\n",
       "  <tbody>\n",
       "    <tr>\n",
       "      <th>0</th>\n",
       "      <td>Data Analyst - Recent Graduate</td>\n",
       "      <td>PayPal</td>\n",
       "      <td>At PayPal (NASDAQ: PYPL), we believe that ever...</td>\n",
       "      <td>onsite</td>\n",
       "      <td>86658.0</td>\n",
       "      <td>Buffalo-Niagara Falls Area</td>\n",
       "      <td>[{'Seniority level': 'Not Applicable'}, {'Empl...</td>\n",
       "      <td>2022-11-22</td>\n",
       "      <td>https://www.linkedin.com/jobs/view/data-analys...</td>\n",
       "    </tr>\n",
       "    <tr>\n",
       "      <th>1</th>\n",
       "      <td>Data Analyst - Recent Graduate</td>\n",
       "      <td>PayPal</td>\n",
       "      <td>At PayPal (NASDAQ: PYPL), we believe that ever...</td>\n",
       "      <td>onsite</td>\n",
       "      <td>74052.0</td>\n",
       "      <td>San Jose, CA</td>\n",
       "      <td>[{'Seniority level': 'Not Applicable'}, {'Empl...</td>\n",
       "      <td>2022-11-22</td>\n",
       "      <td>https://www.linkedin.com/jobs/view/data-analys...</td>\n",
       "    </tr>\n",
       "    <tr>\n",
       "      <th>2</th>\n",
       "      <td>Data Analyst</td>\n",
       "      <td>PayPal</td>\n",
       "      <td>At PayPal (NASDAQ: PYPL), we believe that ever...</td>\n",
       "      <td>onsite</td>\n",
       "      <td>81425.0</td>\n",
       "      <td>Texas, United States</td>\n",
       "      <td>[{'Seniority level': 'Not Applicable'}, {'Empl...</td>\n",
       "      <td>2022-11-17</td>\n",
       "      <td>https://www.linkedin.com/jobs/view/data-analys...</td>\n",
       "    </tr>\n",
       "    <tr>\n",
       "      <th>3</th>\n",
       "      <td>Data Analyst</td>\n",
       "      <td>PayPal</td>\n",
       "      <td>At PayPal (NASDAQ: PYPL), we believe that ever...</td>\n",
       "      <td>onsite</td>\n",
       "      <td>74828.0</td>\n",
       "      <td>Illinois, United States</td>\n",
       "      <td>[{'Seniority level': 'Not Applicable'}, {'Empl...</td>\n",
       "      <td>2022-11-17</td>\n",
       "      <td>https://www.linkedin.com/jobs/view/data-analys...</td>\n",
       "    </tr>\n",
       "    <tr>\n",
       "      <th>4</th>\n",
       "      <td>Entry-Level Data Analyst</td>\n",
       "      <td>The Federal Savings Bank</td>\n",
       "      <td>The Federal Savings Bank, a national bank and ...</td>\n",
       "      <td>onsite</td>\n",
       "      <td>83737.0</td>\n",
       "      <td>Chicago, IL</td>\n",
       "      <td>[{'Seniority level': 'Entry level'}, {'Employm...</td>\n",
       "      <td>2022-11-17</td>\n",
       "      <td>https://www.linkedin.com/jobs/view/entry-level...</td>\n",
       "    </tr>\n",
       "    <tr>\n",
       "      <th>5</th>\n",
       "      <td>Data Analyst</td>\n",
       "      <td>PayPal</td>\n",
       "      <td>At PayPal (NASDAQ: PYPL), we believe that ever...</td>\n",
       "      <td>onsite</td>\n",
       "      <td>82802.0</td>\n",
       "      <td>Greater Scranton Area</td>\n",
       "      <td>[{'Seniority level': 'Not Applicable'}, {'Empl...</td>\n",
       "      <td>2022-11-17</td>\n",
       "      <td>https://www.linkedin.com/jobs/view/data-analys...</td>\n",
       "    </tr>\n",
       "    <tr>\n",
       "      <th>6</th>\n",
       "      <td>Data Analyst</td>\n",
       "      <td>PayPal</td>\n",
       "      <td>At PayPal (NASDAQ: PYPL), we believe that ever...</td>\n",
       "      <td>onsite</td>\n",
       "      <td>104876.5</td>\n",
       "      <td>Tennessee, United States</td>\n",
       "      <td>[{'Seniority level': 'Not Applicable'}, {'Empl...</td>\n",
       "      <td>2022-11-17</td>\n",
       "      <td>https://www.linkedin.com/jobs/view/data-analys...</td>\n",
       "    </tr>\n",
       "    <tr>\n",
       "      <th>7</th>\n",
       "      <td>Data Analyst</td>\n",
       "      <td>PayPal</td>\n",
       "      <td>At PayPal (NASDAQ: PYPL), we believe that ever...</td>\n",
       "      <td>onsite</td>\n",
       "      <td>69238.0</td>\n",
       "      <td>Indiana, United States</td>\n",
       "      <td>[{'Seniority level': 'Not Applicable'}, {'Empl...</td>\n",
       "      <td>2022-11-17</td>\n",
       "      <td>https://www.linkedin.com/jobs/view/data-analys...</td>\n",
       "    </tr>\n",
       "    <tr>\n",
       "      <th>8</th>\n",
       "      <td>Data Analyst</td>\n",
       "      <td>London Approach</td>\n",
       "      <td>The ideal candidate for the Data Analyst/Finan...</td>\n",
       "      <td>onsite</td>\n",
       "      <td>110000.0</td>\n",
       "      <td>Franklin, TN</td>\n",
       "      <td>[{'Seniority level': 'Associate'}, {'Employmen...</td>\n",
       "      <td>2022-11-21</td>\n",
       "      <td>https://www.linkedin.com/jobs/view/data-analys...</td>\n",
       "    </tr>\n",
       "    <tr>\n",
       "      <th>9</th>\n",
       "      <td>Data Analyst</td>\n",
       "      <td>PayPal</td>\n",
       "      <td>At PayPal (NASDAQ: PYPL), we believe that ever...</td>\n",
       "      <td>onsite</td>\n",
       "      <td>96382.0</td>\n",
       "      <td>Wisconsin, United States</td>\n",
       "      <td>[{'Seniority level': 'Not Applicable'}, {'Empl...</td>\n",
       "      <td>2022-11-17</td>\n",
       "      <td>https://www.linkedin.com/jobs/view/data-analys...</td>\n",
       "    </tr>\n",
       "  </tbody>\n",
       "</table>\n",
       "</div>"
      ],
      "text/plain": [
       "                            title                   company  \\\n",
       "0  Data Analyst - Recent Graduate                    PayPal   \n",
       "1  Data Analyst - Recent Graduate                    PayPal   \n",
       "2                    Data Analyst                    PayPal   \n",
       "3                    Data Analyst                    PayPal   \n",
       "4        Entry-Level Data Analyst  The Federal Savings Bank   \n",
       "5                    Data Analyst                    PayPal   \n",
       "6                    Data Analyst                    PayPal   \n",
       "7                    Data Analyst                    PayPal   \n",
       "8                    Data Analyst           London Approach   \n",
       "9                    Data Analyst                    PayPal   \n",
       "\n",
       "                                         description onsite_remote  \\\n",
       "0  At PayPal (NASDAQ: PYPL), we believe that ever...        onsite   \n",
       "1  At PayPal (NASDAQ: PYPL), we believe that ever...        onsite   \n",
       "2  At PayPal (NASDAQ: PYPL), we believe that ever...        onsite   \n",
       "3  At PayPal (NASDAQ: PYPL), we believe that ever...        onsite   \n",
       "4  The Federal Savings Bank, a national bank and ...        onsite   \n",
       "5  At PayPal (NASDAQ: PYPL), we believe that ever...        onsite   \n",
       "6  At PayPal (NASDAQ: PYPL), we believe that ever...        onsite   \n",
       "7  At PayPal (NASDAQ: PYPL), we believe that ever...        onsite   \n",
       "8  The ideal candidate for the Data Analyst/Finan...        onsite   \n",
       "9  At PayPal (NASDAQ: PYPL), we believe that ever...        onsite   \n",
       "\n",
       "   salary_float                    location  \\\n",
       "0       86658.0  Buffalo-Niagara Falls Area   \n",
       "1       74052.0                San Jose, CA   \n",
       "2       81425.0        Texas, United States   \n",
       "3       74828.0     Illinois, United States   \n",
       "4       83737.0                 Chicago, IL   \n",
       "5       82802.0       Greater Scranton Area   \n",
       "6      104876.5    Tennessee, United States   \n",
       "7       69238.0      Indiana, United States   \n",
       "8      110000.0                Franklin, TN   \n",
       "9       96382.0    Wisconsin, United States   \n",
       "\n",
       "                                            criteria posted_date  \\\n",
       "0  [{'Seniority level': 'Not Applicable'}, {'Empl...  2022-11-22   \n",
       "1  [{'Seniority level': 'Not Applicable'}, {'Empl...  2022-11-22   \n",
       "2  [{'Seniority level': 'Not Applicable'}, {'Empl...  2022-11-17   \n",
       "3  [{'Seniority level': 'Not Applicable'}, {'Empl...  2022-11-17   \n",
       "4  [{'Seniority level': 'Entry level'}, {'Employm...  2022-11-17   \n",
       "5  [{'Seniority level': 'Not Applicable'}, {'Empl...  2022-11-17   \n",
       "6  [{'Seniority level': 'Not Applicable'}, {'Empl...  2022-11-17   \n",
       "7  [{'Seniority level': 'Not Applicable'}, {'Empl...  2022-11-17   \n",
       "8  [{'Seniority level': 'Associate'}, {'Employmen...  2022-11-21   \n",
       "9  [{'Seniority level': 'Not Applicable'}, {'Empl...  2022-11-17   \n",
       "\n",
       "                                                link  \n",
       "0  https://www.linkedin.com/jobs/view/data-analys...  \n",
       "1  https://www.linkedin.com/jobs/view/data-analys...  \n",
       "2  https://www.linkedin.com/jobs/view/data-analys...  \n",
       "3  https://www.linkedin.com/jobs/view/data-analys...  \n",
       "4  https://www.linkedin.com/jobs/view/entry-level...  \n",
       "5  https://www.linkedin.com/jobs/view/data-analys...  \n",
       "6  https://www.linkedin.com/jobs/view/data-analys...  \n",
       "7  https://www.linkedin.com/jobs/view/data-analys...  \n",
       "8  https://www.linkedin.com/jobs/view/data-analys...  \n",
       "9  https://www.linkedin.com/jobs/view/data-analys...  "
      ]
     },
     "metadata": {},
     "output_type": "display_data"
    }
   ],
   "source": [
    "df.head(10)"
   ]
  },
  {
   "cell_type": "markdown",
   "id": "56f4ff64",
   "metadata": {},
   "source": [
    "## 1. Importación de Librerías"
   ]
  },
  {
   "cell_type": "code",
   "execution_count": null,
   "id": "37decd39",
   "metadata": {},
   "outputs": [],
   "source": [
    "import pandas as pd\n",
    "import numpy as np"
   ]
  },
  {
   "cell_type": "markdown",
   "id": "ba6acb94",
   "metadata": {},
   "source": [
    "## 2. Carga de Datos de Ejemplo\n",
    "Dataset: Empleos de LinkedIn en EE.UU. (Data Analyst)"
   ]
  },
  {
   "cell_type": "code",
   "execution_count": null,
   "id": "8fe17430",
   "metadata": {},
   "outputs": [],
   "source": [
    "# Cargamos el dataset\n",
    "df = pd.read_csv('./data/linkedin-jobs-usa-modificado.csv')"
   ]
  },
  {
   "cell_type": "markdown",
   "id": "b5f37398",
   "metadata": {},
   "source": [
    "## 3. head() - Primer Vistazo a los Datos"
   ]
  },
  {
   "cell_type": "markdown",
   "id": "9d52564f",
   "metadata": {},
   "source": [
    "**¿Qué hace?**  \n",
    "Muestra las primeras filas del DataFrame (5 por defecto).\n",
    "\n",
    "**¿Por qué es útil?**  \n",
    "- Verifica la correcta carga de datos  \n",
    "- Inspecciona la estructura del dataset  \n",
    "- Identifica nombres de columnas y tipos de datos preliminares\n",
    "\n",
    "**¿Para qué se usa?**  \n",
    "Exploración inicial rápida antes de análisis profundos"
   ]
  },
  {
   "cell_type": "code",
   "execution_count": null,
   "id": "2ee40d2f",
   "metadata": {},
   "outputs": [],
   "source": [
    "# Primeras 5 filas\n",
    "df.head()"
   ]
  },
  {
   "cell_type": "code",
   "execution_count": null,
   "id": "2f7ecc04",
   "metadata": {},
   "outputs": [],
   "source": [
    "# Primeras 10 filas\n",
    "df.head(10)"
   ]
  },
  {
   "cell_type": "markdown",
   "id": "0edc8843",
   "metadata": {},
   "source": [
    "## 4. info() - Metadatos del DataFrame"
   ]
  },
  {
   "cell_type": "markdown",
   "id": "02208ace",
   "metadata": {},
   "source": [
    "**¿Qué hace?**  \n",
    "Proporciona un resumen detallado:  \n",
    "- Número de filas  \n",
    "- Nombre y tipo de columnas  \n",
    "- Valores no nulos  \n",
    "- Uso de memoria\n",
    "\n",
    "**¿Por qué es crucial?**  \n",
    "- Detecta valores faltantes (¡problema común!)  \n",
    "- Identifica tipos de datos incorrectos  \n",
    "- Estima el consumo de memoria\n",
    "\n",
    "**¿Para qué se usa?**  \n",
    "Diagnóstico inicial de calidad de datos"
   ]
  },
  {
   "cell_type": "code",
   "execution_count": null,
   "id": "52d04f1e",
   "metadata": {},
   "outputs": [],
   "source": [
    "df.info()"
   ]
  },
  {
   "cell_type": "markdown",
   "id": "ad94c773",
   "metadata": {},
   "source": [
    "## 5. describe() - Análisis Estadístico"
   ]
  },
  {
   "cell_type": "markdown",
   "id": "d007b15d",
   "metadata": {},
   "source": [
    "**¿Qué hace?**  \n",
    "Genera estadísticas descriptivas para columnas numéricas:\n",
    "- Conteo\n",
    "- Media\n",
    "- Desviación estándar\n",
    "- Mínimo/Máximo\n",
    "- Cuartiles (25%, 50%, 75%)\n",
    "\n",
    "**¿Por qué es fundamental?**  \n",
    "- Detecta outliers (valores atípicos)  \n",
    "- Revela sesgos en la distribución  \n",
    "- Proporciona contexto sobre la escala de los valores\n",
    "\n",
    "**¿Para qué se usa?**  \n",
    "Comprensión rápida de la distribución de datos numéricos"
   ]
  },
  {
   "cell_type": "code",
   "execution_count": null,
   "id": "498517eb",
   "metadata": {},
   "outputs": [],
   "source": [
    "df.describe()"
   ]
  },
  {
   "cell_type": "markdown",
   "id": "e7fab922",
   "metadata": {},
   "source": [
    "## 6. dtype - Tipos de Datos"
   ]
  },
  {
   "cell_type": "markdown",
   "id": "4cc2a64c",
   "metadata": {},
   "source": [
    "**¿Qué hace?**  \n",
    "Muestra el tipo de datos de cada columna\n",
    "\n",
    "**¿Por qué es vital?**  \n",
    "- Las operaciones matemáticas requieren tipos numéricos  \n",
    "- Las fechas deben ser datetime para análisis temporales  \n",
    "- Errores comunes: números almacenados como texto\n",
    "\n",
    "**¿Para qué se usa?**  \n",
    "Validar que los tipos sean correctos antes de operar"
   ]
  },
  {
   "cell_type": "code",
   "execution_count": null,
   "id": "d26cbce7",
   "metadata": {},
   "outputs": [],
   "source": [
    "# Tipos de todas las columnas\n",
    "df.dtypes"
   ]
  },
  {
   "cell_type": "code",
   "execution_count": null,
   "id": "723afe4a",
   "metadata": {},
   "outputs": [],
   "source": [
    "# Tipo de una columna específica\n",
    "df['salary_float'].dtype"
   ]
  },
  {
   "cell_type": "markdown",
   "id": "98745b3a",
   "metadata": {},
   "source": [
    "## 7. shape - Dimensiones del Dataset"
   ]
  },
  {
   "cell_type": "markdown",
   "id": "4a177eb0",
   "metadata": {},
   "source": [
    "**¿Qué hace?**  \n",
    "Devuelve una tupla con (filas, columnas)\n",
    "\n",
    "**¿Por qué es importante?**  \n",
    "- Conoce el tamaño de tu dataset  \n",
    "- Verifica cambios después de limpieza  \n",
    "- Esencial para bucles y operaciones vectorizadas\n",
    "\n",
    "**¿Para qué se usa?**  \n",
    "Control del tamaño del dataset y planificación de procesos"
   ]
  },
  {
   "cell_type": "code",
   "execution_count": null,
   "id": "90dfed26",
   "metadata": {},
   "outputs": [],
   "source": [
    "# Dimensiones completas\n",
    "df.shape"
   ]
  },
  {
   "cell_type": "code",
   "execution_count": null,
   "id": "81bc991f",
   "metadata": {},
   "outputs": [],
   "source": [
    "# Número de filas\n",
    "num_filas = df.shape[0]\n",
    "print(f\"Número de registros: {num_filas}\")"
   ]
  },
  {
   "cell_type": "code",
   "execution_count": null,
   "id": "3e8e550c",
   "metadata": {},
   "outputs": [],
   "source": [
    "# Número de columnas\n",
    "num_columnas = df.shape[1]\n",
    "print(f\"Número de características: {num_columnas}\")"
   ]
  },
  {
   "cell_type": "markdown",
   "id": "f850fecc",
   "metadata": {},
   "source": [
    "## 8. Flujo Recomendado de Exploración Inicial"
   ]
  },
  {
   "cell_type": "markdown",
   "id": "dff25605",
   "metadata": {},
   "source": [
    "```python\n",
    "1. df.head()       # Primer contacto con los datos\n",
    "2. df.info()       # Diagnóstico de estructura\n",
    "3. df.describe()   # Estadísticas básicas\n",
    "4. df.dtypes       # Verificación de tipos\n",
    "5. df.shape        # Control de dimensiones\n",
    "```\n",
    "\n",
    "**Beneficios:**  \n",
    "- Detecta problemas temprano  \n",
    "- Ahorra tiempo en depuración  \n",
    "- Proporciona contexto para análisis profundos  \n",
    "- Identifica necesidades de limpieza"
   ]
  },
  {
   "cell_type": "markdown",
   "id": "536070ca",
   "metadata": {},
   "source": [
    "## 9. Conclusión\n",
    "\n",
    "Estas 5 funciones constituyen el **kit básico de supervivencia** en Pandas. Dominarlas permite:\n",
    "\n",
    "1. Realizar una exploración inicial rápida y efectiva\n",
    "2. Detectar problemas de calidad de datos temprano\n",
    "3. Tomar decisiones informadas sobre próximos pasos\n",
    "4. Sentar bases sólidas para análisis más complejos\n",
    "\n",
    "**Regla de oro:** Siempre comienza tu análisis con estas funciones antes de operaciones más complejas."
   ]
  }
 ],
 "metadata": {
  "language_info": {
   "name": "python"
  }
 },
 "nbformat": 4,
 "nbformat_minor": 5
}
