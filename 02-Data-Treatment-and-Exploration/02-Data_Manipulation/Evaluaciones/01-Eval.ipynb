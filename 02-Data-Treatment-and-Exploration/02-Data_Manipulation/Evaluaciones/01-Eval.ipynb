{
 "cells": [
  {
   "cell_type": "markdown",
   "id": "72d21b06",
   "metadata": {},
   "source": [
    "# 🧪 Prácticas por Dataset de Kaggle"
   ]
  },
  {
   "cell_type": "markdown",
   "id": "a6eb189a",
   "metadata": {},
   "source": [
    "## 🛍️ Retail Sales Dataset"
   ]
  },
  {
   "cell_type": "markdown",
   "id": "02061b7c",
   "metadata": {},
   "source": [
    "🔗 Dataset disponible en: [https://www.kaggle.com/datasets/mohammadtalib786/retail-sales-dataset?utm_source=chatgpt.com](https://www.kaggle.com/datasets/mohammadtalib786/retail-sales-dataset?utm_source=chatgpt.com)"
   ]
  },
  {
   "cell_type": "code",
   "execution_count": 2,
   "id": "10c9f0c4",
   "metadata": {},
   "outputs": [],
   "source": [
    "import pandas as pd\n",
    "import matplotlib.pyplot as plt"
   ]
  },
  {
   "cell_type": "markdown",
   "id": "96599d3f",
   "metadata": {},
   "source": [
    "**Pregunta:** ¿Cuántas filas y columnas tiene el dataset?"
   ]
  },
  {
   "cell_type": "code",
   "execution_count": 39,
   "id": "37531725",
   "metadata": {},
   "outputs": [
    {
     "data": {
      "text/html": [
       "<div>\n",
       "<style scoped>\n",
       "    .dataframe tbody tr th:only-of-type {\n",
       "        vertical-align: middle;\n",
       "    }\n",
       "\n",
       "    .dataframe tbody tr th {\n",
       "        vertical-align: top;\n",
       "    }\n",
       "\n",
       "    .dataframe thead th {\n",
       "        text-align: right;\n",
       "    }\n",
       "</style>\n",
       "<table border=\"1\" class=\"dataframe\">\n",
       "  <thead>\n",
       "    <tr style=\"text-align: right;\">\n",
       "      <th></th>\n",
       "      <th>Transaction ID</th>\n",
       "      <th>Date</th>\n",
       "      <th>Customer ID</th>\n",
       "      <th>Gender</th>\n",
       "      <th>Age</th>\n",
       "      <th>Product Category</th>\n",
       "      <th>Quantity</th>\n",
       "      <th>Price per Unit</th>\n",
       "      <th>Total Amount</th>\n",
       "    </tr>\n",
       "  </thead>\n",
       "  <tbody>\n",
       "    <tr>\n",
       "      <th>0</th>\n",
       "      <td>1</td>\n",
       "      <td>2023-11-24</td>\n",
       "      <td>CUST001</td>\n",
       "      <td>Male</td>\n",
       "      <td>34</td>\n",
       "      <td>Beauty</td>\n",
       "      <td>3</td>\n",
       "      <td>50</td>\n",
       "      <td>150</td>\n",
       "    </tr>\n",
       "    <tr>\n",
       "      <th>1</th>\n",
       "      <td>2</td>\n",
       "      <td>2023-02-27</td>\n",
       "      <td>CUST002</td>\n",
       "      <td>Female</td>\n",
       "      <td>26</td>\n",
       "      <td>Clothing</td>\n",
       "      <td>2</td>\n",
       "      <td>500</td>\n",
       "      <td>1000</td>\n",
       "    </tr>\n",
       "    <tr>\n",
       "      <th>2</th>\n",
       "      <td>3</td>\n",
       "      <td>2023-01-13</td>\n",
       "      <td>CUST003</td>\n",
       "      <td>Male</td>\n",
       "      <td>50</td>\n",
       "      <td>Electronics</td>\n",
       "      <td>1</td>\n",
       "      <td>30</td>\n",
       "      <td>30</td>\n",
       "    </tr>\n",
       "    <tr>\n",
       "      <th>3</th>\n",
       "      <td>4</td>\n",
       "      <td>2023-05-21</td>\n",
       "      <td>CUST004</td>\n",
       "      <td>Male</td>\n",
       "      <td>37</td>\n",
       "      <td>Clothing</td>\n",
       "      <td>1</td>\n",
       "      <td>500</td>\n",
       "      <td>500</td>\n",
       "    </tr>\n",
       "    <tr>\n",
       "      <th>4</th>\n",
       "      <td>5</td>\n",
       "      <td>2023-05-06</td>\n",
       "      <td>CUST005</td>\n",
       "      <td>Male</td>\n",
       "      <td>30</td>\n",
       "      <td>Beauty</td>\n",
       "      <td>2</td>\n",
       "      <td>50</td>\n",
       "      <td>100</td>\n",
       "    </tr>\n",
       "    <tr>\n",
       "      <th>...</th>\n",
       "      <td>...</td>\n",
       "      <td>...</td>\n",
       "      <td>...</td>\n",
       "      <td>...</td>\n",
       "      <td>...</td>\n",
       "      <td>...</td>\n",
       "      <td>...</td>\n",
       "      <td>...</td>\n",
       "      <td>...</td>\n",
       "    </tr>\n",
       "    <tr>\n",
       "      <th>995</th>\n",
       "      <td>996</td>\n",
       "      <td>2023-05-16</td>\n",
       "      <td>CUST996</td>\n",
       "      <td>Male</td>\n",
       "      <td>62</td>\n",
       "      <td>Clothing</td>\n",
       "      <td>1</td>\n",
       "      <td>50</td>\n",
       "      <td>50</td>\n",
       "    </tr>\n",
       "    <tr>\n",
       "      <th>996</th>\n",
       "      <td>997</td>\n",
       "      <td>2023-11-17</td>\n",
       "      <td>CUST997</td>\n",
       "      <td>Male</td>\n",
       "      <td>52</td>\n",
       "      <td>Beauty</td>\n",
       "      <td>3</td>\n",
       "      <td>30</td>\n",
       "      <td>90</td>\n",
       "    </tr>\n",
       "    <tr>\n",
       "      <th>997</th>\n",
       "      <td>998</td>\n",
       "      <td>2023-10-29</td>\n",
       "      <td>CUST998</td>\n",
       "      <td>Female</td>\n",
       "      <td>23</td>\n",
       "      <td>Beauty</td>\n",
       "      <td>4</td>\n",
       "      <td>25</td>\n",
       "      <td>100</td>\n",
       "    </tr>\n",
       "    <tr>\n",
       "      <th>998</th>\n",
       "      <td>999</td>\n",
       "      <td>2023-12-05</td>\n",
       "      <td>CUST999</td>\n",
       "      <td>Female</td>\n",
       "      <td>36</td>\n",
       "      <td>Electronics</td>\n",
       "      <td>3</td>\n",
       "      <td>50</td>\n",
       "      <td>150</td>\n",
       "    </tr>\n",
       "    <tr>\n",
       "      <th>999</th>\n",
       "      <td>1000</td>\n",
       "      <td>2023-04-12</td>\n",
       "      <td>CUST1000</td>\n",
       "      <td>Male</td>\n",
       "      <td>47</td>\n",
       "      <td>Electronics</td>\n",
       "      <td>4</td>\n",
       "      <td>30</td>\n",
       "      <td>120</td>\n",
       "    </tr>\n",
       "  </tbody>\n",
       "</table>\n",
       "<p>1000 rows × 9 columns</p>\n",
       "</div>"
      ],
      "text/plain": [
       "     Transaction ID        Date Customer ID  Gender  Age Product Category  \\\n",
       "0                 1  2023-11-24     CUST001    Male   34           Beauty   \n",
       "1                 2  2023-02-27     CUST002  Female   26         Clothing   \n",
       "2                 3  2023-01-13     CUST003    Male   50      Electronics   \n",
       "3                 4  2023-05-21     CUST004    Male   37         Clothing   \n",
       "4                 5  2023-05-06     CUST005    Male   30           Beauty   \n",
       "..              ...         ...         ...     ...  ...              ...   \n",
       "995             996  2023-05-16     CUST996    Male   62         Clothing   \n",
       "996             997  2023-11-17     CUST997    Male   52           Beauty   \n",
       "997             998  2023-10-29     CUST998  Female   23           Beauty   \n",
       "998             999  2023-12-05     CUST999  Female   36      Electronics   \n",
       "999            1000  2023-04-12    CUST1000    Male   47      Electronics   \n",
       "\n",
       "     Quantity  Price per Unit  Total Amount  \n",
       "0           3              50           150  \n",
       "1           2             500          1000  \n",
       "2           1              30            30  \n",
       "3           1             500           500  \n",
       "4           2              50           100  \n",
       "..        ...             ...           ...  \n",
       "995         1              50            50  \n",
       "996         3              30            90  \n",
       "997         4              25           100  \n",
       "998         3              50           150  \n",
       "999         4              30           120  \n",
       "\n",
       "[1000 rows x 9 columns]"
      ]
     },
     "execution_count": 39,
     "metadata": {},
     "output_type": "execute_result"
    }
   ],
   "source": [
    "# Tu código aquí\n",
    "df = pd.read_csv('../Datasets/retail_sales_dataset.csv')\n",
    "df"
   ]
  },
  {
   "cell_type": "code",
   "execution_count": 7,
   "id": "14c934a3",
   "metadata": {},
   "outputs": [
    {
     "data": {
      "text/plain": [
       "1000"
      ]
     },
     "execution_count": 7,
     "metadata": {},
     "output_type": "execute_result"
    }
   ],
   "source": [
    "# El número de filas\n",
    "df.shape[0]"
   ]
  },
  {
   "cell_type": "code",
   "execution_count": 8,
   "id": "cf0e7d4d",
   "metadata": {},
   "outputs": [
    {
     "data": {
      "text/plain": [
       "9"
      ]
     },
     "execution_count": 8,
     "metadata": {},
     "output_type": "execute_result"
    }
   ],
   "source": [
    "# El número de columnas\n",
    "df.shape[1]"
   ]
  },
  {
   "cell_type": "markdown",
   "id": "e07757d0",
   "metadata": {},
   "source": [
    "**Pregunta:** ¿Cuáles son los tipos de datos de cada columna?"
   ]
  },
  {
   "cell_type": "code",
   "execution_count": 12,
   "id": "bffb05e9",
   "metadata": {},
   "outputs": [
    {
     "data": {
      "text/plain": [
       "Transaction ID       int64\n",
       "Date                object\n",
       "Customer ID         object\n",
       "Gender              object\n",
       "Age                  int64\n",
       "Product Category    object\n",
       "Quantity             int64\n",
       "Price per Unit       int64\n",
       "Total Amount         int64\n",
       "dtype: object"
      ]
     },
     "execution_count": 12,
     "metadata": {},
     "output_type": "execute_result"
    }
   ],
   "source": [
    "# Tu código aquí\n",
    "df.dtypes"
   ]
  },
  {
   "cell_type": "markdown",
   "id": "6630efce",
   "metadata": {},
   "source": [
    "**Pregunta:** ¿Qué productos tienen mayores ventas en cantidad?"
   ]
  },
  {
   "cell_type": "code",
   "execution_count": 52,
   "id": "b131e104",
   "metadata": {},
   "outputs": [
    {
     "name": "stdout",
     "output_type": "stream",
     "text": [
      "Número de categorías: 3\n"
     ]
    }
   ],
   "source": [
    "# Tu código aquí\n",
    "\n",
    "num_categorias = df['Product Category'].nunique()\n",
    "\n",
    "print(f\"Número de categorías: {num_categorias}\")"
   ]
  },
  {
   "cell_type": "code",
   "execution_count": 65,
   "id": "ed1f1fbc",
   "metadata": {},
   "outputs": [
    {
     "data": {
      "text/plain": [
       "Product Category\n",
       "Clothing       894\n",
       "Electronics    849\n",
       "Beauty         771\n",
       "Name: Quantity, dtype: int64"
      ]
     },
     "execution_count": 65,
     "metadata": {},
     "output_type": "execute_result"
    }
   ],
   "source": [
    "df.groupby('Product Category')['Quantity'].sum().sort_values(ascending=False)"
   ]
  },
  {
   "cell_type": "code",
   "execution_count": null,
   "id": "d8c69420",
   "metadata": {},
   "outputs": [
    {
     "data": {
      "image/png": "[encoded data removed]",
      "text/plain": [
       "<Figure size 640x480 with 1 Axes>"
      ]
     },
     "metadata": {},
     "output_type": "display_data"
    }
   ],
   "source": [
    "import matplotlib.pyplot as plt\n",
    "\n",
    "# Agrupar por categoría de producto y sumar la cantidad\n",
    "ventas_por_categoria = df.groupby('Product Category')['Quantity'].sum().sort_values(ascending=False)\n",
    "\n",
    "plt.bar(ventas_por_categoria.index, ventas_por_categoria.values)\n",
    "\n",
    "plt.xlabel(\"Categoría de producto\")\n",
    "plt.ylabel(\"Cantidad total de productos vendidos\")\n",
    "plt.title(\"Productos vendidos por categoría\")\n",
    "plt.xticks(rotation=45)\n",
    "\n",
    "for i, valor in enumerate(ventas_por_categoria.values):\n",
    "    plt.text(i, valor + 1, str(valor), ha='center', va='bottom')\n",
    "\n",
    "# Ajustar diseño\n",
    "plt.tight_layout()\n",
    "plt.show()\n"
   ]
  },
  {
   "cell_type": "code",
   "execution_count": 40,
   "id": "5aecaccb",
   "metadata": {},
   "outputs": [
    {
     "data": {
      "image/png": "[encoded data removed]",
      "text/plain": [
       "<Figure size 1000x600 with 1 Axes>"
      ]
     },
     "metadata": {},
     "output_type": "display_data"
    },
    {
     "name": "stdout",
     "output_type": "stream",
     "text": [
      "  Product Category  Quantity\n",
      "1         Clothing       894\n",
      "2      Electronics       849\n",
      "0           Beauty       771\n"
     ]
    }
   ],
   "source": [
    "# 1. Agrupar por categoría de producto y sumar las cantidades\n",
    "ventas_por_categoria = df.groupby('Product Category')['Quantity'].sum().reset_index()\n",
    "\n",
    "# 2. Ordenar de mayor a menor cantidad\n",
    "ventas_ordenadas = ventas_por_categoria.sort_values(by='Quantity', ascending=False)\n",
    "\n",
    "# 3. Crear el gráfico de barras\n",
    "plt.figure(figsize=(10, 6))\n",
    "plt.bar(ventas_ordenadas['Product Category'], \n",
    "        ventas_ordenadas['Quantity'], \n",
    "        color=['#1f77b4', '#ff7f0e', '#2ca02c'])\n",
    "\n",
    "# Personalizar el gráfico\n",
    "plt.title('Ventas Totales por Categoría de Producto', fontsize=14)\n",
    "plt.xlabel('Categoría de Producto', fontsize=12)\n",
    "plt.ylabel('Cantidad Total Vendida', fontsize=12)\n",
    "plt.xticks(rotation=45)\n",
    "plt.grid(axis='y', linestyle='--', alpha=0.7)\n",
    "\n",
    "# Mostrar valores en las barras\n",
    "for i, value in enumerate(ventas_ordenadas['Quantity']):\n",
    "    plt.text(i, value + 5, str(value), ha='center', va='bottom')\n",
    "\n",
    "plt.tight_layout()\n",
    "plt.show()\n",
    "\n",
    "# Mostrar tabla ordenada\n",
    "print(ventas_ordenadas)"
   ]
  },
  {
   "cell_type": "markdown",
   "id": "43679905",
   "metadata": {},
   "source": [
    "**Pregunta:** ¿Qué tiendas venden más productos?"
   ]
  },
  {
   "cell_type": "code",
   "execution_count": 66,
   "id": "84090e4f",
   "metadata": {},
   "outputs": [
    {
     "data": {
      "text/html": [
       "<div>\n",
       "<style scoped>\n",
       "    .dataframe tbody tr th:only-of-type {\n",
       "        vertical-align: middle;\n",
       "    }\n",
       "\n",
       "    .dataframe tbody tr th {\n",
       "        vertical-align: top;\n",
       "    }\n",
       "\n",
       "    .dataframe thead th {\n",
       "        text-align: right;\n",
       "    }\n",
       "</style>\n",
       "<table border=\"1\" class=\"dataframe\">\n",
       "  <thead>\n",
       "    <tr style=\"text-align: right;\">\n",
       "      <th></th>\n",
       "      <th>Transaction ID</th>\n",
       "      <th>Date</th>\n",
       "      <th>Customer ID</th>\n",
       "      <th>Gender</th>\n",
       "      <th>Age</th>\n",
       "      <th>Product Category</th>\n",
       "      <th>Quantity</th>\n",
       "      <th>Price per Unit</th>\n",
       "      <th>Total Amount</th>\n",
       "    </tr>\n",
       "  </thead>\n",
       "  <tbody>\n",
       "    <tr>\n",
       "      <th>0</th>\n",
       "      <td>1</td>\n",
       "      <td>2023-11-24</td>\n",
       "      <td>CUST001</td>\n",
       "      <td>Male</td>\n",
       "      <td>34</td>\n",
       "      <td>Beauty</td>\n",
       "      <td>3</td>\n",
       "      <td>50</td>\n",
       "      <td>150</td>\n",
       "    </tr>\n",
       "    <tr>\n",
       "      <th>1</th>\n",
       "      <td>2</td>\n",
       "      <td>2023-02-27</td>\n",
       "      <td>CUST002</td>\n",
       "      <td>Female</td>\n",
       "      <td>26</td>\n",
       "      <td>Clothing</td>\n",
       "      <td>2</td>\n",
       "      <td>500</td>\n",
       "      <td>1000</td>\n",
       "    </tr>\n",
       "    <tr>\n",
       "      <th>2</th>\n",
       "      <td>3</td>\n",
       "      <td>2023-01-13</td>\n",
       "      <td>CUST003</td>\n",
       "      <td>Male</td>\n",
       "      <td>50</td>\n",
       "      <td>Electronics</td>\n",
       "      <td>1</td>\n",
       "      <td>30</td>\n",
       "      <td>30</td>\n",
       "    </tr>\n",
       "    <tr>\n",
       "      <th>3</th>\n",
       "      <td>4</td>\n",
       "      <td>2023-05-21</td>\n",
       "      <td>CUST004</td>\n",
       "      <td>Male</td>\n",
       "      <td>37</td>\n",
       "      <td>Clothing</td>\n",
       "      <td>1</td>\n",
       "      <td>500</td>\n",
       "      <td>500</td>\n",
       "    </tr>\n",
       "    <tr>\n",
       "      <th>4</th>\n",
       "      <td>5</td>\n",
       "      <td>2023-05-06</td>\n",
       "      <td>CUST005</td>\n",
       "      <td>Male</td>\n",
       "      <td>30</td>\n",
       "      <td>Beauty</td>\n",
       "      <td>2</td>\n",
       "      <td>50</td>\n",
       "      <td>100</td>\n",
       "    </tr>\n",
       "  </tbody>\n",
       "</table>\n",
       "</div>"
      ],
      "text/plain": [
       "   Transaction ID        Date Customer ID  Gender  Age Product Category  \\\n",
       "0               1  2023-11-24     CUST001    Male   34           Beauty   \n",
       "1               2  2023-02-27     CUST002  Female   26         Clothing   \n",
       "2               3  2023-01-13     CUST003    Male   50      Electronics   \n",
       "3               4  2023-05-21     CUST004    Male   37         Clothing   \n",
       "4               5  2023-05-06     CUST005    Male   30           Beauty   \n",
       "\n",
       "   Quantity  Price per Unit  Total Amount  \n",
       "0         3              50           150  \n",
       "1         2             500          1000  \n",
       "2         1              30            30  \n",
       "3         1             500           500  \n",
       "4         2              50           100  "
      ]
     },
     "execution_count": 66,
     "metadata": {},
     "output_type": "execute_result"
    }
   ],
   "source": [
    "# Tu código aquí\n",
    "df.head()"
   ]
  },
  {
   "cell_type": "code",
   "execution_count": null,
   "id": "3628acc6",
   "metadata": {},
   "outputs": [
    {
     "data": {
      "text/html": [
       "<div>\n",
       "<style scoped>\n",
       "    .dataframe tbody tr th:only-of-type {\n",
       "        vertical-align: middle;\n",
       "    }\n",
       "\n",
       "    .dataframe tbody tr th {\n",
       "        vertical-align: top;\n",
       "    }\n",
       "\n",
       "    .dataframe thead th {\n",
       "        text-align: right;\n",
       "    }\n",
       "</style>\n",
       "<table border=\"1\" class=\"dataframe\">\n",
       "  <thead>\n",
       "    <tr style=\"text-align: right;\">\n",
       "      <th></th>\n",
       "      <th>Transaction ID</th>\n",
       "      <th>Date</th>\n",
       "      <th>Customer ID</th>\n",
       "      <th>Gender</th>\n",
       "      <th>Age</th>\n",
       "      <th>Product Category</th>\n",
       "      <th>Quantity</th>\n",
       "      <th>Price per Unit</th>\n",
       "      <th>Total Amount</th>\n",
       "      <th>Tienda</th>\n",
       "    </tr>\n",
       "  </thead>\n",
       "  <tbody>\n",
       "    <tr>\n",
       "      <th>0</th>\n",
       "      <td>1</td>\n",
       "      <td>2023-11-24</td>\n",
       "      <td>CUST001</td>\n",
       "      <td>Male</td>\n",
       "      <td>34</td>\n",
       "      <td>Beauty</td>\n",
       "      <td>3</td>\n",
       "      <td>50</td>\n",
       "      <td>150</td>\n",
       "      <td>Tienda C</td>\n",
       "    </tr>\n",
       "    <tr>\n",
       "      <th>1</th>\n",
       "      <td>2</td>\n",
       "      <td>2023-02-27</td>\n",
       "      <td>CUST002</td>\n",
       "      <td>Female</td>\n",
       "      <td>26</td>\n",
       "      <td>Clothing</td>\n",
       "      <td>2</td>\n",
       "      <td>500</td>\n",
       "      <td>1000</td>\n",
       "      <td>Tienda A</td>\n",
       "    </tr>\n",
       "    <tr>\n",
       "      <th>2</th>\n",
       "      <td>3</td>\n",
       "      <td>2023-01-13</td>\n",
       "      <td>CUST003</td>\n",
       "      <td>Male</td>\n",
       "      <td>50</td>\n",
       "      <td>Electronics</td>\n",
       "      <td>1</td>\n",
       "      <td>30</td>\n",
       "      <td>30</td>\n",
       "      <td>Tienda A</td>\n",
       "    </tr>\n",
       "    <tr>\n",
       "      <th>3</th>\n",
       "      <td>4</td>\n",
       "      <td>2023-05-21</td>\n",
       "      <td>CUST004</td>\n",
       "      <td>Male</td>\n",
       "      <td>37</td>\n",
       "      <td>Clothing</td>\n",
       "      <td>1</td>\n",
       "      <td>500</td>\n",
       "      <td>500</td>\n",
       "      <td>Tienda C</td>\n",
       "    </tr>\n",
       "    <tr>\n",
       "      <th>4</th>\n",
       "      <td>5</td>\n",
       "      <td>2023-05-06</td>\n",
       "      <td>CUST005</td>\n",
       "      <td>Male</td>\n",
       "      <td>30</td>\n",
       "      <td>Beauty</td>\n",
       "      <td>2</td>\n",
       "      <td>50</td>\n",
       "      <td>100</td>\n",
       "      <td>Tienda B</td>\n",
       "    </tr>\n",
       "  </tbody>\n",
       "</table>\n",
       "</div>"
      ],
      "text/plain": [
       "   Transaction ID        Date Customer ID  Gender  Age Product Category  \\\n",
       "0               1  2023-11-24     CUST001    Male   34           Beauty   \n",
       "1               2  2023-02-27     CUST002  Female   26         Clothing   \n",
       "2               3  2023-01-13     CUST003    Male   50      Electronics   \n",
       "3               4  2023-05-21     CUST004    Male   37         Clothing   \n",
       "4               5  2023-05-06     CUST005    Male   30           Beauty   \n",
       "\n",
       "   Quantity  Price per Unit  Total Amount    Tienda  \n",
       "0         3              50           150  Tienda C  \n",
       "1         2             500          1000  Tienda A  \n",
       "2         1              30            30  Tienda A  \n",
       "3         1             500           500  Tienda C  \n",
       "4         2              50           100  Tienda B  "
      ]
     },
     "execution_count": 68,
     "metadata": {},
     "output_type": "execute_result"
    }
   ],
   "source": [
    "import numpy as np\n",
    "\n",
    "tiendas = ['Tienda A', 'Tienda B', 'Tienda C']\n",
    "\n",
    "# Crear una nueva columna con una tienda asignada aleatoriamente a cada fila\n",
    "df['Tienda'] = np.random.choice(tiendas, size=len(df))\n",
    "\n",
    "df.head()\n"
   ]
  },
  {
   "cell_type": "code",
   "execution_count": 69,
   "id": "783376ea",
   "metadata": {},
   "outputs": [
    {
     "data": {
      "text/plain": [
       "Tienda\n",
       "Tienda B    867\n",
       "Tienda A    854\n",
       "Tienda C    793\n",
       "Name: Quantity, dtype: int64"
      ]
     },
     "execution_count": 69,
     "metadata": {},
     "output_type": "execute_result"
    }
   ],
   "source": [
    "df.groupby('Tienda')['Quantity'].sum().sort_values(ascending=False)"
   ]
  },
  {
   "cell_type": "markdown",
   "id": "24c5fba1",
   "metadata": {},
   "source": [
    "**Pregunta:** ¿Existen datos faltantes o duplicados?"
   ]
  },
  {
   "cell_type": "code",
   "execution_count": 87,
   "id": "1e6f51e5",
   "metadata": {},
   "outputs": [],
   "source": [
    "# Tu código aquí\n",
    "retail_limpieza = df.copy()"
   ]
  },
  {
   "cell_type": "code",
   "execution_count": 88,
   "id": "22e7184a",
   "metadata": {},
   "outputs": [
    {
     "data": {
      "text/plain": [
       "0      False\n",
       "1      False\n",
       "2      False\n",
       "3      False\n",
       "4      False\n",
       "       ...  \n",
       "995    False\n",
       "996    False\n",
       "997    False\n",
       "998    False\n",
       "999    False\n",
       "Length: 1000, dtype: bool"
      ]
     },
     "execution_count": 88,
     "metadata": {},
     "output_type": "execute_result"
    }
   ],
   "source": [
    "retail_limpieza.duplicated()"
   ]
  },
  {
   "cell_type": "code",
   "execution_count": 89,
   "id": "18b43d07",
   "metadata": {},
   "outputs": [
    {
     "data": {
      "text/plain": [
       "np.int64(0)"
      ]
     },
     "execution_count": 89,
     "metadata": {},
     "output_type": "execute_result"
    }
   ],
   "source": [
    "retail_limpieza.duplicated().sum()"
   ]
  },
  {
   "cell_type": "code",
   "execution_count": 90,
   "id": "289d5b74",
   "metadata": {},
   "outputs": [
    {
     "data": {
      "text/html": [
       "<div>\n",
       "<style scoped>\n",
       "    .dataframe tbody tr th:only-of-type {\n",
       "        vertical-align: middle;\n",
       "    }\n",
       "\n",
       "    .dataframe tbody tr th {\n",
       "        vertical-align: top;\n",
       "    }\n",
       "\n",
       "    .dataframe thead th {\n",
       "        text-align: right;\n",
       "    }\n",
       "</style>\n",
       "<table border=\"1\" class=\"dataframe\">\n",
       "  <thead>\n",
       "    <tr style=\"text-align: right;\">\n",
       "      <th></th>\n",
       "      <th>Transaction ID</th>\n",
       "      <th>Date</th>\n",
       "      <th>Customer ID</th>\n",
       "      <th>Gender</th>\n",
       "      <th>Age</th>\n",
       "      <th>Product Category</th>\n",
       "      <th>Quantity</th>\n",
       "      <th>Price per Unit</th>\n",
       "      <th>Total Amount</th>\n",
       "      <th>Tienda</th>\n",
       "      <th>Ingreso_Total</th>\n",
       "    </tr>\n",
       "  </thead>\n",
       "  <tbody>\n",
       "  </tbody>\n",
       "</table>\n",
       "</div>"
      ],
      "text/plain": [
       "Empty DataFrame\n",
       "Columns: [Transaction ID, Date, Customer ID, Gender, Age, Product Category, Quantity, Price per Unit, Total Amount, Tienda, Ingreso_Total]\n",
       "Index: []"
      ]
     },
     "execution_count": 90,
     "metadata": {},
     "output_type": "execute_result"
    }
   ],
   "source": [
    "retail_limpieza[retail_limpieza.duplicated()]"
   ]
  },
  {
   "cell_type": "code",
   "execution_count": 91,
   "id": "fbecac8b",
   "metadata": {},
   "outputs": [],
   "source": [
    "retail_limpieza = retail_limpieza.drop_duplicates()"
   ]
  },
  {
   "cell_type": "code",
   "execution_count": 92,
   "id": "0d2f2509",
   "metadata": {},
   "outputs": [
    {
     "data": {
      "text/html": [
       "<div>\n",
       "<style scoped>\n",
       "    .dataframe tbody tr th:only-of-type {\n",
       "        vertical-align: middle;\n",
       "    }\n",
       "\n",
       "    .dataframe tbody tr th {\n",
       "        vertical-align: top;\n",
       "    }\n",
       "\n",
       "    .dataframe thead th {\n",
       "        text-align: right;\n",
       "    }\n",
       "</style>\n",
       "<table border=\"1\" class=\"dataframe\">\n",
       "  <thead>\n",
       "    <tr style=\"text-align: right;\">\n",
       "      <th></th>\n",
       "      <th>Transaction ID</th>\n",
       "      <th>Date</th>\n",
       "      <th>Customer ID</th>\n",
       "      <th>Gender</th>\n",
       "      <th>Age</th>\n",
       "      <th>Product Category</th>\n",
       "      <th>Quantity</th>\n",
       "      <th>Price per Unit</th>\n",
       "      <th>Total Amount</th>\n",
       "      <th>Tienda</th>\n",
       "      <th>Ingreso_Total</th>\n",
       "    </tr>\n",
       "  </thead>\n",
       "  <tbody>\n",
       "    <tr>\n",
       "      <th>0</th>\n",
       "      <td>1</td>\n",
       "      <td>2023-11-24</td>\n",
       "      <td>CUST001</td>\n",
       "      <td>Male</td>\n",
       "      <td>34</td>\n",
       "      <td>Beauty</td>\n",
       "      <td>3</td>\n",
       "      <td>50</td>\n",
       "      <td>150</td>\n",
       "      <td>Tienda C</td>\n",
       "      <td>150</td>\n",
       "    </tr>\n",
       "    <tr>\n",
       "      <th>1</th>\n",
       "      <td>2</td>\n",
       "      <td>2023-02-27</td>\n",
       "      <td>CUST002</td>\n",
       "      <td>Female</td>\n",
       "      <td>26</td>\n",
       "      <td>Clothing</td>\n",
       "      <td>2</td>\n",
       "      <td>500</td>\n",
       "      <td>1000</td>\n",
       "      <td>Tienda A</td>\n",
       "      <td>1000</td>\n",
       "    </tr>\n",
       "    <tr>\n",
       "      <th>2</th>\n",
       "      <td>3</td>\n",
       "      <td>2023-01-13</td>\n",
       "      <td>CUST003</td>\n",
       "      <td>Male</td>\n",
       "      <td>50</td>\n",
       "      <td>Electronics</td>\n",
       "      <td>1</td>\n",
       "      <td>30</td>\n",
       "      <td>30</td>\n",
       "      <td>Tienda A</td>\n",
       "      <td>30</td>\n",
       "    </tr>\n",
       "    <tr>\n",
       "      <th>3</th>\n",
       "      <td>4</td>\n",
       "      <td>2023-05-21</td>\n",
       "      <td>CUST004</td>\n",
       "      <td>Male</td>\n",
       "      <td>37</td>\n",
       "      <td>Clothing</td>\n",
       "      <td>1</td>\n",
       "      <td>500</td>\n",
       "      <td>500</td>\n",
       "      <td>Tienda C</td>\n",
       "      <td>500</td>\n",
       "    </tr>\n",
       "    <tr>\n",
       "      <th>4</th>\n",
       "      <td>5</td>\n",
       "      <td>2023-05-06</td>\n",
       "      <td>CUST005</td>\n",
       "      <td>Male</td>\n",
       "      <td>30</td>\n",
       "      <td>Beauty</td>\n",
       "      <td>2</td>\n",
       "      <td>50</td>\n",
       "      <td>100</td>\n",
       "      <td>Tienda B</td>\n",
       "      <td>100</td>\n",
       "    </tr>\n",
       "    <tr>\n",
       "      <th>...</th>\n",
       "      <td>...</td>\n",
       "      <td>...</td>\n",
       "      <td>...</td>\n",
       "      <td>...</td>\n",
       "      <td>...</td>\n",
       "      <td>...</td>\n",
       "      <td>...</td>\n",
       "      <td>...</td>\n",
       "      <td>...</td>\n",
       "      <td>...</td>\n",
       "      <td>...</td>\n",
       "    </tr>\n",
       "    <tr>\n",
       "      <th>995</th>\n",
       "      <td>996</td>\n",
       "      <td>2023-05-16</td>\n",
       "      <td>CUST996</td>\n",
       "      <td>Male</td>\n",
       "      <td>62</td>\n",
       "      <td>Clothing</td>\n",
       "      <td>1</td>\n",
       "      <td>50</td>\n",
       "      <td>50</td>\n",
       "      <td>Tienda A</td>\n",
       "      <td>50</td>\n",
       "    </tr>\n",
       "    <tr>\n",
       "      <th>996</th>\n",
       "      <td>997</td>\n",
       "      <td>2023-11-17</td>\n",
       "      <td>CUST997</td>\n",
       "      <td>Male</td>\n",
       "      <td>52</td>\n",
       "      <td>Beauty</td>\n",
       "      <td>3</td>\n",
       "      <td>30</td>\n",
       "      <td>90</td>\n",
       "      <td>Tienda C</td>\n",
       "      <td>90</td>\n",
       "    </tr>\n",
       "    <tr>\n",
       "      <th>997</th>\n",
       "      <td>998</td>\n",
       "      <td>2023-10-29</td>\n",
       "      <td>CUST998</td>\n",
       "      <td>Female</td>\n",
       "      <td>23</td>\n",
       "      <td>Beauty</td>\n",
       "      <td>4</td>\n",
       "      <td>25</td>\n",
       "      <td>100</td>\n",
       "      <td>Tienda C</td>\n",
       "      <td>100</td>\n",
       "    </tr>\n",
       "    <tr>\n",
       "      <th>998</th>\n",
       "      <td>999</td>\n",
       "      <td>2023-12-05</td>\n",
       "      <td>CUST999</td>\n",
       "      <td>Female</td>\n",
       "      <td>36</td>\n",
       "      <td>Electronics</td>\n",
       "      <td>3</td>\n",
       "      <td>50</td>\n",
       "      <td>150</td>\n",
       "      <td>Tienda A</td>\n",
       "      <td>150</td>\n",
       "    </tr>\n",
       "    <tr>\n",
       "      <th>999</th>\n",
       "      <td>1000</td>\n",
       "      <td>2023-04-12</td>\n",
       "      <td>CUST1000</td>\n",
       "      <td>Male</td>\n",
       "      <td>47</td>\n",
       "      <td>Electronics</td>\n",
       "      <td>4</td>\n",
       "      <td>30</td>\n",
       "      <td>120</td>\n",
       "      <td>Tienda C</td>\n",
       "      <td>120</td>\n",
       "    </tr>\n",
       "  </tbody>\n",
       "</table>\n",
       "<p>1000 rows × 11 columns</p>\n",
       "</div>"
      ],
      "text/plain": [
       "     Transaction ID        Date Customer ID  Gender  Age Product Category  \\\n",
       "0                 1  2023-11-24     CUST001    Male   34           Beauty   \n",
       "1                 2  2023-02-27     CUST002  Female   26         Clothing   \n",
       "2                 3  2023-01-13     CUST003    Male   50      Electronics   \n",
       "3                 4  2023-05-21     CUST004    Male   37         Clothing   \n",
       "4                 5  2023-05-06     CUST005    Male   30           Beauty   \n",
       "..              ...         ...         ...     ...  ...              ...   \n",
       "995             996  2023-05-16     CUST996    Male   62         Clothing   \n",
       "996             997  2023-11-17     CUST997    Male   52           Beauty   \n",
       "997             998  2023-10-29     CUST998  Female   23           Beauty   \n",
       "998             999  2023-12-05     CUST999  Female   36      Electronics   \n",
       "999            1000  2023-04-12    CUST1000    Male   47      Electronics   \n",
       "\n",
       "     Quantity  Price per Unit  Total Amount    Tienda  Ingreso_Total  \n",
       "0           3              50           150  Tienda C            150  \n",
       "1           2             500          1000  Tienda A           1000  \n",
       "2           1              30            30  Tienda A             30  \n",
       "3           1             500           500  Tienda C            500  \n",
       "4           2              50           100  Tienda B            100  \n",
       "..        ...             ...           ...       ...            ...  \n",
       "995         1              50            50  Tienda A             50  \n",
       "996         3              30            90  Tienda C             90  \n",
       "997         4              25           100  Tienda C            100  \n",
       "998         3              50           150  Tienda A            150  \n",
       "999         4              30           120  Tienda C            120  \n",
       "\n",
       "[1000 rows x 11 columns]"
      ]
     },
     "execution_count": 92,
     "metadata": {},
     "output_type": "execute_result"
    }
   ],
   "source": [
    "retail_limpieza"
   ]
  },
  {
   "cell_type": "markdown",
   "id": "5a5ab1bf",
   "metadata": {},
   "source": [
    "**Pregunta:** ¿Cuál es el ingreso total por tienda?"
   ]
  },
  {
   "cell_type": "code",
   "execution_count": 71,
   "id": "800fd9c4",
   "metadata": {},
   "outputs": [
    {
     "data": {
      "text/plain": [
       "Tienda\n",
       "Tienda B    166075\n",
       "Tienda A    150530\n",
       "Tienda C    139395\n",
       "Name: Total Amount, dtype: int64"
      ]
     },
     "execution_count": 71,
     "metadata": {},
     "output_type": "execute_result"
    }
   ],
   "source": [
    "# Tu código aquí\n",
    "df.groupby('Tienda')['Total Amount'].sum().sort_values(ascending=False)"
   ]
  },
  {
   "cell_type": "markdown",
   "id": "59869563",
   "metadata": {},
   "source": [
    "**Pregunta:** Agrupa las ventas por tipo de producto y encuentra la media de precios."
   ]
  },
  {
   "cell_type": "code",
   "execution_count": 74,
   "id": "877429e9",
   "metadata": {},
   "outputs": [
    {
     "data": {
      "text/plain": [
       "Product Category\n",
       "Beauty         184.055375\n",
       "Clothing       174.287749\n",
       "Electronics    181.900585\n",
       "Name: Price per Unit, dtype: float64"
      ]
     },
     "execution_count": 74,
     "metadata": {},
     "output_type": "execute_result"
    }
   ],
   "source": [
    "# Tu código aquí\n",
    "df.groupby('Product Category')['Price per Unit'].mean()"
   ]
  },
  {
   "cell_type": "markdown",
   "id": "de016c86",
   "metadata": {},
   "source": [
    "**Pregunta:** Crea una nueva columna llamada ``ingreso_total`` que sea precio * cantidad."
   ]
  },
  {
   "cell_type": "code",
   "execution_count": 77,
   "id": "9dbc80bf",
   "metadata": {},
   "outputs": [
    {
     "data": {
      "text/html": [
       "<div>\n",
       "<style scoped>\n",
       "    .dataframe tbody tr th:only-of-type {\n",
       "        vertical-align: middle;\n",
       "    }\n",
       "\n",
       "    .dataframe tbody tr th {\n",
       "        vertical-align: top;\n",
       "    }\n",
       "\n",
       "    .dataframe thead th {\n",
       "        text-align: right;\n",
       "    }\n",
       "</style>\n",
       "<table border=\"1\" class=\"dataframe\">\n",
       "  <thead>\n",
       "    <tr style=\"text-align: right;\">\n",
       "      <th></th>\n",
       "      <th>Transaction ID</th>\n",
       "      <th>Date</th>\n",
       "      <th>Customer ID</th>\n",
       "      <th>Gender</th>\n",
       "      <th>Age</th>\n",
       "      <th>Product Category</th>\n",
       "      <th>Quantity</th>\n",
       "      <th>Price per Unit</th>\n",
       "      <th>Total Amount</th>\n",
       "      <th>Tienda</th>\n",
       "    </tr>\n",
       "  </thead>\n",
       "  <tbody>\n",
       "    <tr>\n",
       "      <th>0</th>\n",
       "      <td>1</td>\n",
       "      <td>2023-11-24</td>\n",
       "      <td>CUST001</td>\n",
       "      <td>Male</td>\n",
       "      <td>34</td>\n",
       "      <td>Beauty</td>\n",
       "      <td>3</td>\n",
       "      <td>50</td>\n",
       "      <td>150</td>\n",
       "      <td>Tienda C</td>\n",
       "    </tr>\n",
       "    <tr>\n",
       "      <th>1</th>\n",
       "      <td>2</td>\n",
       "      <td>2023-02-27</td>\n",
       "      <td>CUST002</td>\n",
       "      <td>Female</td>\n",
       "      <td>26</td>\n",
       "      <td>Clothing</td>\n",
       "      <td>2</td>\n",
       "      <td>500</td>\n",
       "      <td>1000</td>\n",
       "      <td>Tienda A</td>\n",
       "    </tr>\n",
       "    <tr>\n",
       "      <th>2</th>\n",
       "      <td>3</td>\n",
       "      <td>2023-01-13</td>\n",
       "      <td>CUST003</td>\n",
       "      <td>Male</td>\n",
       "      <td>50</td>\n",
       "      <td>Electronics</td>\n",
       "      <td>1</td>\n",
       "      <td>30</td>\n",
       "      <td>30</td>\n",
       "      <td>Tienda A</td>\n",
       "    </tr>\n",
       "    <tr>\n",
       "      <th>3</th>\n",
       "      <td>4</td>\n",
       "      <td>2023-05-21</td>\n",
       "      <td>CUST004</td>\n",
       "      <td>Male</td>\n",
       "      <td>37</td>\n",
       "      <td>Clothing</td>\n",
       "      <td>1</td>\n",
       "      <td>500</td>\n",
       "      <td>500</td>\n",
       "      <td>Tienda C</td>\n",
       "    </tr>\n",
       "    <tr>\n",
       "      <th>4</th>\n",
       "      <td>5</td>\n",
       "      <td>2023-05-06</td>\n",
       "      <td>CUST005</td>\n",
       "      <td>Male</td>\n",
       "      <td>30</td>\n",
       "      <td>Beauty</td>\n",
       "      <td>2</td>\n",
       "      <td>50</td>\n",
       "      <td>100</td>\n",
       "      <td>Tienda B</td>\n",
       "    </tr>\n",
       "  </tbody>\n",
       "</table>\n",
       "</div>"
      ],
      "text/plain": [
       "   Transaction ID        Date Customer ID  Gender  Age Product Category  \\\n",
       "0               1  2023-11-24     CUST001    Male   34           Beauty   \n",
       "1               2  2023-02-27     CUST002  Female   26         Clothing   \n",
       "2               3  2023-01-13     CUST003    Male   50      Electronics   \n",
       "3               4  2023-05-21     CUST004    Male   37         Clothing   \n",
       "4               5  2023-05-06     CUST005    Male   30           Beauty   \n",
       "\n",
       "   Quantity  Price per Unit  Total Amount    Tienda  \n",
       "0         3              50           150  Tienda C  \n",
       "1         2             500          1000  Tienda A  \n",
       "2         1              30            30  Tienda A  \n",
       "3         1             500           500  Tienda C  \n",
       "4         2              50           100  Tienda B  "
      ]
     },
     "execution_count": 77,
     "metadata": {},
     "output_type": "execute_result"
    }
   ],
   "source": [
    "df.head()"
   ]
  },
  {
   "cell_type": "code",
   "execution_count": 82,
   "id": "5154805b",
   "metadata": {},
   "outputs": [
    {
     "name": "stdout",
     "output_type": "stream",
     "text": [
      "0       150\n",
      "1      1000\n",
      "2        30\n",
      "3       500\n",
      "4       100\n",
      "       ... \n",
      "995      50\n",
      "996      90\n",
      "997     100\n",
      "998     150\n",
      "999     120\n",
      "Name: Ingreso_Total, Length: 1000, dtype: int64\n"
     ]
    },
    {
     "data": {
      "text/html": [
       "<div>\n",
       "<style scoped>\n",
       "    .dataframe tbody tr th:only-of-type {\n",
       "        vertical-align: middle;\n",
       "    }\n",
       "\n",
       "    .dataframe tbody tr th {\n",
       "        vertical-align: top;\n",
       "    }\n",
       "\n",
       "    .dataframe thead th {\n",
       "        text-align: right;\n",
       "    }\n",
       "</style>\n",
       "<table border=\"1\" class=\"dataframe\">\n",
       "  <thead>\n",
       "    <tr style=\"text-align: right;\">\n",
       "      <th></th>\n",
       "      <th>Transaction ID</th>\n",
       "      <th>Date</th>\n",
       "      <th>Customer ID</th>\n",
       "      <th>Gender</th>\n",
       "      <th>Age</th>\n",
       "      <th>Product Category</th>\n",
       "      <th>Quantity</th>\n",
       "      <th>Price per Unit</th>\n",
       "      <th>Total Amount</th>\n",
       "      <th>Tienda</th>\n",
       "      <th>Ingreso_Total</th>\n",
       "    </tr>\n",
       "  </thead>\n",
       "  <tbody>\n",
       "    <tr>\n",
       "      <th>0</th>\n",
       "      <td>1</td>\n",
       "      <td>2023-11-24</td>\n",
       "      <td>CUST001</td>\n",
       "      <td>Male</td>\n",
       "      <td>34</td>\n",
       "      <td>Beauty</td>\n",
       "      <td>3</td>\n",
       "      <td>50</td>\n",
       "      <td>150</td>\n",
       "      <td>Tienda C</td>\n",
       "      <td>150</td>\n",
       "    </tr>\n",
       "    <tr>\n",
       "      <th>1</th>\n",
       "      <td>2</td>\n",
       "      <td>2023-02-27</td>\n",
       "      <td>CUST002</td>\n",
       "      <td>Female</td>\n",
       "      <td>26</td>\n",
       "      <td>Clothing</td>\n",
       "      <td>2</td>\n",
       "      <td>500</td>\n",
       "      <td>1000</td>\n",
       "      <td>Tienda A</td>\n",
       "      <td>1000</td>\n",
       "    </tr>\n",
       "    <tr>\n",
       "      <th>2</th>\n",
       "      <td>3</td>\n",
       "      <td>2023-01-13</td>\n",
       "      <td>CUST003</td>\n",
       "      <td>Male</td>\n",
       "      <td>50</td>\n",
       "      <td>Electronics</td>\n",
       "      <td>1</td>\n",
       "      <td>30</td>\n",
       "      <td>30</td>\n",
       "      <td>Tienda A</td>\n",
       "      <td>30</td>\n",
       "    </tr>\n",
       "    <tr>\n",
       "      <th>3</th>\n",
       "      <td>4</td>\n",
       "      <td>2023-05-21</td>\n",
       "      <td>CUST004</td>\n",
       "      <td>Male</td>\n",
       "      <td>37</td>\n",
       "      <td>Clothing</td>\n",
       "      <td>1</td>\n",
       "      <td>500</td>\n",
       "      <td>500</td>\n",
       "      <td>Tienda C</td>\n",
       "      <td>500</td>\n",
       "    </tr>\n",
       "    <tr>\n",
       "      <th>4</th>\n",
       "      <td>5</td>\n",
       "      <td>2023-05-06</td>\n",
       "      <td>CUST005</td>\n",
       "      <td>Male</td>\n",
       "      <td>30</td>\n",
       "      <td>Beauty</td>\n",
       "      <td>2</td>\n",
       "      <td>50</td>\n",
       "      <td>100</td>\n",
       "      <td>Tienda B</td>\n",
       "      <td>100</td>\n",
       "    </tr>\n",
       "  </tbody>\n",
       "</table>\n",
       "</div>"
      ],
      "text/plain": [
       "   Transaction ID        Date Customer ID  Gender  Age Product Category  \\\n",
       "0               1  2023-11-24     CUST001    Male   34           Beauty   \n",
       "1               2  2023-02-27     CUST002  Female   26         Clothing   \n",
       "2               3  2023-01-13     CUST003    Male   50      Electronics   \n",
       "3               4  2023-05-21     CUST004    Male   37         Clothing   \n",
       "4               5  2023-05-06     CUST005    Male   30           Beauty   \n",
       "\n",
       "   Quantity  Price per Unit  Total Amount    Tienda  Ingreso_Total  \n",
       "0         3              50           150  Tienda C            150  \n",
       "1         2             500          1000  Tienda A           1000  \n",
       "2         1              30            30  Tienda A             30  \n",
       "3         1             500           500  Tienda C            500  \n",
       "4         2              50           100  Tienda B            100  "
      ]
     },
     "execution_count": 82,
     "metadata": {},
     "output_type": "execute_result"
    }
   ],
   "source": [
    "# Tu código aquí\n",
    "df['Ingreso_Total'] = df['Quantity']* df['Price per Unit']\n",
    "\n",
    "print(df['Ingreso_Total'])\n",
    "df.head()\n"
   ]
  },
  {
   "cell_type": "markdown",
   "id": "f370183a",
   "metadata": {},
   "source": [
    "**Pregunta:** Usa una tabla dinámica para comparar ingresos por tienda y por producto."
   ]
  },
  {
   "cell_type": "code",
   "execution_count": 85,
   "id": "9e76f6c2",
   "metadata": {},
   "outputs": [
    {
     "name": "stdout",
     "output_type": "stream",
     "text": [
      "Product Category  Beauty  Clothing  Electronics\n",
      "Tienda                                         \n",
      "Tienda A           50775     56230        43525\n",
      "Tienda B           44455     55270        66350\n",
      "Tienda C           48285     44080        47030\n"
     ]
    },
    {
     "data": {
      "image/png": "[encoded data removed]",
      "text/plain": [
       "<Figure size 640x480 with 1 Axes>"
      ]
     },
     "metadata": {},
     "output_type": "display_data"
    }
   ],
   "source": [
    "# Tu código aquí\n",
    "# Crear tabla dinámica: ingresos por tienda y producto\n",
    "pivot_table = df.pivot_table(\n",
    "    values='Total Amount',            # Qué se va a calcular (los ingresos)\n",
    "    index='Tienda',                   # Filas: las tiendas\n",
    "    columns='Product Category',       # Columnas: categorías de productos\n",
    "    aggfunc='sum',                    # Cómo agregamos: suma total\n",
    "    fill_value=0                      # Rellenar con 0 si no hay ventas\n",
    ")\n",
    "\n",
    "# Mostrar la tabla\n",
    "print(pivot_table)\n",
    "\n",
    "pivot_table.plot(kind='bar', stacked=True)\n",
    "plt.title(\"Ingresos por tienda y categoría de producto\")\n",
    "plt.xlabel(\"Tienda\")\n",
    "plt.ylabel(\"Ingresos totales ($)\")\n",
    "plt.xticks(rotation=0)\n",
    "plt.tight_layout()\n",
    "plt.show()\n"
   ]
  },
  {
   "cell_type": "markdown",
   "id": "2edf618c",
   "metadata": {},
   "source": [
    "## 📈 Dummy Advertising and Sales Data"
   ]
  },
  {
   "cell_type": "markdown",
   "id": "26a5c26d",
   "metadata": {},
   "source": [
    "🔗 Dataset disponible en: [https://www.kaggle.com/datasets/harrimansaragih/dummy-advertising-and-sales-data?utm_source=chatgpt.com](https://www.kaggle.com/datasets/harrimansaragih/dummy-advertising-and-sales-data?utm_source=chatgpt.com)"
   ]
  },
  {
   "cell_type": "markdown",
   "id": "ad70e47d",
   "metadata": {},
   "source": [
    "**Pregunta:** ¿Cuál es el gasto promedio en publicidad por canal (TV, Radio, Periódico)?"
   ]
  },
  {
   "cell_type": "code",
   "execution_count": 15,
   "id": "2c9ddda1",
   "metadata": {},
   "outputs": [],
   "source": [
    "import pandas as pd\n",
    "import numpy as np"
   ]
  },
  {
   "cell_type": "code",
   "execution_count": 4,
   "id": "a1bb9a59",
   "metadata": {},
   "outputs": [
    {
     "data": {
      "text/html": [
       "<div>\n",
       "<style scoped>\n",
       "    .dataframe tbody tr th:only-of-type {\n",
       "        vertical-align: middle;\n",
       "    }\n",
       "\n",
       "    .dataframe tbody tr th {\n",
       "        vertical-align: top;\n",
       "    }\n",
       "\n",
       "    .dataframe thead th {\n",
       "        text-align: right;\n",
       "    }\n",
       "</style>\n",
       "<table border=\"1\" class=\"dataframe\">\n",
       "  <thead>\n",
       "    <tr style=\"text-align: right;\">\n",
       "      <th></th>\n",
       "      <th>TV</th>\n",
       "      <th>Radio</th>\n",
       "      <th>Social Media</th>\n",
       "      <th>Influencer</th>\n",
       "      <th>Sales</th>\n",
       "    </tr>\n",
       "  </thead>\n",
       "  <tbody>\n",
       "    <tr>\n",
       "      <th>0</th>\n",
       "      <td>16.0</td>\n",
       "      <td>6.566231</td>\n",
       "      <td>2.907983</td>\n",
       "      <td>Mega</td>\n",
       "      <td>54.732757</td>\n",
       "    </tr>\n",
       "    <tr>\n",
       "      <th>1</th>\n",
       "      <td>13.0</td>\n",
       "      <td>9.237765</td>\n",
       "      <td>2.409567</td>\n",
       "      <td>Mega</td>\n",
       "      <td>46.677897</td>\n",
       "    </tr>\n",
       "    <tr>\n",
       "      <th>2</th>\n",
       "      <td>41.0</td>\n",
       "      <td>15.886446</td>\n",
       "      <td>2.913410</td>\n",
       "      <td>Mega</td>\n",
       "      <td>150.177829</td>\n",
       "    </tr>\n",
       "    <tr>\n",
       "      <th>3</th>\n",
       "      <td>83.0</td>\n",
       "      <td>30.020028</td>\n",
       "      <td>6.922304</td>\n",
       "      <td>Mega</td>\n",
       "      <td>298.246340</td>\n",
       "    </tr>\n",
       "    <tr>\n",
       "      <th>4</th>\n",
       "      <td>15.0</td>\n",
       "      <td>8.437408</td>\n",
       "      <td>1.405998</td>\n",
       "      <td>Micro</td>\n",
       "      <td>56.594181</td>\n",
       "    </tr>\n",
       "    <tr>\n",
       "      <th>...</th>\n",
       "      <td>...</td>\n",
       "      <td>...</td>\n",
       "      <td>...</td>\n",
       "      <td>...</td>\n",
       "      <td>...</td>\n",
       "    </tr>\n",
       "    <tr>\n",
       "      <th>4567</th>\n",
       "      <td>26.0</td>\n",
       "      <td>4.472360</td>\n",
       "      <td>0.717090</td>\n",
       "      <td>Micro</td>\n",
       "      <td>94.685866</td>\n",
       "    </tr>\n",
       "    <tr>\n",
       "      <th>4568</th>\n",
       "      <td>71.0</td>\n",
       "      <td>20.610685</td>\n",
       "      <td>6.545573</td>\n",
       "      <td>Nano</td>\n",
       "      <td>249.101915</td>\n",
       "    </tr>\n",
       "    <tr>\n",
       "      <th>4569</th>\n",
       "      <td>44.0</td>\n",
       "      <td>19.800072</td>\n",
       "      <td>5.096192</td>\n",
       "      <td>Micro</td>\n",
       "      <td>163.631457</td>\n",
       "    </tr>\n",
       "    <tr>\n",
       "      <th>4570</th>\n",
       "      <td>71.0</td>\n",
       "      <td>17.534640</td>\n",
       "      <td>1.940873</td>\n",
       "      <td>Macro</td>\n",
       "      <td>253.610411</td>\n",
       "    </tr>\n",
       "    <tr>\n",
       "      <th>4571</th>\n",
       "      <td>42.0</td>\n",
       "      <td>15.966688</td>\n",
       "      <td>5.046548</td>\n",
       "      <td>Micro</td>\n",
       "      <td>148.202414</td>\n",
       "    </tr>\n",
       "  </tbody>\n",
       "</table>\n",
       "<p>4572 rows × 5 columns</p>\n",
       "</div>"
      ],
      "text/plain": [
       "        TV      Radio  Social Media Influencer       Sales\n",
       "0     16.0   6.566231      2.907983       Mega   54.732757\n",
       "1     13.0   9.237765      2.409567       Mega   46.677897\n",
       "2     41.0  15.886446      2.913410       Mega  150.177829\n",
       "3     83.0  30.020028      6.922304       Mega  298.246340\n",
       "4     15.0   8.437408      1.405998      Micro   56.594181\n",
       "...    ...        ...           ...        ...         ...\n",
       "4567  26.0   4.472360      0.717090      Micro   94.685866\n",
       "4568  71.0  20.610685      6.545573       Nano  249.101915\n",
       "4569  44.0  19.800072      5.096192      Micro  163.631457\n",
       "4570  71.0  17.534640      1.940873      Macro  253.610411\n",
       "4571  42.0  15.966688      5.046548      Micro  148.202414\n",
       "\n",
       "[4572 rows x 5 columns]"
      ]
     },
     "execution_count": 4,
     "metadata": {},
     "output_type": "execute_result"
    }
   ],
   "source": [
    "# Tu código aquí\n",
    "dm = pd.read_csv('../Datasets/Dummy Data HSS.csv')\n",
    "dm"
   ]
  },
  {
   "cell_type": "code",
   "execution_count": 14,
   "id": "e0ba6afe",
   "metadata": {},
   "outputs": [
    {
     "name": "stdout",
     "output_type": "stream",
     "text": [
      "TV              54.066857\n",
      "Radio           18.160356\n",
      "Social Media     3.323956\n",
      "dtype: float64\n"
     ]
    }
   ],
   "source": [
    "print(dm[['TV', 'Radio', 'Social Media']].mean())"
   ]
  },
  {
   "cell_type": "markdown",
   "id": "e7fea9b5",
   "metadata": {},
   "source": [
    "**Pregunta:** ¿Existe correlación entre el presupuesto publicitario y las ventas?"
   ]
  },
  {
   "cell_type": "code",
   "execution_count": 17,
   "id": "7c7b12a7",
   "metadata": {},
   "outputs": [
    {
     "data": {
      "text/plain": [
       "TV              0.999497\n",
       "Radio           0.869105\n",
       "Social Media    0.528906\n",
       "Sales           1.000000\n",
       "Name: Sales, dtype: float64"
      ]
     },
     "execution_count": 17,
     "metadata": {},
     "output_type": "execute_result"
    }
   ],
   "source": [
    "# Tu código aquí\n",
    "dm.corr(numeric_only=True)['Sales']"
   ]
  },
  {
   "cell_type": "markdown",
   "id": "8bee9c70",
   "metadata": {},
   "source": [
    "**Pregunta:** ¿Qué campañas tienen ventas superiores a la media?"
   ]
  },
  {
   "cell_type": "code",
   "execution_count": 19,
   "id": "dc35b9fc",
   "metadata": {},
   "outputs": [
    {
     "name": "stdout",
     "output_type": "stream",
     "text": [
      "        TV      Radio  Social Media Influencer       Sales\n",
      "3     83.0  30.020028      6.922304       Mega  298.246340\n",
      "6     55.0  24.893811      4.273602      Micro  198.679825\n",
      "8     76.0  24.648898      7.130116      Macro  270.189400\n",
      "10    62.0  24.345189      5.151483       Nano  224.961019\n",
      "12    64.0  20.240424      3.921148      Micro  229.632381\n",
      "...    ...        ...           ...        ...         ...\n",
      "4561  60.0  21.841864      5.092528      Macro  210.680016\n",
      "4563  93.0  25.285149      2.805840      Macro  327.466288\n",
      "4564  99.0  36.024174      4.288755      Macro  355.807121\n",
      "4568  71.0  20.610685      6.545573       Nano  249.101915\n",
      "4570  71.0  17.534640      1.940873      Macro  253.610411\n",
      "\n",
      "[2239 rows x 5 columns]\n"
     ]
    }
   ],
   "source": [
    "# Tu código aquí\n",
    "media_ventas = dm['Sales'].mean()\n",
    "print(dm[dm['Sales'] > media_ventas])"
   ]
  },
  {
   "cell_type": "markdown",
   "id": "e0057c81",
   "metadata": {},
   "source": [
    "**Pregunta:** Filtra las campañas con publicidad en TV > 200 y Radio > 20."
   ]
  },
  {
   "cell_type": "code",
   "execution_count": 22,
   "id": "79fec181",
   "metadata": {},
   "outputs": [
    {
     "data": {
      "text/html": [
       "<div>\n",
       "<style scoped>\n",
       "    .dataframe tbody tr th:only-of-type {\n",
       "        vertical-align: middle;\n",
       "    }\n",
       "\n",
       "    .dataframe tbody tr th {\n",
       "        vertical-align: top;\n",
       "    }\n",
       "\n",
       "    .dataframe thead th {\n",
       "        text-align: right;\n",
       "    }\n",
       "</style>\n",
       "<table border=\"1\" class=\"dataframe\">\n",
       "  <thead>\n",
       "    <tr style=\"text-align: right;\">\n",
       "      <th></th>\n",
       "      <th>TV</th>\n",
       "      <th>Radio</th>\n",
       "      <th>Social Media</th>\n",
       "      <th>Influencer</th>\n",
       "      <th>Sales</th>\n",
       "    </tr>\n",
       "  </thead>\n",
       "  <tbody>\n",
       "  </tbody>\n",
       "</table>\n",
       "</div>"
      ],
      "text/plain": [
       "Empty DataFrame\n",
       "Columns: [TV, Radio, Social Media, Influencer, Sales]\n",
       "Index: []"
      ]
     },
     "execution_count": 22,
     "metadata": {},
     "output_type": "execute_result"
    }
   ],
   "source": [
    "# Tu código aquí\n",
    "dm[(dm['TV'] > 200) & (dm['Radio'] > 20)]"
   ]
  },
  {
   "cell_type": "markdown",
   "id": "fb4bd8b6",
   "metadata": {},
   "source": [
    "**Pregunta:** Agrupa por canal publicitario y calcula la media de ventas."
   ]
  },
  {
   "cell_type": "code",
   "execution_count": 23,
   "id": "0e0d6662",
   "metadata": {},
   "outputs": [
    {
     "data": {
      "text/plain": [
       "Influencer\n",
       "Macro    195.613601\n",
       "Mega     190.593666\n",
       "Micro    191.809095\n",
       "Nano     191.934304\n",
       "Name: Sales, dtype: float64"
      ]
     },
     "execution_count": 23,
     "metadata": {},
     "output_type": "execute_result"
    }
   ],
   "source": [
    "# Tu código aquí\n",
    "dm.groupby('Influencer')['Sales'].mean()"
   ]
  },
  {
   "cell_type": "markdown",
   "id": "33653619",
   "metadata": {},
   "source": [
    "**Pregunta:** Crea una columna de ROI estimado usando una fórmula simple."
   ]
  },
  {
   "cell_type": "code",
   "execution_count": 24,
   "id": "054ad8d4",
   "metadata": {},
   "outputs": [
    {
     "name": "stdout",
     "output_type": "stream",
     "text": [
      "        TV      Radio  Social Media       Sales  Gasto Total       ROI\n",
      "0     16.0   6.566231      2.907983   54.732757    25.474214  1.148555\n",
      "1     13.0   9.237765      2.409567   46.677897    24.647332  0.893832\n",
      "2     41.0  15.886446      2.913410  150.177829    59.799856  1.511341\n",
      "3     83.0  30.020028      6.922304  298.246340   119.942332  1.486581\n",
      "4     15.0   8.437408      1.405998   56.594181    24.843406  1.278036\n",
      "...    ...        ...           ...         ...          ...       ...\n",
      "4567  26.0   4.472360      0.717090   94.685866    31.189450  2.035830\n",
      "4568  71.0  20.610685      6.545573  249.101915    98.156259  1.537810\n",
      "4569  44.0  19.800072      5.096192  163.631457    68.896264  1.375041\n",
      "4570  71.0  17.534640      1.940873  253.610411    90.475514  1.803083\n",
      "4571  42.0  15.966688      5.046548  148.202414    63.013235  1.351925\n",
      "\n",
      "[4572 rows x 6 columns]\n"
     ]
    }
   ],
   "source": [
    "# Tu código aquí\n",
    "dm['Gasto Total'] = dm['TV'] + dm['Radio'] + dm['Social Media']\n",
    "dm['ROI'] = (dm['Sales'] - dm['Gasto Total']) / dm['Gasto Total']\n",
    "print(dm[['TV', 'Radio', 'Social Media', 'Sales', 'Gasto Total', 'ROI']])"
   ]
  },
  {
   "cell_type": "markdown",
   "id": "0cbbc592",
   "metadata": {},
   "source": [
    "**Pregunta:** Realiza una pivot_table para ver ventas promedio por cada tipo de canal."
   ]
  },
  {
   "cell_type": "code",
   "execution_count": 5,
   "id": "2fd172f5",
   "metadata": {},
   "outputs": [
    {
     "name": "stdout",
     "output_type": "stream",
     "text": [
      "                 Sales\n",
      "Influencer            \n",
      "Macro       195.613601\n",
      "Mega        190.593666\n",
      "Micro       191.809095\n",
      "Nano        191.934304\n"
     ]
    }
   ],
   "source": [
    "# Tu código aquí\n",
    "pivot_table = pd.pivot_table(dm,values='Sales',index='Influencer',aggfunc='mean')\n",
    "print(pivot_table)"
   ]
  },
  {
   "cell_type": "markdown",
   "id": "29509792",
   "metadata": {},
   "source": [
    "## 🎬 The Movies Dataset"
   ]
  },
  {
   "cell_type": "markdown",
   "id": "de0b2ee1",
   "metadata": {},
   "source": [
    "🔗 Dataset disponible en: [https://www.kaggle.com/datasets/rounakbanik/the-movies-dataset?utm_source=chatgpt.com](https://www.kaggle.com/datasets/rounakbanik/the-movies-dataset?utm_source=chatgpt.com)"
   ]
  },
  {
   "cell_type": "markdown",
   "id": "e51caea6",
   "metadata": {},
   "source": [
    "**Pregunta:** ¿Cuáles son las películas con mayor presupuesto?"
   ]
  },
  {
   "cell_type": "code",
   "execution_count": 22,
   "id": "bd5c8b07",
   "metadata": {},
   "outputs": [],
   "source": [
    "df_movies = pd.read_csv('../DataSets/MovieFranchises.csv')"
   ]
  },
  {
   "cell_type": "code",
   "execution_count": 23,
   "id": "bdf0bfb5",
   "metadata": {},
   "outputs": [
    {
     "data": {
      "text/html": [
       "<div>\n",
       "<style scoped>\n",
       "    .dataframe tbody tr th:only-of-type {\n",
       "        vertical-align: middle;\n",
       "    }\n",
       "\n",
       "    .dataframe tbody tr th {\n",
       "        vertical-align: top;\n",
       "    }\n",
       "\n",
       "    .dataframe thead th {\n",
       "        text-align: right;\n",
       "    }\n",
       "</style>\n",
       "<table border=\"1\" class=\"dataframe\">\n",
       "  <thead>\n",
       "    <tr style=\"text-align: right;\">\n",
       "      <th></th>\n",
       "      <th>index</th>\n",
       "      <th>MovieID</th>\n",
       "      <th>Title</th>\n",
       "      <th>Lifetime Gross</th>\n",
       "      <th>Year</th>\n",
       "      <th>Studio</th>\n",
       "      <th>Rating</th>\n",
       "      <th>Runtime</th>\n",
       "      <th>Budget</th>\n",
       "      <th>ReleaseDate</th>\n",
       "      <th>VoteAvg</th>\n",
       "      <th>VoteCount</th>\n",
       "      <th>FranchiseID</th>\n",
       "    </tr>\n",
       "  </thead>\n",
       "  <tbody>\n",
       "    <tr>\n",
       "      <th>0</th>\n",
       "      <td>0</td>\n",
       "      <td>1001</td>\n",
       "      <td>Star Wars: Episode IV - A New Hope</td>\n",
       "      <td>775398007</td>\n",
       "      <td>1977</td>\n",
       "      <td>Lucasfilm</td>\n",
       "      <td>PG</td>\n",
       "      <td>121.0</td>\n",
       "      <td>11000000.0</td>\n",
       "      <td>05-25-77</td>\n",
       "      <td>4.09</td>\n",
       "      <td>96233.0</td>\n",
       "      <td>101.0</td>\n",
       "    </tr>\n",
       "    <tr>\n",
       "      <th>1</th>\n",
       "      <td>1</td>\n",
       "      <td>1002</td>\n",
       "      <td>Star Wars: Episode V - The Empire Strikes Back</td>\n",
       "      <td>538375067</td>\n",
       "      <td>1980</td>\n",
       "      <td>Lucasfilm</td>\n",
       "      <td>PG</td>\n",
       "      <td>124.0</td>\n",
       "      <td>18000000.0</td>\n",
       "      <td>06-20-80</td>\n",
       "      <td>4.12</td>\n",
       "      <td>79231.0</td>\n",
       "      <td>101.0</td>\n",
       "    </tr>\n",
       "    <tr>\n",
       "      <th>2</th>\n",
       "      <td>2</td>\n",
       "      <td>1003</td>\n",
       "      <td>Star Wars: Episode VI - Return of the Jedi</td>\n",
       "      <td>475106177</td>\n",
       "      <td>1983</td>\n",
       "      <td>Lucasfilm</td>\n",
       "      <td>PG</td>\n",
       "      <td>135.0</td>\n",
       "      <td>32500000.0</td>\n",
       "      <td>05-25-83</td>\n",
       "      <td>3.98</td>\n",
       "      <td>76082.0</td>\n",
       "      <td>101.0</td>\n",
       "    </tr>\n",
       "    <tr>\n",
       "      <th>3</th>\n",
       "      <td>3</td>\n",
       "      <td>1004</td>\n",
       "      <td>Jurassic Park</td>\n",
       "      <td>1109802321</td>\n",
       "      <td>1993</td>\n",
       "      <td>Universal Pictures</td>\n",
       "      <td>PG-13</td>\n",
       "      <td>127.0</td>\n",
       "      <td>63000000.0</td>\n",
       "      <td>06-11-93</td>\n",
       "      <td>3.69</td>\n",
       "      <td>82700.0</td>\n",
       "      <td>102.0</td>\n",
       "    </tr>\n",
       "    <tr>\n",
       "      <th>4</th>\n",
       "      <td>4</td>\n",
       "      <td>1005</td>\n",
       "      <td>The Lost World: Jurassic Park</td>\n",
       "      <td>618638999</td>\n",
       "      <td>1997</td>\n",
       "      <td>Universal Pictures</td>\n",
       "      <td>PG-13</td>\n",
       "      <td>129.0</td>\n",
       "      <td>73000000.0</td>\n",
       "      <td>05-23-97</td>\n",
       "      <td>3.01</td>\n",
       "      <td>19721.0</td>\n",
       "      <td>102.0</td>\n",
       "    </tr>\n",
       "  </tbody>\n",
       "</table>\n",
       "</div>"
      ],
      "text/plain": [
       "   index MovieID                                           Title  \\\n",
       "0      0    1001              Star Wars: Episode IV - A New Hope   \n",
       "1      1    1002  Star Wars: Episode V - The Empire Strikes Back   \n",
       "2      2    1003      Star Wars: Episode VI - Return of the Jedi   \n",
       "3      3    1004                                   Jurassic Park   \n",
       "4      4    1005                   The Lost World: Jurassic Park   \n",
       "\n",
       "  Lifetime Gross  Year              Studio Rating  Runtime      Budget  \\\n",
       "0      775398007  1977           Lucasfilm     PG    121.0  11000000.0   \n",
       "1      538375067  1980           Lucasfilm     PG    124.0  18000000.0   \n",
       "2      475106177  1983           Lucasfilm     PG    135.0  32500000.0   \n",
       "3     1109802321  1993  Universal Pictures  PG-13    127.0  63000000.0   \n",
       "4      618638999  1997  Universal Pictures  PG-13    129.0  73000000.0   \n",
       "\n",
       "  ReleaseDate  VoteAvg  VoteCount  FranchiseID  \n",
       "0    05-25-77     4.09    96233.0        101.0  \n",
       "1    06-20-80     4.12    79231.0        101.0  \n",
       "2    05-25-83     3.98    76082.0        101.0  \n",
       "3    06-11-93     3.69    82700.0        102.0  \n",
       "4    05-23-97     3.01    19721.0        102.0  "
      ]
     },
     "execution_count": 23,
     "metadata": {},
     "output_type": "execute_result"
    }
   ],
   "source": [
    "df_movies.head()"
   ]
  },
  {
   "cell_type": "code",
   "execution_count": 24,
   "id": "bd22d5af",
   "metadata": {},
   "outputs": [
    {
     "name": "stdout",
     "output_type": "stream",
     "text": [
      "                                         Title       Budget\n",
      "50                           Avengers: Endgame  400000000.0\n",
      "43     Star Wars: Episode VIII - The Last Jedi  317000000.0\n",
      "36  Star Wars: Episode VII - The Force Awakens  306000000.0\n",
      "45                      Avengers: Infinity War  300000000.0\n",
      "33                     Avengers: Age of Ultron  280000000.0\n"
     ]
    }
   ],
   "source": [
    "peliculas_mayor_presupuesto = df_movies.sort_values(by='Budget', ascending=False)\n",
    "print(peliculas_mayor_presupuesto[['Title', 'Budget']].head())"
   ]
  },
  {
   "cell_type": "markdown",
   "id": "4e333b7d",
   "metadata": {},
   "source": [
    "**Pregunta:** ¿Qué películas obtuvieron mayor ganancia (ingresos - presupuesto)?"
   ]
  },
  {
   "cell_type": "code",
   "execution_count": 25,
   "id": "7100e36f",
   "metadata": {},
   "outputs": [
    {
     "name": "stdout",
     "output_type": "stream",
     "text": [
      "                                         Title      Ganancia\n",
      "50                           Avengers: Endgame  2.397501e+09\n",
      "36  Star Wars: Episode VII - The Force Awakens  1.763522e+09\n",
      "45                      Avengers: Infinity War  1.748360e+09\n",
      "56                     Spider-Man: No Way Home  1.715878e+09\n",
      "34                              Jurassic World  1.521537e+09\n"
     ]
    }
   ],
   "source": [
    "# Tu código aquí\n",
    "\n",
    "df_movies['Lifetime Gross'] = pd.to_numeric(df_movies['Lifetime Gross'], errors='coerce')\n",
    "df_movies['Ganancia'] = df_movies['Lifetime Gross'] - df_movies['Budget']\n",
    "peliculas_mayor_ganancia = df_movies.sort_values(by='Ganancia', ascending=False)\n",
    "print(peliculas_mayor_ganancia[['Title', 'Ganancia']].head())"
   ]
  },
  {
   "cell_type": "markdown",
   "id": "165ce1f0",
   "metadata": {},
   "source": [
    "**Pregunta:** ¿Cuántas películas hay por género?"
   ]
  },
  {
   "cell_type": "code",
   "execution_count": 26,
   "id": "3faad1d1",
   "metadata": {},
   "outputs": [
    {
     "ename": "NameError",
     "evalue": "name 'np' is not defined",
     "output_type": "error",
     "traceback": [
      "\u001b[1;31m---------------------------------------------------------------------------\u001b[0m",
      "\u001b[1;31mNameError\u001b[0m                                 Traceback (most recent call last)",
      "Cell \u001b[1;32mIn[26], line 4\u001b[0m\n\u001b[0;32m      1\u001b[0m \u001b[38;5;66;03m# Tu código aquí\u001b[39;00m\n\u001b[0;32m      2\u001b[0m \u001b[38;5;66;03m# NO HAY COLUMNA DE GENERO\u001b[39;00m\n\u001b[0;32m      3\u001b[0m generos \u001b[38;5;241m=\u001b[39m [\u001b[38;5;124m\"\u001b[39m\u001b[38;5;124mAccion\u001b[39m\u001b[38;5;124m\"\u001b[39m, \u001b[38;5;124m\"\u001b[39m\u001b[38;5;124mComedia\u001b[39m\u001b[38;5;124m\"\u001b[39m, \u001b[38;5;124m\"\u001b[39m\u001b[38;5;124mDrama\u001b[39m\u001b[38;5;124m\"\u001b[39m, \u001b[38;5;124m\"\u001b[39m\u001b[38;5;124mCiencia Ficcion\u001b[39m\u001b[38;5;124m\"\u001b[39m, \u001b[38;5;124m\"\u001b[39m\u001b[38;5;124mAventura\u001b[39m\u001b[38;5;124m\"\u001b[39m, \u001b[38;5;124m\"\u001b[39m\u001b[38;5;124mAnimacion\u001b[39m\u001b[38;5;124m\"\u001b[39m]\n\u001b[1;32m----> 4\u001b[0m \u001b[43mnp\u001b[49m\u001b[38;5;241m.\u001b[39mrandom\u001b[38;5;241m.\u001b[39mseed(\u001b[38;5;241m42\u001b[39m)  \n\u001b[0;32m      5\u001b[0m df_movies[\u001b[38;5;124m\"\u001b[39m\u001b[38;5;124mGenero\u001b[39m\u001b[38;5;124m\"\u001b[39m] \u001b[38;5;241m=\u001b[39m np\u001b[38;5;241m.\u001b[39mrandom\u001b[38;5;241m.\u001b[39mchoice(generos, size\u001b[38;5;241m=\u001b[39m\u001b[38;5;28mlen\u001b[39m(df_movies))\n\u001b[0;32m      7\u001b[0m peliculas_por_genero \u001b[38;5;241m=\u001b[39m df_movies[\u001b[38;5;124m'\u001b[39m\u001b[38;5;124mGenero\u001b[39m\u001b[38;5;124m'\u001b[39m]\u001b[38;5;241m.\u001b[39mvalue_counts()\n",
      "\u001b[1;31mNameError\u001b[0m: name 'np' is not defined"
     ]
    }
   ],
   "source": [
    "# Tu código aquí\n",
    "# NO HAY COLUMNA DE GENERO\n",
    "generos = [\"Accion\", \"Comedia\", \"Drama\", \"Ciencia Ficcion\", \"Aventura\", \"Animacion\"]\n",
    "np.random.seed(42)  \n",
    "df_movies[\"Genero\"] = np.random.choice(generos, size=len(df_movies))\n",
    "\n",
    "peliculas_por_genero = df_movies['Genero'].value_counts()\n",
    "print(peliculas_por_genero)"
   ]
  },
  {
   "cell_type": "markdown",
   "id": "aac0319c",
   "metadata": {},
   "source": [
    "**Pregunta:** ¿Existen películas con presupuesto o ingresos nulos?"
   ]
  },
  {
   "cell_type": "code",
   "execution_count": 27,
   "id": "2f114905",
   "metadata": {},
   "outputs": [
    {
     "name": "stdout",
     "output_type": "stream",
     "text": [
      "Empty DataFrame\n",
      "Columns: [Title, Budget, Lifetime Gross]\n",
      "Index: []\n"
     ]
    }
   ],
   "source": [
    "# Tu código aquí\n",
    "peliculas_presupuesto_ingresos_nulos = df_movies[(df_movies['Budget'] == 0) | (df_movies['Lifetime Gross'] == 0)]\n",
    "print(peliculas_presupuesto_ingresos_nulos[['Title', 'Budget', 'Lifetime Gross']])"
   ]
  },
  {
   "cell_type": "markdown",
   "id": "c6fcf2bc",
   "metadata": {},
   "source": [
    "**Pregunta:** Crea una nueva columna de rentabilidad (ganancia/presupuesto)."
   ]
  },
  {
   "cell_type": "code",
   "execution_count": 28,
   "id": "be53a91d",
   "metadata": {},
   "outputs": [
    {
     "name": "stdout",
     "output_type": "stream",
     "text": [
      "                                            Title      Ganancia      Budget  \\\n",
      "0              Star Wars: Episode IV - A New Hope  7.643980e+08  11000000.0   \n",
      "1  Star Wars: Episode V - The Empire Strikes Back  5.203751e+08  18000000.0   \n",
      "2      Star Wars: Episode VI - Return of the Jedi  4.426062e+08  32500000.0   \n",
      "3                                   Jurassic Park  1.046802e+09  63000000.0   \n",
      "4                   The Lost World: Jurassic Park  5.456390e+08  73000000.0   \n",
      "\n",
      "   Rentabilidad  \n",
      "0     69.490728  \n",
      "1     28.909726  \n",
      "2     13.618652  \n",
      "3     16.615910  \n",
      "4      7.474507  \n"
     ]
    }
   ],
   "source": [
    "# Tu código aquí\n",
    "df_movies['Rentabilidad'] = df_movies['Ganancia'] / df_movies['Budget']\n",
    "print(df_movies[['Title', 'Ganancia', 'Budget', 'Rentabilidad']].head())"
   ]
  },
  {
   "cell_type": "markdown",
   "id": "d5676dda",
   "metadata": {},
   "source": [
    "**Pregunta:** Agrupa por año de lanzamiento y calcula ingresos promedio."
   ]
  },
  {
   "cell_type": "code",
   "execution_count": 29,
   "id": "9b0304a0",
   "metadata": {},
   "outputs": [
    {
     "name": "stdout",
     "output_type": "stream",
     "text": [
      "Year\n",
      "1977                7.753980e+08\n",
      "1980                5.383751e+08\n",
      "1983                4.751062e+08\n",
      "1993                1.109802e+09\n",
      "1997                6.186390e+08\n",
      "1999                1.027083e+09\n",
      "2001                7.630552e+08\n",
      "2002                8.272016e+08\n",
      "2003                1.146436e+09\n",
      "2004                7.976608e+08\n",
      "2005                8.825604e+08\n",
      "2007                9.422017e+08\n",
      "2008                4.252836e+08\n",
      "2009                9.344830e+08\n",
      "2010                8.005019e+08\n",
      "2011                7.207521e+08\n",
      "2012                1.267923e+09\n",
      "2013                9.395408e+08\n",
      "2014                8.166577e+08\n",
      "2015                1.415795e+09\n",
      "2016                9.632719e+08\n",
      "2017                9.826514e+08\n",
      "2018                1.144405e+09\n",
      "2019                1.533010e+09\n",
      "2021                7.824844e+08\n",
      "2022                9.040731e+08\n",
      "Creator                      NaN\n",
      "George Lucas        1.977000e+03\n",
      "J. K. Rowling       2.001000e+03\n",
      "J. R. R. Tolkien    2.001000e+03\n",
      "Michael Crichton    1.993000e+03\n",
      "Stan Lee            2.008000e+03\n",
      "Name: Lifetime Gross, dtype: float64\n"
     ]
    }
   ],
   "source": [
    "# Tu código aquí\n",
    "ingresos_promedio_por_anio = df_movies.groupby('Year')['Lifetime Gross'].mean()\n",
    "print(ingresos_promedio_por_anio)"
   ]
  },
  {
   "cell_type": "markdown",
   "id": "6584ece9",
   "metadata": {},
   "source": [
    "**Pregunta:** Realiza una tabla dinámica que compare ingresos por género y año."
   ]
  },
  {
   "cell_type": "code",
   "execution_count": 31,
   "id": "a50ac86d",
   "metadata": {},
   "outputs": [],
   "source": [
    "# Tu código aquí\n",
    "\n",
    "# No hay tabla de genero xd"
   ]
  },
  {
   "cell_type": "markdown",
   "id": "3b4f305a",
   "metadata": {},
   "source": [
    "## 🌦️ Climate Insights Dataset"
   ]
  },
  {
   "cell_type": "markdown",
   "id": "52a90026",
   "metadata": {},
   "source": [
    "🔗 Dataset disponible en: [https://www.kaggle.com/datasets/goyaladi/climate-insights-dataset?utm_source=chatgpt.com](https://www.kaggle.com/datasets/goyaladi/climate-insights-dataset?utm_source=chatgpt.com)"
   ]
  },
  {
   "cell_type": "markdown",
   "id": "ecca5780",
   "metadata": {},
   "source": [
    "**Pregunta:** ¿Cuántos registros hay por año?"
   ]
  },
  {
   "cell_type": "code",
   "execution_count": 10,
   "id": "9231b5f3",
   "metadata": {},
   "outputs": [],
   "source": [
    "# Tu código aquí\n",
    "df_climate = pd.read_csv('../DataSets/climate_change_data.csv')"
   ]
  },
  {
   "cell_type": "code",
   "execution_count": 11,
   "id": "1daf20b0",
   "metadata": {},
   "outputs": [
    {
     "data": {
      "text/html": [
       "<div>\n",
       "<style scoped>\n",
       "    .dataframe tbody tr th:only-of-type {\n",
       "        vertical-align: middle;\n",
       "    }\n",
       "\n",
       "    .dataframe tbody tr th {\n",
       "        vertical-align: top;\n",
       "    }\n",
       "\n",
       "    .dataframe thead th {\n",
       "        text-align: right;\n",
       "    }\n",
       "</style>\n",
       "<table border=\"1\" class=\"dataframe\">\n",
       "  <thead>\n",
       "    <tr style=\"text-align: right;\">\n",
       "      <th></th>\n",
       "      <th>Date</th>\n",
       "      <th>Location</th>\n",
       "      <th>Country</th>\n",
       "      <th>Temperature</th>\n",
       "      <th>CO2 Emissions</th>\n",
       "      <th>Sea Level Rise</th>\n",
       "      <th>Precipitation</th>\n",
       "      <th>Humidity</th>\n",
       "      <th>Wind Speed</th>\n",
       "    </tr>\n",
       "  </thead>\n",
       "  <tbody>\n",
       "    <tr>\n",
       "      <th>0</th>\n",
       "      <td>2000-01-01 00:00:00.000000000</td>\n",
       "      <td>New Williamtown</td>\n",
       "      <td>Latvia</td>\n",
       "      <td>10.688986</td>\n",
       "      <td>403.118903</td>\n",
       "      <td>0.717506</td>\n",
       "      <td>13.835237</td>\n",
       "      <td>23.631256</td>\n",
       "      <td>18.492026</td>\n",
       "    </tr>\n",
       "    <tr>\n",
       "      <th>1</th>\n",
       "      <td>2000-01-01 20:09:43.258325832</td>\n",
       "      <td>North Rachel</td>\n",
       "      <td>South Africa</td>\n",
       "      <td>13.814430</td>\n",
       "      <td>396.663499</td>\n",
       "      <td>1.205715</td>\n",
       "      <td>40.974084</td>\n",
       "      <td>43.982946</td>\n",
       "      <td>34.249300</td>\n",
       "    </tr>\n",
       "    <tr>\n",
       "      <th>2</th>\n",
       "      <td>2000-01-02 16:19:26.516651665</td>\n",
       "      <td>West Williamland</td>\n",
       "      <td>French Guiana</td>\n",
       "      <td>27.323718</td>\n",
       "      <td>451.553155</td>\n",
       "      <td>-0.160783</td>\n",
       "      <td>42.697931</td>\n",
       "      <td>96.652600</td>\n",
       "      <td>34.124261</td>\n",
       "    </tr>\n",
       "    <tr>\n",
       "      <th>3</th>\n",
       "      <td>2000-01-03 12:29:09.774977497</td>\n",
       "      <td>South David</td>\n",
       "      <td>Vietnam</td>\n",
       "      <td>12.309581</td>\n",
       "      <td>422.404983</td>\n",
       "      <td>-0.475931</td>\n",
       "      <td>5.193341</td>\n",
       "      <td>47.467938</td>\n",
       "      <td>8.554563</td>\n",
       "    </tr>\n",
       "    <tr>\n",
       "      <th>4</th>\n",
       "      <td>2000-01-04 08:38:53.033303330</td>\n",
       "      <td>New Scottburgh</td>\n",
       "      <td>Moldova</td>\n",
       "      <td>13.210885</td>\n",
       "      <td>410.472999</td>\n",
       "      <td>1.135757</td>\n",
       "      <td>78.695280</td>\n",
       "      <td>61.789672</td>\n",
       "      <td>8.001164</td>\n",
       "    </tr>\n",
       "  </tbody>\n",
       "</table>\n",
       "</div>"
      ],
      "text/plain": [
       "                            Date          Location        Country  \\\n",
       "0  2000-01-01 00:00:00.000000000   New Williamtown         Latvia   \n",
       "1  2000-01-01 20:09:43.258325832      North Rachel   South Africa   \n",
       "2  2000-01-02 16:19:26.516651665  West Williamland  French Guiana   \n",
       "3  2000-01-03 12:29:09.774977497       South David        Vietnam   \n",
       "4  2000-01-04 08:38:53.033303330    New Scottburgh        Moldova   \n",
       "\n",
       "   Temperature  CO2 Emissions  Sea Level Rise  Precipitation   Humidity  \\\n",
       "0    10.688986     403.118903        0.717506      13.835237  23.631256   \n",
       "1    13.814430     396.663499        1.205715      40.974084  43.982946   \n",
       "2    27.323718     451.553155       -0.160783      42.697931  96.652600   \n",
       "3    12.309581     422.404983       -0.475931       5.193341  47.467938   \n",
       "4    13.210885     410.472999        1.135757      78.695280  61.789672   \n",
       "\n",
       "   Wind Speed  \n",
       "0   18.492026  \n",
       "1   34.249300  \n",
       "2   34.124261  \n",
       "3    8.554563  \n",
       "4    8.001164  "
      ]
     },
     "execution_count": 11,
     "metadata": {},
     "output_type": "execute_result"
    }
   ],
   "source": [
    "# Tu código aquí\n",
    "df_climate.head()"
   ]
  },
  {
   "cell_type": "code",
   "execution_count": 12,
   "id": "efb74993",
   "metadata": {},
   "outputs": [],
   "source": [
    "# Tu código aquí\n",
    "df_climate['Date'] = pd.to_datetime(df_climate['Date'])"
   ]
  },
  {
   "cell_type": "code",
   "execution_count": 13,
   "id": "1dce4e97",
   "metadata": {},
   "outputs": [
    {
     "name": "stdout",
     "output_type": "stream",
     "text": [
      "Date\n",
      "2000    436\n",
      "2016    436\n",
      "2012    436\n",
      "2020    436\n",
      "2005    435\n",
      "2001    435\n",
      "2003    435\n",
      "2015    435\n",
      "2018    435\n",
      "2004    435\n",
      "2007    435\n",
      "2011    435\n",
      "2008    435\n",
      "2009    435\n",
      "2002    434\n",
      "2006    434\n",
      "2014    434\n",
      "2010    434\n",
      "2013    434\n",
      "2017    434\n",
      "2019    434\n",
      "2021    434\n",
      "2022    434\n",
      "Name: count, dtype: int64\n"
     ]
    }
   ],
   "source": [
    "# Tu código aquí\n",
    "print(df_climate['Date'].dt.year.value_counts())"
   ]
  },
  {
   "cell_type": "markdown",
   "id": "58ab7dce",
   "metadata": {},
   "source": [
    "**Pregunta:** ¿Cuál es la temperatura media mensual más alta y más baja?"
   ]
  },
  {
   "cell_type": "code",
   "execution_count": 14,
   "id": "4c006a3d",
   "metadata": {},
   "outputs": [
    {
     "name": "stdout",
     "output_type": "stream",
     "text": [
      "Mes con temperatura más alta: 11 15.290563089539303\n",
      "Mes con temperatura más baja: 4 14.745375328695793\n"
     ]
    }
   ],
   "source": [
    "# Tu código aquí\n",
    "temp_mensual = df_climate.groupby(df_climate['Date'].dt.month)['Temperature'].mean()\n",
    "print(\"Mes con temperatura más alta:\", temp_mensual.idxmax(), temp_mensual.max())\n",
    "print(\"Mes con temperatura más baja:\", temp_mensual.idxmin(), temp_mensual.min())"
   ]
  },
  {
   "cell_type": "markdown",
   "id": "95b01411",
   "metadata": {},
   "source": [
    "**Pregunta:** ¿Qué meses tienen mayor precipitación?"
   ]
  },
  {
   "cell_type": "code",
   "execution_count": 16,
   "id": "9e848130",
   "metadata": {},
   "outputs": [
    {
     "name": "stdout",
     "output_type": "stream",
     "text": [
      "Date\n",
      "9     50.947790\n",
      "5     50.818566\n",
      "3     50.494378\n",
      "10    50.241029\n",
      "4     50.131147\n",
      "6     50.130129\n",
      "12    50.059991\n",
      "11    49.900964\n",
      "2     49.550014\n",
      "1     49.380073\n",
      "7     48.663987\n",
      "8     48.276644\n",
      "Name: Precipitation, dtype: float64\n"
     ]
    }
   ],
   "source": [
    "print(df_climate.groupby(df_climate['Date'].dt.month)['Precipitation'].mean().sort_values(ascending=False))"
   ]
  },
  {
   "cell_type": "markdown",
   "id": "adc9f249",
   "metadata": {},
   "source": [
    "**Pregunta:** ¿Existen valores faltantes en alguna columna?"
   ]
  },
  {
   "cell_type": "code",
   "execution_count": 17,
   "id": "e979ffb6",
   "metadata": {},
   "outputs": [
    {
     "name": "stdout",
     "output_type": "stream",
     "text": [
      "Date              0\n",
      "Location          0\n",
      "Country           0\n",
      "Temperature       0\n",
      "CO2 Emissions     0\n",
      "Sea Level Rise    0\n",
      "Precipitation     0\n",
      "Humidity          0\n",
      "Wind Speed        0\n",
      "dtype: int64\n"
     ]
    }
   ],
   "source": [
    "print(df_climate.isna().sum())"
   ]
  },
  {
   "cell_type": "markdown",
   "id": "10731388",
   "metadata": {},
   "source": [
    "**Pregunta:** Agrupa por estación del año y calcula la media de temperatura."
   ]
  },
  {
   "cell_type": "code",
   "execution_count": 18,
   "id": "bb9836a8",
   "metadata": {},
   "outputs": [
    {
     "data": {
      "text/plain": [
       "Date\n",
       "Invierno     14.957014\n",
       "Otoño        15.003823\n",
       "Primavera    14.809827\n",
       "Verano       14.974683\n",
       "Name: Temperature, dtype: float64"
      ]
     },
     "execution_count": 18,
     "metadata": {},
     "output_type": "execute_result"
    }
   ],
   "source": [
    "estaciones_lista = ['Invierno', 'Invierno', 'Primavera', 'Primavera', 'Primavera','Verano', 'Verano', 'Verano','Otoño', 'Otoño', 'Otoño','Invierno']\n",
    "df_climate.groupby(df_climate['Date'].dt.month.map(lambda m: estaciones_lista[m-1]))['Temperature'].mean()"
   ]
  },
  {
   "cell_type": "markdown",
   "id": "f77184d2",
   "metadata": {},
   "source": [
    "**Pregunta:** Crea una columna que clasifique los días como 'calurosos' o 'templados'."
   ]
  },
  {
   "cell_type": "code",
   "execution_count": 19,
   "id": "431bafe0",
   "metadata": {},
   "outputs": [],
   "source": [
    "df_climate['Clasificacion'] = df_climate['Temperature'].apply(lambda x: 'Caluroso' if x > 25 else 'Templado')"
   ]
  },
  {
   "cell_type": "markdown",
   "id": "4dac89b0",
   "metadata": {},
   "source": [
    "**Pregunta:** Genera una pivot_table que muestre la temperatura promedio por año y mes."
   ]
  },
  {
   "cell_type": "code",
   "execution_count": 20,
   "id": "510b6d89",
   "metadata": {},
   "outputs": [
    {
     "name": "stdout",
     "output_type": "stream",
     "text": [
      "Date         1          2          3          4          5          6   \\\n",
      "Date                                                                     \n",
      "2000  14.206357  13.932424  16.353462  14.956865  15.447593  15.312805   \n",
      "2001  14.708201  16.514600  13.973159  15.036136  14.800959  14.723588   \n",
      "2002  13.620897  14.760417  14.212325  13.850515  13.673576  13.502537   \n",
      "2003  14.885562  16.854469  14.114849  14.987196  14.129527  14.842865   \n",
      "2004  15.914895  13.717340  14.815031  15.814182  15.283723  15.279225   \n",
      "2005  15.310610  14.956032  16.763042  14.461071  16.430089  15.204628   \n",
      "2006  13.021321  14.050059  16.181762  14.232334  15.479402  16.405412   \n",
      "2007  14.419660  14.287890  14.973328  13.083154  15.425498  16.270065   \n",
      "2008  15.947948  15.317924  14.456524  14.146105  15.636002  15.028988   \n",
      "2009  15.004275  13.500589  14.986215  13.581644  13.945644  14.644463   \n",
      "2010  16.430713  16.602293  13.796567  14.304352  14.307113  14.671207   \n",
      "2011  14.799867  13.479437  15.693903  15.139654  14.684203  15.105863   \n",
      "2012  15.014508  14.846005  13.295717  15.058723  13.914326  14.940604   \n",
      "2013  14.817513  15.026508  15.169225  15.652592  15.699235  15.624625   \n",
      "2014  14.211216  17.750663  14.098651  16.129610  15.228852  13.684015   \n",
      "2015  14.241782  15.033940  14.004943  16.138518  14.196789  14.114472   \n",
      "2016  14.670316  15.497960  15.300441  15.048309  16.276688  13.696816   \n",
      "2017  14.916962  16.109878  14.875714  14.620956  14.702661  14.718316   \n",
      "2018  14.459322  13.972831  16.687060  15.402600  13.581579  15.342407   \n",
      "2019  14.979902  15.127148  15.228717  15.051345  15.698920  15.217087   \n",
      "2020  16.365128  16.494077  14.513129  13.769750  14.111491  15.371135   \n",
      "2021  15.004946  14.917552  15.611437  15.020317  14.224062  15.239940   \n",
      "2022  13.855182  16.237678  12.730452  13.669461  14.048418  14.726455   \n",
      "\n",
      "Date         7          8          9          10         11         12  \n",
      "Date                                                                    \n",
      "2000  15.628546  15.079403  14.245601  14.634586  15.791594  14.747044  \n",
      "2001  15.254576  15.039348  14.480689  14.634459  15.584229  14.721999  \n",
      "2002  15.576326  14.671967  16.328612  14.936858  15.609769  14.881162  \n",
      "2003  15.227706  15.968507  15.345826  14.831173  15.958393  14.932671  \n",
      "2004  16.452629  15.951439  14.279708  15.091279  15.018508  15.603309  \n",
      "2005  15.133922  15.070869  15.637863  15.126200  16.467725  14.171810  \n",
      "2006  14.475120  13.628186  15.726648  15.800620  14.232370  15.692140  \n",
      "2007  15.347496  15.393289  16.682545  15.696156  15.788519  15.113820  \n",
      "2008  14.423550  15.095044  14.290230  13.657560  15.499798  14.481284  \n",
      "2009  14.477702  16.043215  13.838197  13.994606  14.802935  14.848085  \n",
      "2010  14.375021  14.925134  14.717537  15.053192  14.369786  13.809852  \n",
      "2011  15.690435  15.687834  13.865234  15.437654  15.467247  16.068971  \n",
      "2012  14.006859  13.204141  15.538426  14.538936  15.288107  14.969530  \n",
      "2013  15.951572  14.614062  14.210218  14.339588  14.792342  13.711844  \n",
      "2014  15.053259  13.415877  15.484833  16.763142  15.735282  15.005282  \n",
      "2015  14.048836  14.783575  15.314595  14.618449  14.371005  14.182403  \n",
      "2016  14.551097  15.774117  13.637672  15.458059  15.202107  15.238861  \n",
      "2017  14.430206  16.142818  15.179017  13.392676  14.928116  14.321032  \n",
      "2018  14.933499  15.235965  13.976580  14.518844  13.422849  14.163839  \n",
      "2019  15.397701  14.697973  13.085429  14.792796  16.787389  15.076437  \n",
      "2020  14.828948  14.722336  16.534824  13.441375  15.383780  15.929036  \n",
      "2021  14.669112  14.603044  15.945297  15.155843  15.000113  16.138813  \n",
      "2022  15.354888  14.516170  14.715461  14.762771  16.138990  15.065756  \n"
     ]
    }
   ],
   "source": [
    "# Tu código aquí\n",
    "pivot_temp = pd.pivot_table(df_climate,values='Temperature',index=df_climate['Date'].dt.year,columns=df_climate['Date'].dt.month,aggfunc='mean')\n",
    "print(pivot_temp)"
   ]
  }
 ],
 "metadata": {
  "kernelspec": {
   "display_name": "base",
   "language": "python",
   "name": "python3"
  },
  "language_info": {
   "codemirror_mode": {
    "name": "ipython",
    "version": 3
   },
   "file_extension": ".py",
   "mimetype": "text/x-python",
   "name": "python",
   "nbconvert_exporter": "python",
   "pygments_lexer": "ipython3",
   "version": "3.12.8"
  }
 },
 "nbformat": 4,
 "nbformat_minor": 5
}
