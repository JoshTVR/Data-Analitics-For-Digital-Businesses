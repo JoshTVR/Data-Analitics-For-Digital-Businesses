{
 "cells": [
  {
   "cell_type": "markdown",
   "id": "7139c21e",
   "metadata": {},
   "source": [
    "## Operaciones con listas ##\n",
    "\n",
    "### Copiar una lista a otra ###"
   ]
  },
  {
   "cell_type": "code",
   "execution_count": 22,
   "id": "4e476699",
   "metadata": {},
   "outputs": [
    {
     "name": "stdout",
     "output_type": "stream",
     "text": [
      "lista 1: [1] lista 2: [1]\n"
     ]
    }
   ],
   "source": [
    "#Forma incorrecta de copiar una lista\n",
    "lista_1 = [1]\n",
    "lista_2 = lista_1\n",
    "\n",
    "print(f'lista 1: {lista_1} lista 2: {lista_2}')"
   ]
  },
  {
   "cell_type": "code",
   "execution_count": 23,
   "id": "88efaedc",
   "metadata": {},
   "outputs": [],
   "source": [
    "lista_2.append(10)"
   ]
  },
  {
   "cell_type": "code",
   "execution_count": 24,
   "id": "125fa11a",
   "metadata": {},
   "outputs": [
    {
     "name": "stdout",
     "output_type": "stream",
     "text": [
      "[1, 10]\n"
     ]
    }
   ],
   "source": [
    "print(lista_2)"
   ]
  },
  {
   "cell_type": "code",
   "execution_count": 25,
   "id": "c736b39b",
   "metadata": {},
   "outputs": [
    {
     "name": "stdout",
     "output_type": "stream",
     "text": [
      "[1, 10]\n"
     ]
    }
   ],
   "source": [
    "print(lista_1)"
   ]
  },
  {
   "cell_type": "markdown",
   "id": "84597d40",
   "metadata": {},
   "source": [
    "## Slicing o Rebanadas"
   ]
  },
  {
   "cell_type": "code",
   "execution_count": 26,
   "id": "261910fd",
   "metadata": {},
   "outputs": [
    {
     "data": {
      "text/plain": [
       "[3, 4, 5, 6, 7, 8]"
      ]
     },
     "execution_count": 26,
     "metadata": {},
     "output_type": "execute_result"
    }
   ],
   "source": [
    "lista_1 = [3,4,5,6,7,8]\n",
    "lista_1[:]"
   ]
  },
  {
   "cell_type": "code",
   "execution_count": 27,
   "id": "2a185811",
   "metadata": {},
   "outputs": [
    {
     "data": {
      "text/plain": [
       "[3, 4, 5, 6, 7, 8, 11]"
      ]
     },
     "execution_count": 27,
     "metadata": {},
     "output_type": "execute_result"
    }
   ],
   "source": [
    "lista_2 = lista_1\n",
    "lista_2.append(11)\n",
    "lista_2"
   ]
  },
  {
   "cell_type": "code",
   "execution_count": 28,
   "id": "e84b4a64",
   "metadata": {},
   "outputs": [
    {
     "data": {
      "text/plain": [
       "[3, 4, 5, 6, 7, 8, 11]"
      ]
     },
     "execution_count": 28,
     "metadata": {},
     "output_type": "execute_result"
    }
   ],
   "source": [
    "lista_1"
   ]
  },
  {
   "cell_type": "code",
   "execution_count": 29,
   "id": "7c6b655c",
   "metadata": {},
   "outputs": [
    {
     "name": "stdout",
     "output_type": "stream",
     "text": [
      "[4, 6, 7, 9, 12]\n"
     ]
    }
   ],
   "source": [
    "x = [4,6,7,9,12]\n",
    "y = []\n",
    "\n",
    "y = x.copy()\n",
    "\n",
    "print(y)"
   ]
  },
  {
   "cell_type": "markdown",
   "id": "a5e7c5bd",
   "metadata": {},
   "source": [
    "### Sliciong o rebanadas - indices negativos \n",
    "\n",
    "observa el fragmento de codigo a continuacion:\n",
    "\n",
    "`my_list[start:end]`\n",
    "\n",
    "para conformar:\n",
    "\n",
    "1. **start** es el indice del primer elemento incluido en la rebanada\n",
    "2. **end** es el indice del primer elemento no incluido en la rebanada"
   ]
  },
  {
   "cell_type": "code",
   "execution_count": 30,
   "id": "8102f50c",
   "metadata": {},
   "outputs": [
    {
     "name": "stdout",
     "output_type": "stream",
     "text": [
      "La lista original es: [10, 8, 6, 4, 2] LA NUEVA LSITA ES [10, 8, 6]\n"
     ]
    }
   ],
   "source": [
    "my_list = [10,8,6,4,2]\n",
    "my_list[0:3]\n",
    "my_list_2 = my_list[0:3]\n",
    "print(f'La lista original es: {my_list} LA NUEVA LSITA ES {my_list_2}')"
   ]
  },
  {
   "cell_type": "code",
   "execution_count": 31,
   "id": "ab7d5edb",
   "metadata": {},
   "outputs": [
    {
     "data": {
      "text/plain": [
       "[6, 4]"
      ]
     },
     "execution_count": 31,
     "metadata": {},
     "output_type": "execute_result"
    }
   ],
   "source": [
    "my_list[2:-1]"
   ]
  },
  {
   "cell_type": "code",
   "execution_count": 32,
   "id": "f8117c75",
   "metadata": {},
   "outputs": [
    {
     "data": {
      "text/plain": [
       "[8, 6, 4, 2]"
      ]
     },
     "execution_count": 32,
     "metadata": {},
     "output_type": "execute_result"
    }
   ],
   "source": [
    "my_list[1:]"
   ]
  },
  {
   "cell_type": "code",
   "execution_count": 33,
   "id": "c56888a2",
   "metadata": {},
   "outputs": [
    {
     "data": {
      "text/plain": [
       "[]"
      ]
     },
     "execution_count": 33,
     "metadata": {},
     "output_type": "execute_result"
    }
   ],
   "source": [
    "my_list[4:-1]"
   ]
  },
  {
   "cell_type": "code",
   "execution_count": 34,
   "id": "4d4940a6",
   "metadata": {},
   "outputs": [
    {
     "data": {
      "text/plain": [
       "[10, 4, 2]"
      ]
     },
     "execution_count": 34,
     "metadata": {},
     "output_type": "execute_result"
    }
   ],
   "source": [
    "# Dada la lista [10,8,6,4,2] eliminar los numeros 8 y 6 \n",
    "\n",
    "lista_3 = [10,8,6,4,2]\n",
    "del lista_3 [1:3]\n",
    "lista_3"
   ]
  },
  {
   "cell_type": "markdown",
   "id": "a115d322",
   "metadata": {},
   "source": [
    "### `pop` remueve el ultimo elemento de la lista si se llama sin argumentos\n"
   ]
  },
  {
   "cell_type": "code",
   "execution_count": 35,
   "id": "29e3ddbc",
   "metadata": {},
   "outputs": [
    {
     "data": {
      "text/plain": [
       "[10, 4]"
      ]
     },
     "execution_count": 35,
     "metadata": {},
     "output_type": "execute_result"
    }
   ],
   "source": [
    "lista_3.pop()\n",
    "lista_3"
   ]
  },
  {
   "cell_type": "code",
   "execution_count": 36,
   "id": "a42db728",
   "metadata": {},
   "outputs": [],
   "source": [
    "lista_3 = []\n",
    "\n",
    "lista_3.append(7)\n",
    "lista_3.append(5)\n",
    "lista_3.append(9)\n",
    "lista_3.append(11)\n",
    "lista_3.append(5)"
   ]
  },
  {
   "cell_type": "code",
   "execution_count": 37,
   "id": "07d0172d",
   "metadata": {},
   "outputs": [
    {
     "data": {
      "text/plain": [
       "[7, 5, 9, 11, 5]"
      ]
     },
     "execution_count": 37,
     "metadata": {},
     "output_type": "execute_result"
    }
   ],
   "source": [
    "lista_3"
   ]
  },
  {
   "cell_type": "code",
   "execution_count": 38,
   "id": "bf712606",
   "metadata": {},
   "outputs": [
    {
     "data": {
      "text/plain": [
       "[7, 9, 11, 5]"
      ]
     },
     "execution_count": 38,
     "metadata": {},
     "output_type": "execute_result"
    }
   ],
   "source": [
    "lista_3.pop(1)\n",
    "lista_3"
   ]
  },
  {
   "cell_type": "code",
   "execution_count": 39,
   "id": "31a9ae0a",
   "metadata": {},
   "outputs": [
    {
     "name": "stdout",
     "output_type": "stream",
     "text": [
      "<class 'list'>\n"
     ]
    }
   ],
   "source": [
    "list_example = [\"a\", 12, True]\n",
    "list_example\n",
    "print(type(list_example))"
   ]
  },
  {
   "cell_type": "code",
   "execution_count": 40,
   "id": "a07b9bcc",
   "metadata": {},
   "outputs": [
    {
     "name": "stdout",
     "output_type": "stream",
     "text": [
      "[['hallway', 100], ['kitchen', 85]]\n",
      "<class 'list'>\n"
     ]
    }
   ],
   "source": [
    "#Lista de listas \n",
    "list_house = [['hallway', 100], ['kitchen', 85]]\n",
    "print(list_house)\n",
    "print(type(list_house))"
   ]
  },
  {
   "cell_type": "code",
   "execution_count": 41,
   "id": "f3281cef",
   "metadata": {},
   "outputs": [
    {
     "data": {
      "text/plain": [
       "100"
      ]
     },
     "execution_count": 41,
     "metadata": {},
     "output_type": "execute_result"
    }
   ],
   "source": [
    "#Tiene acceso a la lista en la posicion 0 y su elemento en la posicion 1\n",
    "list_house[0][1]"
   ]
  },
  {
   "cell_type": "code",
   "execution_count": 42,
   "id": "f244ac12",
   "metadata": {},
   "outputs": [
    {
     "name": "stdout",
     "output_type": "stream",
     "text": [
      "['heydy', 22, 'ines', 54, 'henrry', 33, 'oscar', 38]\n"
     ]
    }
   ],
   "source": [
    "list_family = ['heydy', 22, 'ines', 54, 'henrry', 33, 'oscar', 38]\n",
    "print(list_family)"
   ]
  },
  {
   "cell_type": "code",
   "execution_count": 43,
   "id": "77939db4",
   "metadata": {},
   "outputs": [
    {
     "name": "stdout",
     "output_type": "stream",
     "text": [
      "ines\n",
      "ines\n"
     ]
    }
   ],
   "source": [
    "# Indexacion\n",
    "print(list_family[2])\n",
    "\n",
    "#Indexacion negativa\n",
    "print(list_family[-6])\n"
   ]
  },
  {
   "cell_type": "code",
   "execution_count": 44,
   "id": "71c827f0",
   "metadata": {},
   "outputs": [
    {
     "name": "stdout",
     "output_type": "stream",
     "text": [
      "[54, 'henrry']\n",
      "['heydy', 22, 'ines', 54, 'henrry']\n",
      "[33, 'oscar', 38]\n"
     ]
    }
   ],
   "source": [
    "# slicing [ start:end]\n",
    "#       inclusive: exclusive\n",
    "\n",
    "print(list_family[3:5]) # no toma el ultimo digito\n",
    "print(list_family[:5]) # Desde el inicio hasta la posicion 4\n",
    "print(list_family[5:]) # Desdde la posicion 5 hasta el final "
   ]
  },
  {
   "cell_type": "markdown",
   "id": "065e7ff5",
   "metadata": {},
   "source": [
    "## Manipulando listas"
   ]
  },
  {
   "cell_type": "code",
   "execution_count": 45,
   "id": "a9eb3136",
   "metadata": {},
   "outputs": [
    {
     "name": "stdout",
     "output_type": "stream",
     "text": [
      "['heydy', 22, 'ines', 54, 'henrry', 33, 'oscar', 38]\n"
     ]
    }
   ],
   "source": [
    "print(list_family)"
   ]
  },
  {
   "cell_type": "code",
   "execution_count": 46,
   "id": "cf64adc2",
   "metadata": {},
   "outputs": [
    {
     "name": "stdout",
     "output_type": "stream",
     "text": [
      "['heydy', 22, 'ines', 54, 'henrry', 33, 'oscar', 37]\n",
      "['Mayumy', 24, 'ines', 54, 'henrry', 33, 'oscar', 37]\n"
     ]
    }
   ],
   "source": [
    "list_family[-1] = 37 \n",
    "print(list_family)\n",
    "\n",
    "list_family[:2] = ['Mayumy', 24]\n",
    "print(list_family)"
   ]
  },
  {
   "cell_type": "code",
   "execution_count": 50,
   "id": "cc91be3e",
   "metadata": {},
   "outputs": [
    {
     "name": "stdout",
     "output_type": "stream",
     "text": [
      "['Achuchena', 12]\n"
     ]
    },
    {
     "ename": "IndexError",
     "evalue": "list assignment index out of range",
     "output_type": "error",
     "traceback": [
      "\u001b[1;31m---------------------------------------------------------------------------\u001b[0m",
      "\u001b[1;31mIndexError\u001b[0m                                Traceback (most recent call last)",
      "Cell \u001b[1;32mIn[50], line 7\u001b[0m\n\u001b[0;32m      4\u001b[0m \u001b[38;5;28mprint\u001b[39m(fam_Ext)\n\u001b[0;32m      6\u001b[0m \u001b[38;5;66;03m# Eliminar\u001b[39;00m\n\u001b[1;32m----> 7\u001b[0m \u001b[38;5;28;01mdel\u001b[39;00m(\u001b[43mfam_Ext\u001b[49m\u001b[43m[\u001b[49m\u001b[38;5;241;43m3\u001b[39;49m\u001b[43m]\u001b[49m)\n\u001b[0;32m      9\u001b[0m \u001b[38;5;66;03m# fam_Ext.pop(3)\u001b[39;00m\n\u001b[0;32m     10\u001b[0m \u001b[38;5;66;03m# fam_EXt.remove('54')\u001b[39;00m\n\u001b[0;32m     11\u001b[0m \u001b[38;5;28mprint\u001b[39m(fam_Ext)\n",
      "\u001b[1;31mIndexError\u001b[0m: list assignment index out of range"
     ]
    }
   ],
   "source": [
    "# Agregar y remover elementos de la lista\n",
    "# agregar \n",
    "fam_Ext = list_family = ['Achuchena',12]\n",
    "print(fam_Ext)\n",
    "\n",
    "# Eliminar\n",
    "del(fam_Ext[3])\n",
    "\n",
    "# fam_Ext.pop(3)\n",
    "# fam_EXt.remove('54')\n",
    "print(fam_Ext)"
   ]
  },
  {
   "cell_type": "code",
   "execution_count": 78,
   "id": "f9b84541",
   "metadata": {},
   "outputs": [
    {
     "name": "stdout",
     "output_type": "stream",
     "text": [
      "['hallway', 11.25, 'kitchen', 18.0, 'living room', 20.0, 'bedroom', 10.75, 'bathroom', 10.5, 'poolhouse', 24.5, 'garage', 15.45]\n",
      "['hallway', 11.25, 'kitchen', 18.0, 'living room', 20.0, 'bedroom', 10.75, 'bathroom', 10.5, 'garage', 15.45]\n"
     ]
    }
   ],
   "source": [
    "# Ejercicio - Eliminar 'poolhouse' y 24.5\n",
    "\n",
    "areas = [\"hallway\", 11.25, \"kitchen\", 18.0,\n",
    "        \"living room\", 20.0, \"bedroom\", 10.75, \n",
    "        \"bathroom\", 10.50, \"poolhouse\", 24.5, \n",
    "        \"garage\", 15.45]\n",
    "\n",
    "len(areas)\n",
    "print(areas)\n",
    "# range(areas[10:11])\n",
    "areas.pop(10)\n",
    "areas.pop(10)\n",
    "print(areas)\n"
   ]
  },
  {
   "cell_type": "markdown",
   "id": "8cdf555f",
   "metadata": {},
   "source": [
    "## Funciones y Paquetes\n",
    "\n",
    "### Función\n",
    "\n",
    "Es una pieza de código reutilizable, destinada a resolver una tarea en particular."
   ]
  },
  {
   "cell_type": "code",
   "execution_count": null,
   "id": "b3e072cf",
   "metadata": {},
   "outputs": [],
   "source": [
    "list_fam = [22, 54, 33, 38, 36]\n",
    "\n",
    "print(list_fam)\n",
    "print(f'El tamaño de la lista es {len(list_fam)}')\n",
    "print(f'El valor máximo de la lista es {max(list_fam)}')\n"
   ]
  },
  {
   "cell_type": "code",
   "execution_count": 80,
   "id": "35f5633c",
   "metadata": {},
   "outputs": [
    {
     "name": "stdout",
     "output_type": "stream",
     "text": [
      "[18.0, 20.2, 51.25]\n",
      "[18.0, 20.2, 51.25]\n",
      "[51.25, 20.2, 18.0]\n"
     ]
    }
   ],
   "source": [
    "first = [51.25,18.0,20.20]\n",
    "full_sorted = sorted(first) # Ordena de forma ascendente\n",
    "full_sorted_desc = sorted(first, reverse=True) #Ordena de forma descendente\n",
    "full_sorted_asc = sorted(first, reverse=False) #Ascendente\n",
    "\n",
    "print(full_sorted)\n",
    "print(full_sorted_asc)\n",
    "print(full_sorted_desc)"
   ]
  },
  {
   "cell_type": "markdown",
   "id": "5d6dce1e",
   "metadata": {},
   "source": [
    "### **Métodos**\n",
    "\n",
    "En Python todo es objeto. Y cada objeto tiene métodos específicos asociados.\n",
    "\n",
    "- Objetos con diferentes tipos pueden tener métodos con el mismo nombre.\n"
   ]
  },
  {
   "cell_type": "code",
   "execution_count": 83,
   "id": "ad8ec9f9",
   "metadata": {},
   "outputs": [
    {
     "name": "stdout",
     "output_type": "stream",
     "text": [
      "Indice: 4\n",
      "Contar: 2\n"
     ]
    }
   ],
   "source": [
    "lis_fam = ['heydy', 22, 'ines', 54, 'henry', 33, 'oscar', 54]\n",
    "\n",
    "print(f\"Indice: {lis_fam.index('henry')}\")  # Obtiene el índice de la lista\n",
    "print(f\"Contar: {lis_fam.count(54)}\")       # Contar cuántas veces aparece algo"
   ]
  },
  {
   "cell_type": "code",
   "execution_count": 84,
   "id": "1d734585",
   "metadata": {},
   "outputs": [
    {
     "name": "stdout",
     "output_type": "stream",
     "text": [
      "['heydy', 22, 'ines', 54, 33, 'oscar', 54]\n"
     ]
    }
   ],
   "source": [
    "del(lis_fam[lis_fam.index('henry')])\n",
    "print(lis_fam)"
   ]
  },
  {
   "cell_type": "code",
   "execution_count": 85,
   "id": "1a930562",
   "metadata": {},
   "outputs": [
    {
     "name": "stdout",
     "output_type": "stream",
     "text": [
      "Susel\n"
     ]
    }
   ],
   "source": [
    "# Lista de nombres\n",
    "lista_entornos = ['susel', 'bandon', 'alejandro', 'grabiel']\n",
    "\n",
    "# Capitaliza el primer nombre de la lista\n",
    "lista_entornos = lista_entornos[0].capitalize()\n",
    "print(lista_entornos)\n"
   ]
  },
  {
   "cell_type": "code",
   "execution_count": 86,
   "id": "f4d8add6",
   "metadata": {},
   "outputs": [
    {
     "name": "stdout",
     "output_type": "stream",
     "text": [
      "ma*umi\n"
     ]
    }
   ],
   "source": [
    "# Reemplaza la letra 'y' con un asterisco en el string \"mayumi\"\n",
    "name = \"mayumi\"\n",
    "print(name.replace('y', '*'))\n"
   ]
  },
  {
   "cell_type": "code",
   "execution_count": 1,
   "id": "6d53e144",
   "metadata": {},
   "outputs": [
    {
     "data": {
      "text/plain": [
       "'MAYUMI'"
      ]
     },
     "execution_count": 1,
     "metadata": {},
     "output_type": "execute_result"
    }
   ],
   "source": [
    "# Convierte el string a mayúsculas\n",
    "name = \"mayumi\"\n",
    "name.upper()\n"
   ]
  }
 ],
 "metadata": {
  "kernelspec": {
   "display_name": "Python (tensorflow_env_310)",
   "language": "python",
   "name": "tensorflow_env_310"
  },
  "language_info": {
   "codemirror_mode": {
    "name": "ipython",
    "version": 3
   },
   "file_extension": ".py",
   "mimetype": "text/x-python",
   "name": "python",
   "nbconvert_exporter": "python",
   "pygments_lexer": "ipython3",
   "version": "3.10.16"
  }
 },
 "nbformat": 4,
 "nbformat_minor": 5
}
