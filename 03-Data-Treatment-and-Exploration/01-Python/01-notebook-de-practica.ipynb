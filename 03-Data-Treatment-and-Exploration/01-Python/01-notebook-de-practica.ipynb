{
 "cells": [
  {
   "cell_type": "markdown",
   "id": "baefb6c7",
   "metadata": {},
   "source": [
    "# Notebook 01 – Fundamentos Profesionales de Python: Primeros Pasos, Profundización y Buenas Prácticas\n",
    "\n",
    "Este notebook sienta las bases de una programación en Python que no solo funcione, sino que sea **robusta, mantenible y alineada con estándares reales de la industria**. Aquí encontrarás, más allá de la “sintaxis mínima”, aplicaciones avanzadas del print, comentarios inteligentes, recomendaciones para scripts productivos, trucos de debugging y una perspectiva de cómo estos pequeños temas son cruciales en proyectos grandes."
   ]
  },
  {
   "cell_type": "markdown",
   "id": "4f31c8f7",
   "metadata": {},
   "source": [
    "## 1. Impresión de Resultados en Python: print() y Más Allá"
   ]
  },
  {
   "cell_type": "markdown",
   "id": "b13a2086",
   "metadata": {},
   "source": [
    "### Ejemplo básico"
   ]
  },
  {
   "cell_type": "code",
   "execution_count": null,
   "id": "8245ebff",
   "metadata": {},
   "outputs": [],
   "source": [
    "print(\"¡Hola, mundo!\")"
   ]
  },
  {
   "cell_type": "markdown",
   "id": "b60855b9",
   "metadata": {},
   "source": [
    "La instrucción más célebre del mundo Python, pero su profundidad va más allá."
   ]
  },
  {
   "cell_type": "markdown",
   "id": "dd74f11b",
   "metadata": {},
   "source": [
    "### Ejemplo 2: Prints de variables y textos combinados"
   ]
  },
  {
   "cell_type": "code",
   "execution_count": null,
   "id": "4949224f",
   "metadata": {},
   "outputs": [],
   "source": [
    "nombre = \"Jose\"\n",
    "print(\"Hola,\", nombre)\n",
    "print(f\"Hola, {nombre} – Bienvenido a tu primera automatización\")"
   ]
  },
  {
   "cell_type": "markdown",
   "id": "d80e56e2",
   "metadata": {},
   "source": [
    "- **¿Por qué es relevante?** El uso de variables dentro de los prints permite construir mensajes dinámicos y reportes personalizados.\n",
    "- **¿Qué pasa si olvidas la coma?** Obtendrás errores de sintaxis; aprender a leer esos errores te ahorra mucho tiempo después."
   ]
  },
  {
   "cell_type": "markdown",
   "id": "67fb4468",
   "metadata": {},
   "source": [
    "### Ejemplo 3: Múltiples prints, separadores y fin personalizado"
   ]
  },
  {
   "cell_type": "code",
   "execution_count": null,
   "id": "cb2763e7",
   "metadata": {},
   "outputs": [],
   "source": [
    "for i in range(3):\n",
    "    print(\"Iteración\", i, end=\" | \")\n",
    "print(\"\\n--- Fin del ciclo ---\")"
   ]
  },
  {
   "cell_type": "markdown",
   "id": "e9e59b5e",
   "metadata": {},
   "source": [
    "- El parámetro `end` controla cómo termina cada línea (`\\n` es salto de línea por defecto).\n",
    "- Útil para imprimir reportes en una sola línea o dar formato especial a tus logs."
   ]
  },
  {
   "cell_type": "markdown",
   "id": "86146b68",
   "metadata": {},
   "source": [
    "### Ejemplo 4: Prints para debug y monitoreo avanzado"
   ]
  },
  {
   "cell_type": "code",
   "execution_count": null,
   "id": "251a2ba8",
   "metadata": {},
   "outputs": [],
   "source": [
    "def calcular_precio_total(productos):\n",
    "    total = 0\n",
    "    for p in productos:\n",
    "        total += p['precio'] * p['cantidad']\n",
    "        print(f\"Procesando {p['nombre']}: Subtotal actual = {total}\")\n",
    "    return total\n",
    "\n",
    "productos = [\n",
    "    {'nombre': 'Camiseta', 'precio': 120, 'cantidad': 2},\n",
    "    {'nombre': 'Pantalón', 'precio': 300, 'cantidad': 1}\n",
    "]\n",
    "print(\"Total:\", calcular_precio_total(productos))"
   ]
  },
  {
   "cell_type": "markdown",
   "id": "fc3c4554",
   "metadata": {},
   "source": [
    "- **¿Por qué es útil?** Los prints intermedios permiten rastrear errores lógicos en funciones más grandes o procesos de automatización."
   ]
  },
  {
   "cell_type": "markdown",
   "id": "b2282b8c",
   "metadata": {},
   "source": [
    "### Ejemplo 5: Print con formateo avanzado (números, decimales, alineación)"
   ]
  },
  {
   "cell_type": "code",
   "execution_count": null,
   "id": "7f542d65",
   "metadata": {},
   "outputs": [],
   "source": [
    "valor = 123.45678\n",
    "print(f\"Valor redondeado a 2 decimales: {valor:.2f}\")\n",
    "print(f\"{'Producto':<10} | {'Precio':>8}\")\n",
    "print(f\"{'Camiseta':<10} | {120:>8.2f}\")"
   ]
  },
  {
   "cell_type": "markdown",
   "id": "f187b613",
   "metadata": {},
   "source": [
    "- El formateo avanzado permite generar reportes limpios y alineados, útiles en scripts que exportan datos o generan logs para auditoría."
   ]
  },
  {
   "cell_type": "markdown",
   "id": "c3349fa6",
   "metadata": {},
   "source": [
    "### Ejemplo 6: Uso de print en ciclos, condicionales y funciones"
   ]
  },
  {
   "cell_type": "code",
   "execution_count": null,
   "id": "9746fb13",
   "metadata": {},
   "outputs": [],
   "source": [
    "def verificar_paridad(n):\n",
    "    if n % 2 == 0:\n",
    "        print(f\"{n} es par\")\n",
    "    else:\n",
    "        print(f\"{n} es impar\")\n",
    "\n",
    "for numero in range(5, 10):\n",
    "    verificar_paridad(numero)"
   ]
  },
  {
   "cell_type": "markdown",
   "id": "a5eaac4f",
   "metadata": {},
   "source": [
    "- Demuestra el valor de print en lógica condicional y ciclos."
   ]
  },
  {
   "cell_type": "markdown",
   "id": "83141f0e",
   "metadata": {},
   "source": [
    "### Ejemplo 7: print para formateo en múltiples líneas"
   ]
  },
  {
   "cell_type": "code",
   "execution_count": null,
   "id": "3d25555a",
   "metadata": {},
   "outputs": [],
   "source": [
    "print(\"Lista de compras:\\n- Leche\\n- Pan\\n- Queso\")"
   ]
  },
  {
   "cell_type": "markdown",
   "id": "b5d32235",
   "metadata": {},
   "source": [
    "- El carácter `\\n` genera saltos de línea en la impresión."
   ]
  },
  {
   "cell_type": "markdown",
   "id": "f0785d3f",
   "metadata": {},
   "source": [
    "### Ejemplo 8: Print con caracteres especiales y Unicode"
   ]
  },
  {
   "cell_type": "code",
   "execution_count": null,
   "id": "a1f0a626",
   "metadata": {},
   "outputs": [],
   "source": [
    "print(\"Simbolo de grado: 25°C\")\n",
    "print(\"Emoji: 😀 – Python soporta Unicode\")"
   ]
  },
  {
   "cell_type": "markdown",
   "id": "9f6e1f5f",
   "metadata": {},
   "source": [
    "- Útil en reportes con símbolos, unidades o mensajes internacionales."
   ]
  },
  {
   "cell_type": "markdown",
   "id": "b7440adb",
   "metadata": {},
   "source": [
    "### Errores comunes y advertencias"
   ]
  },
  {
   "cell_type": "markdown",
   "id": "4a1ead45",
   "metadata": {},
   "source": [
    "- Imprimir sin querer en producción: Deja prints de debug y puedes saturar logs o mostrar datos sensibles. Solución: usa logs condicionales o el módulo `logging` para aplicaciones grandes.\n",
    "- Confundir comillas simples y dobles en prints anidados.\n",
    "- Usar print para depuración en programas grandes en vez de herramientas de logging estructurado."
   ]
  },
  {
   "cell_type": "markdown",
   "id": "b7caf845",
   "metadata": {},
   "source": [
    "### Conexión con temas futuros\n",
    "El dominio del print y del formateo es vital para la depuración de scripts complejos, la creación de reportes automáticos, y es la base para los logs estructurados en aplicaciones empresariales."
   ]
  },
  {
   "cell_type": "markdown",
   "id": "a9b44284",
   "metadata": {},
   "source": [
    "## 2. Comentarios en Python: Clave para la Escalabilidad y Mantenimiento"
   ]
  },
  {
   "cell_type": "code",
   "execution_count": null,
   "id": "c805a46b",
   "metadata": {},
   "outputs": [],
   "source": [
    "# Esto es un comentario\n",
    "nombre = \"Ana\"  # También se puede comentar al final de la línea"
   ]
  },
  {
   "cell_type": "code",
   "execution_count": null,
   "id": "b40c4896",
   "metadata": {},
   "outputs": [],
   "source": [
    "# Este bloque calcula el precio total,\n",
    "# aplicando impuestos y descuentos especiales"
   ]
  },
  {
   "cell_type": "code",
   "execution_count": null,
   "id": "8d4f3a50",
   "metadata": {},
   "outputs": [],
   "source": [
    "def calcular_area(base, altura):\n",
    "    \"\"\"\n",
    "    Calcula el área de un triángulo usando base y altura.\n",
    "    Devuelve un valor float.\n",
    "    No valida que los valores sean positivos.\n",
    "    \"\"\"\n",
    "    return (base * altura) / 2"
   ]
  },
  {
   "cell_type": "markdown",
   "id": "19db719f",
   "metadata": {},
   "source": [
    "- Los docstrings son usados por herramientas de documentación automática (Sphinx, help()), por lo que escribirlos bien es una señal de código profesional."
   ]
  },
  {
   "cell_type": "code",
   "execution_count": null,
   "id": "354ffd7b",
   "metadata": {},
   "outputs": [],
   "source": [
    "# Nota: Este script solo funciona en Python 3.7+ por el uso de f-strings"
   ]
  },
  {
   "cell_type": "markdown",
   "id": "3ed9cf41",
   "metadata": {},
   "source": [
    "### Ejemplo avanzado: Comentario para algoritmos complejos"
   ]
  },
  {
   "cell_type": "code",
   "execution_count": null,
   "id": "2790cb2a",
   "metadata": {},
   "outputs": [],
   "source": [
    "# Implementación de la búsqueda binaria.\n",
    "# Precondición: la lista debe estar ordenada.\n",
    "def busqueda_binaria(lista, objetivo):\n",
    "    \"\"\"\n",
    "    Busca un elemento en una lista ordenada usando el método binario.\n",
    "    Devuelve el índice si lo encuentra, -1 si no.\n",
    "    \"\"\"\n",
    "    izquierda, derecha = 0, len(lista) - 1\n",
    "    while izquierda <= derecha:\n",
    "        medio = (izquierda + derecha) // 2\n",
    "        if lista[medio] == objetivo:\n",
    "            return medio\n",
    "        elif lista[medio] < objetivo:\n",
    "            izquierda = medio + 1\n",
    "        else:\n",
    "            derecha = medio - 1\n",
    "    return -1"
   ]
  },
  {
   "cell_type": "markdown",
   "id": "a0a288a5",
   "metadata": {},
   "source": [
    "- Nota el uso de comentarios sobre precondiciones y docstrings explicativos para funciones no triviales."
   ]
  },
  {
   "cell_type": "markdown",
   "id": "89f09c2c",
   "metadata": {},
   "source": [
    "### Errores comunes en comentarios"
   ]
  },
  {
   "cell_type": "markdown",
   "id": "9a8dacc5",
   "metadata": {},
   "source": [
    "- Comentarios desactualizados: El código cambia, el comentario queda igual; puede confundir y ser peor que no comentar.\n",
    "- Comentarios obvios o redundantes: Ejemplo: `x = x + 1  # Suma uno a x` (innecesario si es obvio)."
   ]
  },
  {
   "cell_type": "markdown",
   "id": "fe3001e1",
   "metadata": {},
   "source": [
    "### Buenas prácticas avanzadas"
   ]
  },
  {
   "cell_type": "markdown",
   "id": "77dc14cc",
   "metadata": {},
   "source": [
    "- Comenta *por qué* tomaste una decisión, no solo qué hace la línea.\n",
    "- Usa comentarios para advertir sobre suposiciones, dependencias externas o aspectos críticos del negocio."
   ]
  },
  {
   "cell_type": "markdown",
   "id": "a185a511",
   "metadata": {},
   "source": [
    "### Aplicaciones reales\n",
    "- Los buenos comentarios son la base para la colaboración en equipos, la revisión de código (“code review”) y la transmisión de conocimiento entre proyectos y personas."
   ]
  },
  {
   "cell_type": "markdown",
   "id": "e92a1f7b",
   "metadata": {},
   "source": [
    "## 3. Ejecución de Scripts: Notebooks vs. Scripts Tradicionales"
   ]
  },
  {
   "cell_type": "markdown",
   "id": "9b6e320c",
   "metadata": {},
   "source": [
    "### Notebooks (Jupyter, Google Colab, etc.)\n",
    "- Permiten ejecutar bloques de código independientes.\n",
    "- Puedes combinar código, gráficos y texto explicativo (Markdown, LaTeX).\n",
    "- Ideales para exploración de datos, prototipado rápido y educación."
   ]
  },
  {
   "cell_type": "markdown",
   "id": "2da8322b",
   "metadata": {},
   "source": [
    "### Scripts tradicionales (.py)\n",
    "- Ejecución secuencial, de arriba a abajo.\n",
    "- Todo el estado se pierde entre ejecuciones (salvo que uses archivos o bases de datos para persistencia).\n",
    "- Ideal para automatización, pipelines y despliegue en producción."
   ]
  },
  {
   "cell_type": "markdown",
   "id": "a11726e5",
   "metadata": {},
   "source": [
    "### Ejemplo: uso de print en notebook vs. script"
   ]
  },
  {
   "cell_type": "code",
   "execution_count": null,
   "id": "1a633fb7",
   "metadata": {},
   "outputs": [],
   "source": [
    "# En notebook\n",
    "print(\"Resultado 1\")\n",
    "print(\"Resultado 2\")\n",
    "\n",
    "# En script\n",
    "print(\"Empieza el procesamiento...\")\n",
    "# lógica principal\n",
    "print(\"Script terminado.\")"
   ]
  },
  {
   "cell_type": "markdown",
   "id": "91546c87",
   "metadata": {},
   "source": [
    "- Consejo profesional: Usa los notebooks para experimentar y documentar procesos complejos antes de migrar tu solución a scripts productivos."
   ]
  },
  {
   "cell_type": "markdown",
   "id": "c8be6df6",
   "metadata": {},
   "source": [
    "## 4. Ejemplos de aplicación profesional (mini-casos prácticos)"
   ]
  },
  {
   "cell_type": "markdown",
   "id": "850e1335",
   "metadata": {},
   "source": [
    "### Automatización de reportes"
   ]
  },
  {
   "cell_type": "code",
   "execution_count": null,
   "id": "cca41438",
   "metadata": {},
   "outputs": [],
   "source": [
    "ventas_hoy = 15800\n",
    "print(f\"Reporte de ventas: ${ventas_hoy:,.2f} pesos hoy.\")\n",
    "# Integrarías luego este print con una función de envío de email."
   ]
  },
  {
   "cell_type": "markdown",
   "id": "3df3d7ad",
   "metadata": {},
   "source": [
    "### Validación de datos entrantes"
   ]
  },
  {
   "cell_type": "code",
   "execution_count": null,
   "id": "3027c857",
   "metadata": {},
   "outputs": [],
   "source": [
    "usuario = input(\"Introduce tu nombre: \")\n",
    "if not usuario:\n",
    "    print(\"Error: Debes introducir un nombre.\")\n",
    "else:\n",
    "    print(f\"¡Bienvenido, {usuario}!\")"
   ]
  },
  {
   "cell_type": "markdown",
   "id": "c1be474f",
   "metadata": {},
   "source": [
    "### Depuración de procesos batch"
   ]
  },
  {
   "cell_type": "code",
   "execution_count": null,
   "id": "512edbce",
   "metadata": {},
   "outputs": [],
   "source": [
    "for archivo in [\"datos1.csv\", \"datos2.csv\", \"datos3.csv\"]:\n",
    "    print(f\"Procesando archivo: {archivo}\")\n",
    "    # Aquí vendría el procesamiento real"
   ]
  },
  {
   "cell_type": "markdown",
   "id": "b5c0b411",
   "metadata": {},
   "source": [
    "### Más ejemplos enriquecedores"
   ]
  },
  {
   "cell_type": "markdown",
   "id": "541f0374",
   "metadata": {},
   "source": [
    "#### Uso de print en la exploración de datos"
   ]
  },
  {
   "cell_type": "code",
   "execution_count": null,
   "id": "fab4077e",
   "metadata": {},
   "outputs": [],
   "source": [
    "datos = [5, 3, 9, 1, 4]\n",
    "print(\"Datos originales:\", datos)\n",
    "datos_ordenados = sorted(datos)\n",
    "print(\"Datos ordenados:\", datos_ordenados)"
   ]
  },
  {
   "cell_type": "markdown",
   "id": "a2be0fa2",
   "metadata": {},
   "source": [
    "- La visualización directa de valores es clave para depurar algoritmos."
   ]
  },
  {
   "cell_type": "markdown",
   "id": "35aad4f1",
   "metadata": {},
   "source": [
    "#### Print y comentarios para trazabilidad en funciones recursivas"
   ]
  },
  {
   "cell_type": "code",
   "execution_count": null,
   "id": "8f239ba9",
   "metadata": {},
   "outputs": [],
   "source": [
    "def factorial(n):\n",
    "    # Calcula el factorial de un número de forma recursiva\n",
    "    if n == 0:\n",
    "        print(\"Base: factorial(0) = 1\")\n",
    "        return 1\n",
    "    print(f\"Llamando: factorial({n}) = {n} * factorial({n-1})\")\n",
    "    return n * factorial(n - 1)\n",
    "print(\"Factorial de 4:\", factorial(4))"
   ]
  },
  {
   "cell_type": "markdown",
   "id": "485515bc",
   "metadata": {},
   "source": [
    "#### Ejemplo avanzado: Print con listas, diccionarios y comprensión"
   ]
  },
  {
   "cell_type": "code",
   "execution_count": null,
   "id": "faba471b",
   "metadata": {},
   "outputs": [],
   "source": [
    "usuarios = [\n",
    "    {\"nombre\": \"Ana\", \"activo\": True},\n",
    "    {\"nombre\": \"Luis\", \"activo\": False}\n",
    "]\n",
    "activos = [u[\"nombre\"] for u in usuarios if u[\"activo\"]]\n",
    "print(\"Usuarios activos:\", activos)"
   ]
  },
  {
   "cell_type": "markdown",
   "id": "972dca5c",
   "metadata": {},
   "source": [
    "## 5. Mental Notes y Lecciones para el Futuro\n",
    "\n",
    "- Domina el print y el comentario como tus principales herramientas de debug, comunicación y auto-documentación.\n",
    "- Haz del hábito de comentar *por qué* haces las cosas, y revisa que tus comentarios sigan vigentes tras cada actualización.\n",
    "- Usa notebooks para experimentar, scripts para producción, y siempre documenta tus decisiones técnicas y suposiciones.\n"
   ]
  }
 ],
 "metadata": {
  "kernelspec": {
   "display_name": "base",
   "language": "python",
   "name": "python3"
  },
  "language_info": {
   "codemirror_mode": {
    "name": "ipython",
    "version": 3
   },
   "file_extension": ".py",
   "mimetype": "text/x-python",
   "name": "python",
   "nbconvert_exporter": "python",
   "pygments_lexer": "ipython3",
   "version": "3.12.8"
  }
 },
 "nbformat": 4,
 "nbformat_minor": 5
}
