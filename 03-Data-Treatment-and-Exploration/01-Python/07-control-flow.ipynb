{
 "cells": [
  {
   "cell_type": "markdown",
   "id": "a00c58bc",
   "metadata": {},
   "source": [
    "# Estructuras de Control\n",
    "\n",
    "### Objetivo:\n",
    "    -Conocer las estructuras de control, como funcionan y para que sirven \n",
    "---"
   ]
  },
  {
   "cell_type": "markdown",
   "id": "097283dd",
   "metadata": {},
   "source": [
    "## Desarrollo\n",
    " Queremos darle a nuestro programa la capacidad de tomar decisiones. esto puede hacerse utilizando una `sentencia if` utiliza una comparacion para obtener un boleean. si el booleano es `True`, el bloque de la sentencia se ejecuta se ejecutara. Si e; booleano es `False` nos saltamos a lo que sigfue despues del bloque"
   ]
  },
  {
   "cell_type": "code",
   "execution_count": 1,
   "id": "122cd605",
   "metadata": {},
   "outputs": [],
   "source": [
    "var_1 = 4\n",
    "var_2 = 5"
   ]
  },
  {
   "cell_type": "code",
   "execution_count": 2,
   "id": "f3203460",
   "metadata": {},
   "outputs": [
    {
     "name": "stdout",
     "output_type": "stream",
     "text": [
      "El bloque se ha ejecutado\n"
     ]
    }
   ],
   "source": [
    "if var_1 < var_2:\n",
    "    print(\"El bloque se ha ejecutado\")"
   ]
  },
  {
   "cell_type": "markdown",
   "id": "9798b000",
   "metadata": {},
   "source": [
    "1. *Desarrollar un programa que determine si un número es positivo*\n",
    "\n",
    "2. *Desarrollar un programa que determine si puedes votar*\n",
    "\n",
    "3. *Verificar si un número es par*\n",
    "\n",
    "4. *Realizar una simulación de un login, en el cual se debe verificar si la contraseña es correcta*\n",
    "\n",
    "5. *Realizar un programa que determine si un alumno está aprobado, la calificación mínima es 7*"
   ]
  },
  {
   "cell_type": "code",
   "execution_count": 3,
   "id": "24085705",
   "metadata": {},
   "outputs": [
    {
     "name": "stdout",
     "output_type": "stream",
     "text": [
      "el numero 1 es menor que el numero 6\n"
     ]
    }
   ],
   "source": [
    "var_1 = int(input(\"Introduce el valor\"))\n",
    "var_2 = int(input(\"Introduce el valor\"))\n",
    "\n",
    "if var_1<var_2:\n",
    "    print(f\"el numero {var_1} es menor que el numero {var_2}\")"
   ]
  },
  {
   "cell_type": "code",
   "execution_count": 4,
   "id": "cb6e3a9c",
   "metadata": {},
   "outputs": [],
   "source": [
    "#Funcion que solicita un valor\n",
    "\n",
    "def solicitar():\n",
    "    return  int(input(\"Introduce el valor\"))"
   ]
  },
  {
   "cell_type": "code",
   "execution_count": 5,
   "id": "21fb5e41",
   "metadata": {},
   "outputs": [],
   "source": [
    "# funcion que hace la comparacion\n",
    "\n",
    "def comparar (valor_uno, valor_dos):\n",
    "    if valor_uno < valor_dos:\n",
    "         print(f\"el numero {var_1} es menor que el numero {var_2}\")"
   ]
  },
  {
   "cell_type": "code",
   "execution_count": 6,
   "id": "80423821",
   "metadata": {},
   "outputs": [
    {
     "ename": "ValueError",
     "evalue": "invalid literal for int() with base 10: ''",
     "output_type": "error",
     "traceback": [
      "\u001b[1;31m---------------------------------------------------------------------------\u001b[0m",
      "\u001b[1;31mValueError\u001b[0m                                Traceback (most recent call last)",
      "Cell \u001b[1;32mIn[6], line 2\u001b[0m\n\u001b[0;32m      1\u001b[0m \u001b[38;5;66;03m#ejecuciom de ;as funciones\u001b[39;00m\n\u001b[1;32m----> 2\u001b[0m var_1 \u001b[38;5;241m=\u001b[39m \u001b[43msolicitar\u001b[49m\u001b[43m(\u001b[49m\u001b[43m)\u001b[49m\n\u001b[0;32m      3\u001b[0m var_2 \u001b[38;5;241m=\u001b[39m solicitar()\n\u001b[0;32m      5\u001b[0m comparar(var_1, var_2)\n",
      "Cell \u001b[1;32mIn[4], line 4\u001b[0m, in \u001b[0;36msolicitar\u001b[1;34m()\u001b[0m\n\u001b[0;32m      3\u001b[0m \u001b[38;5;28;01mdef\u001b[39;00m\u001b[38;5;250m \u001b[39m\u001b[38;5;21msolicitar\u001b[39m():\n\u001b[1;32m----> 4\u001b[0m     \u001b[38;5;28;01mreturn\u001b[39;00m  \u001b[38;5;28;43mint\u001b[39;49m\u001b[43m(\u001b[49m\u001b[38;5;28;43minput\u001b[39;49m\u001b[43m(\u001b[49m\u001b[38;5;124;43m\"\u001b[39;49m\u001b[38;5;124;43mIntroduce el valor\u001b[39;49m\u001b[38;5;124;43m\"\u001b[39;49m\u001b[43m)\u001b[49m\u001b[43m)\u001b[49m\n",
      "\u001b[1;31mValueError\u001b[0m: invalid literal for int() with base 10: ''"
     ]
    }
   ],
   "source": [
    "#ejecuciom de ;as funciones\n",
    "var_1 = solicitar()\n",
    "var_2 = solicitar()\n",
    "\n",
    "comparar(var_1, var_2)"
   ]
  },
  {
   "cell_type": "code",
   "execution_count": null,
   "id": "efcf2a3b",
   "metadata": {},
   "outputs": [],
   "source": [
    "def numpos():\n",
    "    return int(input(\"Introduce el numero\"))\n",
    "num = numpos()\n",
    "if num >= 0:\n",
    "    print(f\"numero:\",num)"
   ]
  },
  {
   "cell_type": "code",
   "execution_count": null,
   "id": "284635ec",
   "metadata": {},
   "outputs": [],
   "source": [
    "def votar():\n",
    "    return int(input(\"introduce tu edad\"))\n",
    "edad = votar()\n",
    "if edad >= 18:\n",
    "    print(\"Tu eres mayor ya puedes votar\")"
   ]
  },
  {
   "cell_type": "code",
   "execution_count": null,
   "id": "10e4dedc",
   "metadata": {},
   "outputs": [],
   "source": [
    "def par():\n",
    "    return int(input(\"Introduce el numero\"))\n",
    "npar = par() \n",
    "if  npar :\n",
    "    print(f\"numero:\",num)"
   ]
  }
 ],
 "metadata": {
  "kernelspec": {
   "display_name": "base",
   "language": "python",
   "name": "python3"
  },
  "language_info": {
   "codemirror_mode": {
    "name": "ipython",
    "version": 3
   },
   "file_extension": ".py",
   "mimetype": "text/x-python",
   "name": "python",
   "nbconvert_exporter": "python",
   "pygments_lexer": "ipython3",
   "version": "3.12.8"
  }
 },
 "nbformat": 4,
 "nbformat_minor": 5
}
