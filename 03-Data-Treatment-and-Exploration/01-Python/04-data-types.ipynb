{
 "cells": [
  {
   "cell_type": "markdown",
   "id": "53460323",
   "metadata": {},
   "source": [
    "## Tipos de datos\n",
    "\n",
    "### Objetivos\n",
    "- Hablar sobre los 4 tipos de datos basicos que tiene python\n",
    "\n",
    "---\n",
    "\n"
   ]
  },
  {
   "cell_type": "markdown",
   "id": "7c5b0bfb",
   "metadata": {},
   "source": [
    "Se tienen 4 tipos de datos basicos en python. Veamos en codigo y utilicemos las funciones `print` y `type` para imprimir los tipos de manera explicita:"
   ]
  },
  {
   "cell_type": "code",
   "execution_count": 9,
   "id": "87f05401",
   "metadata": {},
   "outputs": [
    {
     "name": "stdout",
     "output_type": "stream",
     "text": [
      "4598\n",
      "<class 'int'>\n",
      "\n",
      "\n",
      "369.432\n",
      "<class 'float'>\n",
      "\n",
      "\n",
      "Yo soy una cadena de textos\n",
      "<class 'str'>\n",
      "\n",
      "\n",
      "True\n",
      "<class 'bool'>\n",
      "\n",
      "\n"
     ]
    }
   ],
   "source": [
    "# Este es un numero\n",
    "\n",
    "var_int = 4598\n",
    "\n",
    "print(var_int)\n",
    "print(type(var_int))\n",
    "print('\\n')\n",
    "\n",
    "# Este es un numero decimal\n",
    "\n",
    "var_float = 369.432\n",
    "print(var_float)\n",
    "print(type(var_float))\n",
    "print('\\n')\n",
    "\n",
    "# Este es un String\n",
    "\n",
    "var_string = \"Yo soy una cadena de textos\"\n",
    "print(var_string)\n",
    "print(type(var_string))\n",
    "print('\\n')\n",
    "\n",
    "\n",
    "# Este es un booleano\n",
    "\n",
    "var_boolean = True\n",
    "print(var_boolean)\n",
    "print(type(var_boolean))\n",
    "print('\\n')\n"
   ]
  },
  {
   "cell_type": "code",
   "execution_count": null,
   "id": "bd09a20f",
   "metadata": {},
   "outputs": [],
   "source": []
  }
 ],
 "metadata": {
  "kernelspec": {
   "display_name": "base",
   "language": "python",
   "name": "python3"
  },
  "language_info": {
   "codemirror_mode": {
    "name": "ipython",
    "version": 3
   },
   "file_extension": ".py",
   "mimetype": "text/x-python",
   "name": "python",
   "nbconvert_exporter": "python",
   "pygments_lexer": "ipython3",
   "version": "3.12.8"
  }
 },
 "nbformat": 4,
 "nbformat_minor": 5
}
